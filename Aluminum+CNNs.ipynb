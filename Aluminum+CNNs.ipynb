{
 "cells": [
  {
   "cell_type": "markdown",
   "metadata": {},
   "source": [
    "# 1. 载入数据"
   ]
  },
  {
   "cell_type": "markdown",
   "metadata": {},
   "source": [
    "首先记得指明你的data_dir："
   ]
  },
  {
   "cell_type": "code",
   "execution_count": 1,
   "metadata": {},
   "outputs": [],
   "source": [
    "data_dir = './data/Aluminum/'"
   ]
  },
  {
   "cell_type": "code",
   "execution_count": 2,
   "metadata": {},
   "outputs": [],
   "source": [
    "import tensorflow"
   ]
  },
  {
   "cell_type": "code",
   "execution_count": 3,
   "metadata": {},
   "outputs": [],
   "source": [
    "import os\n",
    "from tensorflow.keras.layers import *\n",
    "from tensorflow.keras.models import *\n",
    "from tensorflow.keras.callbacks import *\n",
    "from tensorflow.keras.optimizers import *\n",
    "from tensorflow.keras.applications import *\n",
    "from tensorflow.keras.preprocessing.image import *"
   ]
  },
  {
   "cell_type": "code",
   "execution_count": 4,
   "metadata": {},
   "outputs": [],
   "source": [
    "import pandas as pd\n",
    "import tensorflow as tf\n",
    "from tensorflow import keras\n",
    "from tensorflow.keras import layers\n",
    "from keras.applications import imagenet_utils"
   ]
  },
  {
   "cell_type": "code",
   "execution_count": 5,
   "metadata": {},
   "outputs": [],
   "source": [
    "import warnings\n",
    "warnings.filterwarnings('ignore')"
   ]
  },
  {
   "cell_type": "markdown",
   "metadata": {},
   "source": [
    "读取子文件的名称作为真实的类别标签："
   ]
  },
  {
   "cell_type": "code",
   "execution_count": 6,
   "metadata": {},
   "outputs": [
    {
     "data": {
      "text/plain": [
       "['blister',\n",
       " 'bump',\n",
       " 'coating_crack',\n",
       " 'convexity',\n",
       " 'damage',\n",
       " 'dirty_spot',\n",
       " 'indentation',\n",
       " 'jet_flow',\n",
       " 'orange_peel',\n",
       " 'rub_mark']"
      ]
     },
     "execution_count": 6,
     "metadata": {},
     "output_type": "execute_result"
    }
   ],
   "source": [
    "os.listdir(data_dir)"
   ]
  },
  {
   "cell_type": "code",
   "execution_count": 7,
   "metadata": {},
   "outputs": [],
   "source": [
    "labels = os.listdir(data_dir)"
   ]
  },
  {
   "cell_type": "markdown",
   "metadata": {},
   "source": [
    "然后可以读取子文件夹里面的每张图片作为输入："
   ]
  },
  {
   "cell_type": "code",
   "execution_count": 8,
   "metadata": {},
   "outputs": [
    {
     "data": {
      "text/plain": [
       "'./data/Aluminum/blister'"
      ]
     },
     "execution_count": 8,
     "metadata": {},
     "output_type": "execute_result"
    }
   ],
   "source": [
    "os.path.join(data_dir, labels[0])"
   ]
  },
  {
   "cell_type": "code",
   "execution_count": 9,
   "metadata": {},
   "outputs": [
    {
     "data": {
      "text/plain": [
       "['blister_1.jpg',\n",
       " 'blister_10.jpg',\n",
       " 'blister_11.jpg',\n",
       " 'blister_12.jpg',\n",
       " 'blister_13.jpg',\n",
       " 'blister_14.jpg',\n",
       " 'blister_15.jpg',\n",
       " 'blister_16.jpg',\n",
       " 'blister_17.jpg',\n",
       " 'blister_18.jpg',\n",
       " 'blister_19.jpg',\n",
       " 'blister_2.jpg',\n",
       " 'blister_20.jpg',\n",
       " 'blister_21.jpg',\n",
       " 'blister_22.jpg',\n",
       " 'blister_3.jpg',\n",
       " 'blister_4.jpg',\n",
       " 'blister_5.jpg',\n",
       " 'blister_6.jpg',\n",
       " 'blister_7.jpg',\n",
       " 'blister_8.jpg',\n",
       " 'blister_9.jpg']"
      ]
     },
     "execution_count": 9,
     "metadata": {},
     "output_type": "execute_result"
    }
   ],
   "source": [
    "os.listdir(os.path.join(data_dir, labels[0]))"
   ]
  },
  {
   "cell_type": "markdown",
   "metadata": {},
   "source": [
    "记录对应的图片完整路径和对应的标签："
   ]
  },
  {
   "cell_type": "code",
   "execution_count": 10,
   "metadata": {},
   "outputs": [],
   "source": [
    "X_list = []\n",
    "y_list = []\n",
    "labels = os.listdir(data_dir)\n",
    "for label in labels:\n",
    "    label_path = os.path.join(data_dir, label)\n",
    "    fns = os.listdir(label_path)\n",
    "    for fn in fns:\n",
    "        X_list.append(os.path.join(label_path, fn))\n",
    "        y_list.append(label)"
   ]
  },
  {
   "cell_type": "code",
   "execution_count": 11,
   "metadata": {},
   "outputs": [
    {
     "data": {
      "text/plain": [
       "['./data/Aluminum/blister\\\\blister_1.jpg',\n",
       " './data/Aluminum/blister\\\\blister_10.jpg',\n",
       " './data/Aluminum/blister\\\\blister_11.jpg',\n",
       " './data/Aluminum/blister\\\\blister_12.jpg',\n",
       " './data/Aluminum/blister\\\\blister_13.jpg']"
      ]
     },
     "execution_count": 11,
     "metadata": {},
     "output_type": "execute_result"
    }
   ],
   "source": [
    "X_list[:5]"
   ]
  },
  {
   "cell_type": "code",
   "execution_count": 12,
   "metadata": {},
   "outputs": [
    {
     "data": {
      "text/plain": [
       "['blister', 'blister', 'blister', 'blister', 'blister']"
      ]
     },
     "execution_count": 12,
     "metadata": {},
     "output_type": "execute_result"
    }
   ],
   "source": [
    "y_list[:5]"
   ]
  },
  {
   "cell_type": "code",
   "execution_count": 13,
   "metadata": {},
   "outputs": [
    {
     "data": {
      "text/plain": [
       "['./data/Aluminum/rub_mark\\\\rub_mark_5.jpg',\n",
       " './data/Aluminum/rub_mark\\\\rub_mark_6.jpg',\n",
       " './data/Aluminum/rub_mark\\\\rub_mark_7.jpg',\n",
       " './data/Aluminum/rub_mark\\\\rub_mark_8.jpg',\n",
       " './data/Aluminum/rub_mark\\\\rub_mark_9.jpg']"
      ]
     },
     "execution_count": 13,
     "metadata": {},
     "output_type": "execute_result"
    }
   ],
   "source": [
    "X_list[-5:]"
   ]
  },
  {
   "cell_type": "code",
   "execution_count": 14,
   "metadata": {},
   "outputs": [
    {
     "data": {
      "text/plain": [
       "['rub_mark', 'rub_mark', 'rub_mark', 'rub_mark', 'rub_mark']"
      ]
     },
     "execution_count": 14,
     "metadata": {},
     "output_type": "execute_result"
    }
   ],
   "source": [
    "y_list[-5:]"
   ]
  },
  {
   "cell_type": "code",
   "execution_count": 15,
   "metadata": {},
   "outputs": [
    {
     "data": {
      "text/plain": [
       "372"
      ]
     },
     "execution_count": 15,
     "metadata": {},
     "output_type": "execute_result"
    }
   ],
   "source": [
    "len(X_list)"
   ]
  },
  {
   "cell_type": "code",
   "execution_count": 16,
   "metadata": {},
   "outputs": [
    {
     "data": {
      "text/plain": [
       "372"
      ]
     },
     "execution_count": 16,
     "metadata": {},
     "output_type": "execute_result"
    }
   ],
   "source": [
    "len(y_list)"
   ]
  },
  {
   "cell_type": "markdown",
   "metadata": {},
   "source": [
    "转换为DataFrame的格式："
   ]
  },
  {
   "cell_type": "code",
   "execution_count": 17,
   "metadata": {},
   "outputs": [],
   "source": [
    "import pandas as pd\n",
    "df = pd.DataFrame({'X': X_list, 'y_name': y_list}, index=range(len(X_list)))"
   ]
  },
  {
   "cell_type": "code",
   "execution_count": 18,
   "metadata": {},
   "outputs": [
    {
     "data": {
      "text/html": [
       "<div>\n",
       "<style scoped>\n",
       "    .dataframe tbody tr th:only-of-type {\n",
       "        vertical-align: middle;\n",
       "    }\n",
       "\n",
       "    .dataframe tbody tr th {\n",
       "        vertical-align: top;\n",
       "    }\n",
       "\n",
       "    .dataframe thead th {\n",
       "        text-align: right;\n",
       "    }\n",
       "</style>\n",
       "<table border=\"1\" class=\"dataframe\">\n",
       "  <thead>\n",
       "    <tr style=\"text-align: right;\">\n",
       "      <th></th>\n",
       "      <th>X</th>\n",
       "      <th>y_name</th>\n",
       "    </tr>\n",
       "  </thead>\n",
       "  <tbody>\n",
       "    <tr>\n",
       "      <th>0</th>\n",
       "      <td>./data/Aluminum/blister\\blister_1.jpg</td>\n",
       "      <td>blister</td>\n",
       "    </tr>\n",
       "    <tr>\n",
       "      <th>1</th>\n",
       "      <td>./data/Aluminum/blister\\blister_10.jpg</td>\n",
       "      <td>blister</td>\n",
       "    </tr>\n",
       "    <tr>\n",
       "      <th>2</th>\n",
       "      <td>./data/Aluminum/blister\\blister_11.jpg</td>\n",
       "      <td>blister</td>\n",
       "    </tr>\n",
       "    <tr>\n",
       "      <th>3</th>\n",
       "      <td>./data/Aluminum/blister\\blister_12.jpg</td>\n",
       "      <td>blister</td>\n",
       "    </tr>\n",
       "    <tr>\n",
       "      <th>4</th>\n",
       "      <td>./data/Aluminum/blister\\blister_13.jpg</td>\n",
       "      <td>blister</td>\n",
       "    </tr>\n",
       "  </tbody>\n",
       "</table>\n",
       "</div>"
      ],
      "text/plain": [
       "                                        X   y_name\n",
       "0   ./data/Aluminum/blister\\blister_1.jpg  blister\n",
       "1  ./data/Aluminum/blister\\blister_10.jpg  blister\n",
       "2  ./data/Aluminum/blister\\blister_11.jpg  blister\n",
       "3  ./data/Aluminum/blister\\blister_12.jpg  blister\n",
       "4  ./data/Aluminum/blister\\blister_13.jpg  blister"
      ]
     },
     "execution_count": 18,
     "metadata": {},
     "output_type": "execute_result"
    }
   ],
   "source": [
    "df.head()"
   ]
  },
  {
   "cell_type": "markdown",
   "metadata": {},
   "source": [
    "将类别名称进行编码："
   ]
  },
  {
   "cell_type": "code",
   "execution_count": 19,
   "metadata": {},
   "outputs": [],
   "source": [
    "from sklearn.preprocessing import LabelEncoder\n",
    "encoder = LabelEncoder()\n",
    "df['y'] = encoder.fit_transform(df['y_name'])"
   ]
  },
  {
   "cell_type": "code",
   "execution_count": 20,
   "metadata": {},
   "outputs": [
    {
     "data": {
      "text/html": [
       "<div>\n",
       "<style scoped>\n",
       "    .dataframe tbody tr th:only-of-type {\n",
       "        vertical-align: middle;\n",
       "    }\n",
       "\n",
       "    .dataframe tbody tr th {\n",
       "        vertical-align: top;\n",
       "    }\n",
       "\n",
       "    .dataframe thead th {\n",
       "        text-align: right;\n",
       "    }\n",
       "</style>\n",
       "<table border=\"1\" class=\"dataframe\">\n",
       "  <thead>\n",
       "    <tr style=\"text-align: right;\">\n",
       "      <th></th>\n",
       "      <th>X</th>\n",
       "      <th>y_name</th>\n",
       "      <th>y</th>\n",
       "    </tr>\n",
       "  </thead>\n",
       "  <tbody>\n",
       "    <tr>\n",
       "      <th>0</th>\n",
       "      <td>./data/Aluminum/blister\\blister_1.jpg</td>\n",
       "      <td>blister</td>\n",
       "      <td>0</td>\n",
       "    </tr>\n",
       "    <tr>\n",
       "      <th>1</th>\n",
       "      <td>./data/Aluminum/blister\\blister_10.jpg</td>\n",
       "      <td>blister</td>\n",
       "      <td>0</td>\n",
       "    </tr>\n",
       "    <tr>\n",
       "      <th>2</th>\n",
       "      <td>./data/Aluminum/blister\\blister_11.jpg</td>\n",
       "      <td>blister</td>\n",
       "      <td>0</td>\n",
       "    </tr>\n",
       "    <tr>\n",
       "      <th>3</th>\n",
       "      <td>./data/Aluminum/blister\\blister_12.jpg</td>\n",
       "      <td>blister</td>\n",
       "      <td>0</td>\n",
       "    </tr>\n",
       "    <tr>\n",
       "      <th>4</th>\n",
       "      <td>./data/Aluminum/blister\\blister_13.jpg</td>\n",
       "      <td>blister</td>\n",
       "      <td>0</td>\n",
       "    </tr>\n",
       "  </tbody>\n",
       "</table>\n",
       "</div>"
      ],
      "text/plain": [
       "                                        X   y_name  y\n",
       "0   ./data/Aluminum/blister\\blister_1.jpg  blister  0\n",
       "1  ./data/Aluminum/blister\\blister_10.jpg  blister  0\n",
       "2  ./data/Aluminum/blister\\blister_11.jpg  blister  0\n",
       "3  ./data/Aluminum/blister\\blister_12.jpg  blister  0\n",
       "4  ./data/Aluminum/blister\\blister_13.jpg  blister  0"
      ]
     },
     "execution_count": 20,
     "metadata": {},
     "output_type": "execute_result"
    }
   ],
   "source": [
    "df.head()"
   ]
  },
  {
   "cell_type": "code",
   "execution_count": 21,
   "metadata": {},
   "outputs": [
    {
     "data": {
      "text/plain": [
       "9"
      ]
     },
     "execution_count": 21,
     "metadata": {},
     "output_type": "execute_result"
    }
   ],
   "source": [
    "max(df['y'])"
   ]
  },
  {
   "cell_type": "markdown",
   "metadata": {},
   "source": [
    "一共9+1=10种类别。"
   ]
  },
  {
   "cell_type": "code",
   "execution_count": 22,
   "metadata": {},
   "outputs": [],
   "source": [
    "num_classes = max(df['y']) + 1"
   ]
  },
  {
   "cell_type": "code",
   "execution_count": 23,
   "metadata": {},
   "outputs": [
    {
     "data": {
      "text/plain": [
       "10"
      ]
     },
     "execution_count": 23,
     "metadata": {},
     "output_type": "execute_result"
    }
   ],
   "source": [
    "num_classes"
   ]
  },
  {
   "cell_type": "markdown",
   "metadata": {},
   "source": [
    "因此这个问题我们要处理的是一个10-分类问题。"
   ]
  },
  {
   "cell_type": "markdown",
   "metadata": {},
   "source": [
    "接下来进行数据集的划分："
   ]
  },
  {
   "cell_type": "code",
   "execution_count": 24,
   "metadata": {},
   "outputs": [],
   "source": [
    "from sklearn.model_selection import StratifiedShuffleSplit\n",
    "\n",
    "split = StratifiedShuffleSplit(n_splits=1, test_size=0.2, random_state=42)\n",
    "\n",
    "# 按照y进行分层采样\n",
    "# 20%的数据作为测试集\n",
    "for train_index, test_index in split.split(df, df['y']):\n",
    "    strat_train_set = df.loc[train_index]\n",
    "    strat_test_set = df.loc[test_index]"
   ]
  },
  {
   "cell_type": "code",
   "execution_count": 25,
   "metadata": {},
   "outputs": [
    {
     "data": {
      "text/plain": [
       "(297, 3)"
      ]
     },
     "execution_count": 25,
     "metadata": {},
     "output_type": "execute_result"
    }
   ],
   "source": [
    "strat_train_set.shape"
   ]
  },
  {
   "cell_type": "code",
   "execution_count": 26,
   "metadata": {},
   "outputs": [
    {
     "data": {
      "text/plain": [
       "(75, 3)"
      ]
     },
     "execution_count": 26,
     "metadata": {},
     "output_type": "execute_result"
    }
   ],
   "source": [
    "strat_test_set.shape"
   ]
  },
  {
   "cell_type": "code",
   "execution_count": 27,
   "metadata": {},
   "outputs": [
    {
     "data": {
      "text/html": [
       "<div>\n",
       "<style scoped>\n",
       "    .dataframe tbody tr th:only-of-type {\n",
       "        vertical-align: middle;\n",
       "    }\n",
       "\n",
       "    .dataframe tbody tr th {\n",
       "        vertical-align: top;\n",
       "    }\n",
       "\n",
       "    .dataframe thead th {\n",
       "        text-align: right;\n",
       "    }\n",
       "</style>\n",
       "<table border=\"1\" class=\"dataframe\">\n",
       "  <thead>\n",
       "    <tr style=\"text-align: right;\">\n",
       "      <th></th>\n",
       "      <th>X</th>\n",
       "      <th>y_name</th>\n",
       "      <th>y</th>\n",
       "    </tr>\n",
       "  </thead>\n",
       "  <tbody>\n",
       "    <tr>\n",
       "      <th>97</th>\n",
       "      <td>./data/Aluminum/convexity\\convexity_2.jpg</td>\n",
       "      <td>convexity</td>\n",
       "      <td>3</td>\n",
       "    </tr>\n",
       "    <tr>\n",
       "      <th>317</th>\n",
       "      <td>./data/Aluminum/orange_peel\\orange_peel_23.jpg</td>\n",
       "      <td>orange_peel</td>\n",
       "      <td>8</td>\n",
       "    </tr>\n",
       "    <tr>\n",
       "      <th>345</th>\n",
       "      <td>./data/Aluminum/orange_peel\\orange_peel_8.jpg</td>\n",
       "      <td>orange_peel</td>\n",
       "      <td>8</td>\n",
       "    </tr>\n",
       "    <tr>\n",
       "      <th>287</th>\n",
       "      <td>./data/Aluminum/jet_flow\\jet_flow_34.jpg</td>\n",
       "      <td>jet_flow</td>\n",
       "      <td>7</td>\n",
       "    </tr>\n",
       "    <tr>\n",
       "      <th>106</th>\n",
       "      <td>./data/Aluminum/convexity\\convexity_28.jpg</td>\n",
       "      <td>convexity</td>\n",
       "      <td>3</td>\n",
       "    </tr>\n",
       "  </tbody>\n",
       "</table>\n",
       "</div>"
      ],
      "text/plain": [
       "                                                  X       y_name  y\n",
       "97        ./data/Aluminum/convexity\\convexity_2.jpg    convexity  3\n",
       "317  ./data/Aluminum/orange_peel\\orange_peel_23.jpg  orange_peel  8\n",
       "345   ./data/Aluminum/orange_peel\\orange_peel_8.jpg  orange_peel  8\n",
       "287        ./data/Aluminum/jet_flow\\jet_flow_34.jpg     jet_flow  7\n",
       "106      ./data/Aluminum/convexity\\convexity_28.jpg    convexity  3"
      ]
     },
     "execution_count": 27,
     "metadata": {},
     "output_type": "execute_result"
    }
   ],
   "source": [
    "strat_train_set.head()"
   ]
  },
  {
   "cell_type": "markdown",
   "metadata": {},
   "source": [
    "接下来利用ImageDataGenerator来准备训练用的generator"
   ]
  },
  {
   "cell_type": "code",
   "execution_count": 28,
   "metadata": {},
   "outputs": [
    {
     "name": "stdout",
     "output_type": "stream",
     "text": [
      "Found 238 validated image filenames.\n",
      "Found 59 validated image filenames.\n"
     ]
    }
   ],
   "source": [
    "# 图像归一化\n",
    "# 并且划分20%的训练集数据作为验证集数据\n",
    "datagen = ImageDataGenerator(rescale=1./255, validation_split=0.2)\n",
    "\n",
    "# 设置小批量的大小\n",
    "batch_size = 8\n",
    "# 统一图片的分辨率\n",
    "target_size = (256, 256)\n",
    "\n",
    "# 我们的dataframe中保存的路径足够\n",
    "# 否则还需要指明directory来表示文件存放的路径\n",
    "train_generator=datagen.flow_from_dataframe(dataframe=strat_train_set, \n",
    "                                            x_col='X',\n",
    "                                            y_col='y',\n",
    "                                            subset=\"training\",\n",
    "                                            seed=44,  # 随机数种子\n",
    "                                            # class_mode=\"sparse\", # 直接使用文本标签\n",
    "                                            class_mode='raw',  # 用整数标签\n",
    "                                            target_size=target_size,  # 这里把图片调整大小\n",
    "                                            batch_size=batch_size) # 内存不足可以调小batch_size\n",
    "\n",
    "# 划分验证集\n",
    "valid_generator=datagen.flow_from_dataframe(dataframe=strat_train_set, \n",
    "                                            x_col='X',\n",
    "                                            y_col='y',\n",
    "                                            subset=\"validation\",\n",
    "                                            seed=44,  # 随机数种子\n",
    "                                            # class_mode=\"sparse\", # 直接使用文本标签\n",
    "                                            class_mode='raw',  # 用整数标签\n",
    "                                            target_size=target_size,  # 这里把图片调整大小\n",
    "                                            batch_size=batch_size) # 内存不足可以调小batch_size"
   ]
  },
  {
   "cell_type": "markdown",
   "metadata": {},
   "source": [
    "分别查看训练集和验证集的数据量："
   ]
  },
  {
   "cell_type": "code",
   "execution_count": 29,
   "metadata": {},
   "outputs": [
    {
     "data": {
      "text/plain": [
       "238"
      ]
     },
     "execution_count": 29,
     "metadata": {},
     "output_type": "execute_result"
    }
   ],
   "source": [
    "train_generator.n"
   ]
  },
  {
   "cell_type": "code",
   "execution_count": 30,
   "metadata": {},
   "outputs": [
    {
     "data": {
      "text/plain": [
       "8"
      ]
     },
     "execution_count": 30,
     "metadata": {},
     "output_type": "execute_result"
    }
   ],
   "source": [
    "train_generator.batch_size"
   ]
  },
  {
   "cell_type": "code",
   "execution_count": 31,
   "metadata": {},
   "outputs": [
    {
     "data": {
      "text/plain": [
       "59"
      ]
     },
     "execution_count": 31,
     "metadata": {},
     "output_type": "execute_result"
    }
   ],
   "source": [
    "valid_generator.n"
   ]
  },
  {
   "cell_type": "code",
   "execution_count": 32,
   "metadata": {},
   "outputs": [
    {
     "data": {
      "text/plain": [
       "8"
      ]
     },
     "execution_count": 32,
     "metadata": {},
     "output_type": "execute_result"
    }
   ],
   "source": [
    "valid_generator.batch_size"
   ]
  },
  {
   "cell_type": "code",
   "execution_count": 33,
   "metadata": {},
   "outputs": [
    {
     "name": "stdout",
     "output_type": "stream",
     "text": [
      "(8, 256, 256, 3)\n",
      "(8,)\n"
     ]
    }
   ],
   "source": [
    "for X_batch, y_batch in train_generator:\n",
    "    print(X_batch.shape)\n",
    "    print(y_batch.shape)\n",
    "    break"
   ]
  },
  {
   "cell_type": "code",
   "execution_count": 34,
   "metadata": {},
   "outputs": [
    {
     "data": {
      "text/plain": [
       "<matplotlib.image.AxesImage at 0x224919809d0>"
      ]
     },
     "execution_count": 34,
     "metadata": {},
     "output_type": "execute_result"
    },
    {
     "data": {
      "image/png": "[encoded data removed]",
      "text/plain": [
       "<Figure size 432x288 with 1 Axes>"
      ]
     },
     "metadata": {
      "needs_background": "light"
     },
     "output_type": "display_data"
    }
   ],
   "source": [
    "import matplotlib\n",
    "%matplotlib inline\n",
    "import matplotlib.pyplot as plt\n",
    "plt.imshow(X_batch[0])"
   ]
  },
  {
   "cell_type": "code",
   "execution_count": 35,
   "metadata": {},
   "outputs": [
    {
     "data": {
      "text/plain": [
       "3"
      ]
     },
     "execution_count": 35,
     "metadata": {},
     "output_type": "execute_result"
    }
   ],
   "source": [
    "y_batch[0]"
   ]
  },
  {
   "cell_type": "markdown",
   "metadata": {},
   "source": [
    "可以看到已经train_generator已经可以自动读取图像了"
   ]
  },
  {
   "cell_type": "markdown",
   "metadata": {},
   "source": [
    "类似的，我们构建test_generator"
   ]
  },
  {
   "cell_type": "code",
   "execution_count": 36,
   "metadata": {},
   "outputs": [
    {
     "name": "stdout",
     "output_type": "stream",
     "text": [
      "Found 75 validated image filenames.\n"
     ]
    }
   ],
   "source": [
    "# 图像归一化\n",
    "datagen=ImageDataGenerator(rescale=1./255)\n",
    "\n",
    "# 我们的dataframe中保存的路径足够\n",
    "# 否则还需要指明directory来表示文件存放的路径\n",
    "test_generator=datagen.flow_from_dataframe(dataframe=strat_test_set, \n",
    "                                            x_col='X',\n",
    "                                            y_col='y',\n",
    "                                            # class_mode=\"sparse\", # 直接使用文本标签\n",
    "                                            class_mode='raw',  # 用整数标签\n",
    "                                            target_size=target_size,  # 这里把图片调整大小\n",
    "                                            batch_size=batch_size) # 内存不足可以调小batch_size"
   ]
  },
  {
   "cell_type": "code",
   "execution_count": 37,
   "metadata": {},
   "outputs": [
    {
     "data": {
      "text/plain": [
       "75"
      ]
     },
     "execution_count": 37,
     "metadata": {},
     "output_type": "execute_result"
    }
   ],
   "source": [
    "test_generator.n"
   ]
  },
  {
   "cell_type": "code",
   "execution_count": 38,
   "metadata": {},
   "outputs": [
    {
     "data": {
      "text/plain": [
       "8"
      ]
     },
     "execution_count": 38,
     "metadata": {},
     "output_type": "execute_result"
    }
   ],
   "source": [
    "test_generator.batch_size"
   ]
  },
  {
   "cell_type": "markdown",
   "metadata": {},
   "source": [
    "# 2. 模型尝试"
   ]
  },
  {
   "cell_type": "markdown",
   "metadata": {},
   "source": [
    "首先尝试一个最简单的模型："
   ]
  },
  {
   "cell_type": "code",
   "execution_count": 39,
   "metadata": {},
   "outputs": [],
   "source": [
    "from keras.models import Model\n",
    "from keras.layers import Input, Dense, Conv2D, MaxPooling2D, Flatten, Dropout\n",
    "\n",
    "def build_model():\n",
    "    input = Input(shape=(256, 256, 3))\n",
    "    X = Conv2D(32, (3, 3), activation='relu')(input)\n",
    "    X = MaxPooling2D((2, 2))(X)\n",
    "    X = Conv2D(64, (3, 3), activation='relu')(X)\n",
    "    X = MaxPooling2D((2, 2))(X)\n",
    "    X = Conv2D(128, (3, 3), activation='relu')(X)\n",
    "    X = MaxPooling2D((2, 2))(X)\n",
    "    X = Conv2D(128, (3, 3), activation='relu')(X)\n",
    "    X = MaxPooling2D((2, 2))(X)\n",
    "    X = Flatten()(X)\n",
    "    X = Dense(512, activation='relu')(X)\n",
    "    # 改为输出的类别\n",
    "    X = Dense(num_classes, activation='softmax')(X)\n",
    "    model = Model(inputs=input, outputs=X)\n",
    "    return model\n",
    "\n",
    "model = build_model()"
   ]
  },
  {
   "cell_type": "code",
   "execution_count": 40,
   "metadata": {},
   "outputs": [
    {
     "name": "stdout",
     "output_type": "stream",
     "text": [
      "Model: \"model\"\n",
      "_________________________________________________________________\n",
      " Layer (type)                Output Shape              Param #   \n",
      "=================================================================\n",
      " input_1 (InputLayer)        [(None, 256, 256, 3)]     0         \n",
      "                                                                 \n",
      " conv2d (Conv2D)             (None, 254, 254, 32)      896       \n",
      "                                                                 \n",
      " max_pooling2d (MaxPooling2D  (None, 127, 127, 32)     0         \n",
      " )                                                               \n",
      "                                                                 \n",
      " conv2d_1 (Conv2D)           (None, 125, 125, 64)      18496     \n",
      "                                                                 \n",
      " max_pooling2d_1 (MaxPooling  (None, 62, 62, 64)       0         \n",
      " 2D)                                                             \n",
      "                                                                 \n",
      " conv2d_2 (Conv2D)           (None, 60, 60, 128)       73856     \n",
      "                                                                 \n",
      " max_pooling2d_2 (MaxPooling  (None, 30, 30, 128)      0         \n",
      " 2D)                                                             \n",
      "                                                                 \n",
      " conv2d_3 (Conv2D)           (None, 28, 28, 128)       147584    \n",
      "                                                                 \n",
      " max_pooling2d_3 (MaxPooling  (None, 14, 14, 128)      0         \n",
      " 2D)                                                             \n",
      "                                                                 \n",
      " flatten (Flatten)           (None, 25088)             0         \n",
      "                                                                 \n",
      " dense (Dense)               (None, 512)               12845568  \n",
      "                                                                 \n",
      " dense_1 (Dense)             (None, 10)                5130      \n",
      "                                                                 \n",
      "=================================================================\n",
      "Total params: 13,091,530\n",
      "Trainable params: 13,091,530\n",
      "Non-trainable params: 0\n",
      "_________________________________________________________________\n"
     ]
    }
   ],
   "source": [
    "model.summary()"
   ]
  },
  {
   "cell_type": "code",
   "execution_count": 41,
   "metadata": {},
   "outputs": [
    {
     "name": "stdout",
     "output_type": "stream",
     "text": [
      "Epoch 1/30\n",
      "29/29 [==============================] - 4s 44ms/step - loss: 2.2449 - accuracy: 0.1217 - val_loss: 2.0970 - val_accuracy: 0.4286\n",
      "Epoch 2/30\n",
      "29/29 [==============================] - 1s 21ms/step - loss: 1.9359 - accuracy: 0.3652 - val_loss: 1.5777 - val_accuracy: 0.5714\n",
      "Epoch 3/30\n",
      "29/29 [==============================] - 1s 21ms/step - loss: 1.5129 - accuracy: 0.5696 - val_loss: 1.3341 - val_accuracy: 0.5179\n",
      "Epoch 4/30\n",
      "29/29 [==============================] - 1s 21ms/step - loss: 1.1873 - accuracy: 0.6348 - val_loss: 0.8689 - val_accuracy: 0.7679\n",
      "Epoch 5/30\n",
      "29/29 [==============================] - 1s 21ms/step - loss: 0.9902 - accuracy: 0.7130 - val_loss: 0.8147 - val_accuracy: 0.7679\n",
      "Epoch 6/30\n",
      "29/29 [==============================] - 1s 21ms/step - loss: 0.8714 - accuracy: 0.7261 - val_loss: 0.8062 - val_accuracy: 0.7857\n",
      "Epoch 7/30\n",
      "29/29 [==============================] - 1s 21ms/step - loss: 0.7828 - accuracy: 0.7652 - val_loss: 0.7078 - val_accuracy: 0.8214\n",
      "Epoch 8/30\n",
      "29/29 [==============================] - 1s 20ms/step - loss: 0.6461 - accuracy: 0.8000 - val_loss: 0.6309 - val_accuracy: 0.8393\n",
      "Epoch 9/30\n",
      "29/29 [==============================] - 1s 21ms/step - loss: 0.7309 - accuracy: 0.7609 - val_loss: 0.7641 - val_accuracy: 0.7500\n",
      "Epoch 10/30\n",
      "29/29 [==============================] - 1s 21ms/step - loss: 0.6319 - accuracy: 0.8174 - val_loss: 0.5950 - val_accuracy: 0.8750\n",
      "Epoch 11/30\n",
      "29/29 [==============================] - 1s 21ms/step - loss: 0.5112 - accuracy: 0.8522 - val_loss: 0.6530 - val_accuracy: 0.8393\n",
      "Epoch 12/30\n",
      "29/29 [==============================] - 1s 21ms/step - loss: 0.5453 - accuracy: 0.8217 - val_loss: 0.6373 - val_accuracy: 0.8750\n",
      "Epoch 13/30\n",
      "29/29 [==============================] - 1s 20ms/step - loss: 0.4598 - accuracy: 0.8478 - val_loss: 0.6159 - val_accuracy: 0.8929\n",
      "Epoch 14/30\n",
      "29/29 [==============================] - 1s 20ms/step - loss: 0.4983 - accuracy: 0.8478 - val_loss: 0.6996 - val_accuracy: 0.7679\n",
      "Epoch 15/30\n",
      "29/29 [==============================] - 1s 21ms/step - loss: 0.4477 - accuracy: 0.8664 - val_loss: 0.4934 - val_accuracy: 0.9107\n",
      "Epoch 16/30\n",
      "29/29 [==============================] - 1s 21ms/step - loss: 0.3924 - accuracy: 0.8870 - val_loss: 0.5629 - val_accuracy: 0.8929\n",
      "Epoch 17/30\n",
      "29/29 [==============================] - 1s 22ms/step - loss: 0.4272 - accuracy: 0.8435 - val_loss: 0.5757 - val_accuracy: 0.8571\n",
      "Epoch 18/30\n",
      "29/29 [==============================] - 1s 21ms/step - loss: 0.3891 - accuracy: 0.8652 - val_loss: 0.4277 - val_accuracy: 0.9286\n",
      "Epoch 19/30\n",
      "29/29 [==============================] - 1s 21ms/step - loss: 0.3475 - accuracy: 0.8826 - val_loss: 0.5095 - val_accuracy: 0.8929\n",
      "Epoch 20/30\n",
      "29/29 [==============================] - 1s 21ms/step - loss: 0.2986 - accuracy: 0.8913 - val_loss: 0.2711 - val_accuracy: 0.9107\n",
      "Epoch 21/30\n",
      "29/29 [==============================] - 1s 20ms/step - loss: 0.2679 - accuracy: 0.9130 - val_loss: 0.4840 - val_accuracy: 0.9107\n",
      "Epoch 22/30\n",
      "29/29 [==============================] - 1s 20ms/step - loss: 0.2424 - accuracy: 0.9130 - val_loss: 0.5535 - val_accuracy: 0.8750\n",
      "Epoch 23/30\n",
      "29/29 [==============================] - 1s 21ms/step - loss: 0.2413 - accuracy: 0.9217 - val_loss: 0.4976 - val_accuracy: 0.8929\n",
      "Epoch 24/30\n",
      "29/29 [==============================] - 1s 20ms/step - loss: 0.2386 - accuracy: 0.9304 - val_loss: 0.5397 - val_accuracy: 0.8929\n",
      "Epoch 25/30\n",
      "29/29 [==============================] - 1s 21ms/step - loss: 0.2630 - accuracy: 0.9261 - val_loss: 0.4757 - val_accuracy: 0.9107\n",
      "Epoch 26/30\n",
      "29/29 [==============================] - 1s 22ms/step - loss: 0.2073 - accuracy: 0.9391 - val_loss: 0.4882 - val_accuracy: 0.9107\n",
      "Epoch 27/30\n",
      "29/29 [==============================] - 1s 22ms/step - loss: 0.1748 - accuracy: 0.9522 - val_loss: 0.4904 - val_accuracy: 0.9107\n",
      "Epoch 28/30\n",
      "29/29 [==============================] - 1s 22ms/step - loss: 0.1595 - accuracy: 0.9565 - val_loss: 0.5390 - val_accuracy: 0.8929\n",
      "Epoch 29/30\n",
      "29/29 [==============================] - 1s 21ms/step - loss: 0.1571 - accuracy: 0.9435 - val_loss: 0.4959 - val_accuracy: 0.9286\n",
      "Epoch 30/30\n",
      "29/29 [==============================] - 1s 20ms/step - loss: 0.1475 - accuracy: 0.9652 - val_loss: 0.6298 - val_accuracy: 0.8750\n"
     ]
    }
   ],
   "source": [
    "model.compile(optimizer=tf.keras.optimizers.Adam(learning_rate = 0.0001,decay = 0.001),\n",
    "              loss='sparse_categorical_crossentropy',\n",
    "              metrics=['accuracy'])\n",
    "\n",
    "epochs = 30\n",
    "batch_size = 8\n",
    "\n",
    "history0 = model.fit(train_generator,\n",
    "          steps_per_epoch=train_generator.n // train_generator.batch_size,\n",
    "          validation_data=valid_generator,\n",
    "          validation_steps=valid_generator.n // valid_generator.batch_size,\n",
    "          epochs=epochs,\n",
    "          verbose=1)"
   ]
  },
  {
   "cell_type": "markdown",
   "metadata": {},
   "source": [
    "我们在测试集上进行评估："
   ]
  },
  {
   "cell_type": "code",
   "execution_count": 42,
   "metadata": {},
   "outputs": [
    {
     "name": "stdout",
     "output_type": "stream",
     "text": [
      "9/9 [==============================] - 0s 15ms/step - loss: 0.7402 - accuracy: 0.8056\n"
     ]
    },
    {
     "data": {
      "text/plain": [
       "0.8055555820465088"
      ]
     },
     "execution_count": 42,
     "metadata": {},
     "output_type": "execute_result"
    }
   ],
   "source": [
    "loss, acc = model.evaluate(test_generator, steps=test_generator.n // test_generator.batch_size)\n",
    "acc"
   ]
  },
  {
   "cell_type": "markdown",
   "metadata": {},
   "source": [
    "这是采用一个简单的模型能取得的准确率。"
   ]
  },
  {
   "cell_type": "markdown",
   "metadata": {},
   "source": [
    "可以画出训练过程："
   ]
  },
  {
   "cell_type": "code",
   "execution_count": 43,
   "metadata": {},
   "outputs": [],
   "source": [
    "import matplotlib\n",
    "import matplotlib.pyplot as plt\n",
    "%matplotlib inline\n",
    "\n",
    "matplotlib.rcParams['font.size'] = 20"
   ]
  },
  {
   "cell_type": "code",
   "execution_count": 44,
   "metadata": {},
   "outputs": [],
   "source": [
    "def plot_training(history, save_fn):\n",
    "    import pandas as pd\n",
    "    hist = pd.DataFrame(history.history)\n",
    "    hist['epoch'] = history.epoch\n",
    "    \n",
    "    plt.figure(figsize=[12, 9])\n",
    "    plt.xlabel('Epoch')\n",
    "    plt.ylabel('Accuracy')\n",
    "    plt.plot(hist['epoch'], hist['accuracy'],\n",
    "             label='Train Accuracy')\n",
    "    plt.plot(hist['epoch'], hist['val_accuracy'],\n",
    "             label = 'Validation Accuracy')\n",
    "    plt.legend()\n",
    "    \n",
    "    plt.savefig(save_fn, dpi=400, bbox_inches='tight')"
   ]
  },
  {
   "cell_type": "code",
   "execution_count": 45,
   "metadata": {},
   "outputs": [],
   "source": [
    "def plot_training_loss(history, save_fn):\n",
    "    import pandas as pd\n",
    "    hist = pd.DataFrame(history.history)\n",
    "    hist['epoch'] = history.epoch\n",
    "    \n",
    "    plt.figure(figsize=[12, 9])\n",
    "    plt.xlabel('Epoch')\n",
    "    plt.ylabel('Loss')\n",
    "    plt.plot(hist['epoch'], hist['loss'],\n",
    "             label='Train Loss')\n",
    "    plt.plot(hist['epoch'], hist['val_loss'],\n",
    "             label = 'Validation Loss')\n",
    "    plt.legend()\n",
    "    \n",
    "    plt.savefig(save_fn, dpi=400, bbox_inches='tight')"
   ]
  },
  {
   "cell_type": "code",
   "execution_count": 46,
   "metadata": {},
   "outputs": [
    {
     "data": {
      "image/png": "[encoded data removed]",
      "text/plain": [
       "<Figure size 864x648 with 1 Axes>"
      ]
     },
     "metadata": {
      "needs_background": "light"
     },
     "output_type": "display_data"
    }
   ],
   "source": [
    "plot_training(history0, 'training1.png')"
   ]
  },
  {
   "cell_type": "code",
   "execution_count": 47,
   "metadata": {},
   "outputs": [
    {
     "data": {
      "image/png": "[encoded data removed]",
      "text/plain": [
       "<Figure size 864x648 with 1 Axes>"
      ]
     },
     "metadata": {
      "needs_background": "light"
     },
     "output_type": "display_data"
    }
   ],
   "source": [
    "plot_training_loss(history0, 'loss1.png')"
   ]
  },
  {
   "cell_type": "code",
   "execution_count": null,
   "metadata": {},
   "outputs": [],
   "source": []
  },
  {
   "cell_type": "markdown",
   "metadata": {},
   "source": [
    "# 进一步评估结果"
   ]
  },
  {
   "cell_type": "markdown",
   "metadata": {},
   "source": [
    "获取测试集上的真实标签："
   ]
  },
  {
   "cell_type": "code",
   "execution_count": 48,
   "metadata": {},
   "outputs": [
    {
     "data": {
      "text/plain": [
       "array([8, 0, 7, 2, 5])"
      ]
     },
     "execution_count": 48,
     "metadata": {},
     "output_type": "execute_result"
    }
   ],
   "source": [
    "y_true = strat_test_set['y'].values\n",
    "y_true[:5]"
   ]
  },
  {
   "cell_type": "markdown",
   "metadata": {},
   "source": [
    "获取测试集上的预测标签："
   ]
  },
  {
   "cell_type": "code",
   "execution_count": 49,
   "metadata": {},
   "outputs": [],
   "source": [
    "import numpy as np\n",
    "\n",
    "y_pred_proba = []\n",
    "y_pred = []\n",
    "for fn in strat_test_set['X'].values:\n",
    "    img = load_img(fn, target_size=(256, 256))\n",
    "    img = img_to_array(img)\n",
    "    img = img / 255.  # rescale\n",
    "    img = np.expand_dims(img, axis=0)\n",
    "    pred_proba = model.predict(img, verbose=0)[0]\n",
    "    y_pred_proba.append(pred_proba)\n",
    "    pred = np.argmax(pred_proba)\n",
    "    y_pred.append(pred)"
   ]
  },
  {
   "cell_type": "code",
   "execution_count": 87,
   "metadata": {},
   "outputs": [],
   "source": [
    "from sklearn.metrics import confusion_matrix, classification_report, f1_score, accuracy_score\n",
    "import seaborn as sn\n",
    "import matplotlib\n",
    "%matplotlib inline\n",
    "import matplotlib.pyplot as plt"
   ]
  },
  {
   "cell_type": "markdown",
   "metadata": {},
   "source": [
    "查看classification report："
   ]
  },
  {
   "cell_type": "code",
   "execution_count": 51,
   "metadata": {},
   "outputs": [
    {
     "name": "stdout",
     "output_type": "stream",
     "text": [
      "              precision    recall  f1-score   support\n",
      "\n",
      "           0       0.00      0.00      0.00         4\n",
      "           1       0.80      0.67      0.73         6\n",
      "           2       1.00      1.00      1.00         7\n",
      "           3       0.80      0.89      0.84         9\n",
      "           4       0.80      0.57      0.67         7\n",
      "           5       0.80      0.89      0.84         9\n",
      "           6       0.71      1.00      0.83        10\n",
      "           7       0.90      1.00      0.95         9\n",
      "           8       0.80      0.89      0.84         9\n",
      "           9       0.75      0.60      0.67         5\n",
      "\n",
      "    accuracy                           0.81        75\n",
      "   macro avg       0.74      0.75      0.74        75\n",
      "weighted avg       0.77      0.81      0.79        75\n",
      "\n"
     ]
    }
   ],
   "source": [
    "print(classification_report(y_true, y_pred))"
   ]
  },
  {
   "cell_type": "markdown",
   "metadata": {},
   "source": [
    "# DenseNet尝试"
   ]
  },
  {
   "cell_type": "code",
   "execution_count": 109,
   "metadata": {},
   "outputs": [],
   "source": [
    "from keras.applications import *"
   ]
  },
  {
   "cell_type": "code",
   "execution_count": 110,
   "metadata": {},
   "outputs": [],
   "source": [
    "num_classes = 10\n",
    "input_shape=(256, 256, 3)"
   ]
  },
  {
   "cell_type": "code",
   "execution_count": 111,
   "metadata": {},
   "outputs": [],
   "source": [
    "base_model = DenseNet121(include_top=False, input_shape=input_shape) \n",
    "\n",
    "# 添加a fully-connected layer\n",
    "x = base_model.output\n",
    "x = Flatten()(x)\n",
    "x = Dense(256, activation='relu')(x)\n",
    "x = Dropout(0.5)(x)\n",
    "\n",
    "predictions = Dense(num_classes, activation='softmax')(x)\n",
    "\n",
    "# 我们最终会训练的模型\n",
    "densenet_model = Model(inputs=base_model.input, outputs=predictions)"
   ]
  },
  {
   "cell_type": "code",
   "execution_count": 112,
   "metadata": {},
   "outputs": [
    {
     "name": "stdout",
     "output_type": "stream",
     "text": [
      "Model: \"model_7\"\n",
      "__________________________________________________________________________________________________\n",
      " Layer (type)                   Output Shape         Param #     Connected to                     \n",
      "==================================================================================================\n",
      " input_8 (InputLayer)           [(None, 256, 256, 3  0           []                               \n",
      "                                )]                                                                \n",
      "                                                                                                  \n",
      " zero_padding2d_2 (ZeroPadding2  (None, 262, 262, 3)  0          ['input_8[0][0]']                \n",
      " D)                                                                                               \n",
      "                                                                                                  \n",
      " conv1/conv (Conv2D)            (None, 128, 128, 64  9408        ['zero_padding2d_2[0][0]']       \n",
      "                                )                                                                 \n",
      "                                                                                                  \n",
      " conv1/bn (BatchNormalization)  (None, 128, 128, 64  256         ['conv1/conv[0][0]']             \n",
      "                                )                                                                 \n",
      "                                                                                                  \n",
      " conv1/relu (Activation)        (None, 128, 128, 64  0           ['conv1/bn[0][0]']               \n",
      "                                )                                                                 \n",
      "                                                                                                  \n",
      " zero_padding2d_3 (ZeroPadding2  (None, 130, 130, 64  0          ['conv1/relu[0][0]']             \n",
      " D)                             )                                                                 \n",
      "                                                                                                  \n",
      " pool1 (MaxPooling2D)           (None, 64, 64, 64)   0           ['zero_padding2d_3[0][0]']       \n",
      "                                                                                                  \n",
      " conv2_block1_0_bn (BatchNormal  (None, 64, 64, 64)  256         ['pool1[0][0]']                  \n",
      " ization)                                                                                         \n",
      "                                                                                                  \n",
      " conv2_block1_0_relu (Activatio  (None, 64, 64, 64)  0           ['conv2_block1_0_bn[0][0]']      \n",
      " n)                                                                                               \n",
      "                                                                                                  \n",
      " conv2_block1_1_conv (Conv2D)   (None, 64, 64, 128)  8192        ['conv2_block1_0_relu[0][0]']    \n",
      "                                                                                                  \n",
      " conv2_block1_1_bn (BatchNormal  (None, 64, 64, 128)  512        ['conv2_block1_1_conv[0][0]']    \n",
      " ization)                                                                                         \n",
      "                                                                                                  \n",
      " conv2_block1_1_relu (Activatio  (None, 64, 64, 128)  0          ['conv2_block1_1_bn[0][0]']      \n",
      " n)                                                                                               \n",
      "                                                                                                  \n",
      " conv2_block1_2_conv (Conv2D)   (None, 64, 64, 32)   36864       ['conv2_block1_1_relu[0][0]']    \n",
      "                                                                                                  \n",
      " conv2_block1_concat (Concatena  (None, 64, 64, 96)  0           ['pool1[0][0]',                  \n",
      " te)                                                              'conv2_block1_2_conv[0][0]']    \n",
      "                                                                                                  \n",
      " conv2_block2_0_bn (BatchNormal  (None, 64, 64, 96)  384         ['conv2_block1_concat[0][0]']    \n",
      " ization)                                                                                         \n",
      "                                                                                                  \n",
      " conv2_block2_0_relu (Activatio  (None, 64, 64, 96)  0           ['conv2_block2_0_bn[0][0]']      \n",
      " n)                                                                                               \n",
      "                                                                                                  \n",
      " conv2_block2_1_conv (Conv2D)   (None, 64, 64, 128)  12288       ['conv2_block2_0_relu[0][0]']    \n",
      "                                                                                                  \n",
      " conv2_block2_1_bn (BatchNormal  (None, 64, 64, 128)  512        ['conv2_block2_1_conv[0][0]']    \n",
      " ization)                                                                                         \n",
      "                                                                                                  \n",
      " conv2_block2_1_relu (Activatio  (None, 64, 64, 128)  0          ['conv2_block2_1_bn[0][0]']      \n",
      " n)                                                                                               \n",
      "                                                                                                  \n",
      " conv2_block2_2_conv (Conv2D)   (None, 64, 64, 32)   36864       ['conv2_block2_1_relu[0][0]']    \n",
      "                                                                                                  \n",
      " conv2_block2_concat (Concatena  (None, 64, 64, 128)  0          ['conv2_block1_concat[0][0]',    \n",
      " te)                                                              'conv2_block2_2_conv[0][0]']    \n",
      "                                                                                                  \n",
      " conv2_block3_0_bn (BatchNormal  (None, 64, 64, 128)  512        ['conv2_block2_concat[0][0]']    \n",
      " ization)                                                                                         \n",
      "                                                                                                  \n",
      " conv2_block3_0_relu (Activatio  (None, 64, 64, 128)  0          ['conv2_block3_0_bn[0][0]']      \n",
      " n)                                                                                               \n",
      "                                                                                                  \n",
      " conv2_block3_1_conv (Conv2D)   (None, 64, 64, 128)  16384       ['conv2_block3_0_relu[0][0]']    \n",
      "                                                                                                  \n",
      " conv2_block3_1_bn (BatchNormal  (None, 64, 64, 128)  512        ['conv2_block3_1_conv[0][0]']    \n",
      " ization)                                                                                         \n",
      "                                                                                                  \n",
      " conv2_block3_1_relu (Activatio  (None, 64, 64, 128)  0          ['conv2_block3_1_bn[0][0]']      \n",
      " n)                                                                                               \n",
      "                                                                                                  \n",
      " conv2_block3_2_conv (Conv2D)   (None, 64, 64, 32)   36864       ['conv2_block3_1_relu[0][0]']    \n",
      "                                                                                                  \n",
      " conv2_block3_concat (Concatena  (None, 64, 64, 160)  0          ['conv2_block2_concat[0][0]',    \n",
      " te)                                                              'conv2_block3_2_conv[0][0]']    \n",
      "                                                                                                  \n",
      " conv2_block4_0_bn (BatchNormal  (None, 64, 64, 160)  640        ['conv2_block3_concat[0][0]']    \n",
      " ization)                                                                                         \n",
      "                                                                                                  \n"
     ]
    },
    {
     "name": "stdout",
     "output_type": "stream",
     "text": [
      " conv2_block4_0_relu (Activatio  (None, 64, 64, 160)  0          ['conv2_block4_0_bn[0][0]']      \n",
      " n)                                                                                               \n",
      "                                                                                                  \n",
      " conv2_block4_1_conv (Conv2D)   (None, 64, 64, 128)  20480       ['conv2_block4_0_relu[0][0]']    \n",
      "                                                                                                  \n",
      " conv2_block4_1_bn (BatchNormal  (None, 64, 64, 128)  512        ['conv2_block4_1_conv[0][0]']    \n",
      " ization)                                                                                         \n",
      "                                                                                                  \n",
      " conv2_block4_1_relu (Activatio  (None, 64, 64, 128)  0          ['conv2_block4_1_bn[0][0]']      \n",
      " n)                                                                                               \n",
      "                                                                                                  \n",
      " conv2_block4_2_conv (Conv2D)   (None, 64, 64, 32)   36864       ['conv2_block4_1_relu[0][0]']    \n",
      "                                                                                                  \n",
      " conv2_block4_concat (Concatena  (None, 64, 64, 192)  0          ['conv2_block3_concat[0][0]',    \n",
      " te)                                                              'conv2_block4_2_conv[0][0]']    \n",
      "                                                                                                  \n",
      " conv2_block5_0_bn (BatchNormal  (None, 64, 64, 192)  768        ['conv2_block4_concat[0][0]']    \n",
      " ization)                                                                                         \n",
      "                                                                                                  \n",
      " conv2_block5_0_relu (Activatio  (None, 64, 64, 192)  0          ['conv2_block5_0_bn[0][0]']      \n",
      " n)                                                                                               \n",
      "                                                                                                  \n",
      " conv2_block5_1_conv (Conv2D)   (None, 64, 64, 128)  24576       ['conv2_block5_0_relu[0][0]']    \n",
      "                                                                                                  \n",
      " conv2_block5_1_bn (BatchNormal  (None, 64, 64, 128)  512        ['conv2_block5_1_conv[0][0]']    \n",
      " ization)                                                                                         \n",
      "                                                                                                  \n",
      " conv2_block5_1_relu (Activatio  (None, 64, 64, 128)  0          ['conv2_block5_1_bn[0][0]']      \n",
      " n)                                                                                               \n",
      "                                                                                                  \n",
      " conv2_block5_2_conv (Conv2D)   (None, 64, 64, 32)   36864       ['conv2_block5_1_relu[0][0]']    \n",
      "                                                                                                  \n",
      " conv2_block5_concat (Concatena  (None, 64, 64, 224)  0          ['conv2_block4_concat[0][0]',    \n",
      " te)                                                              'conv2_block5_2_conv[0][0]']    \n",
      "                                                                                                  \n",
      " conv2_block6_0_bn (BatchNormal  (None, 64, 64, 224)  896        ['conv2_block5_concat[0][0]']    \n",
      " ization)                                                                                         \n",
      "                                                                                                  \n",
      " conv2_block6_0_relu (Activatio  (None, 64, 64, 224)  0          ['conv2_block6_0_bn[0][0]']      \n",
      " n)                                                                                               \n",
      "                                                                                                  \n",
      " conv2_block6_1_conv (Conv2D)   (None, 64, 64, 128)  28672       ['conv2_block6_0_relu[0][0]']    \n",
      "                                                                                                  \n",
      " conv2_block6_1_bn (BatchNormal  (None, 64, 64, 128)  512        ['conv2_block6_1_conv[0][0]']    \n",
      " ization)                                                                                         \n",
      "                                                                                                  \n",
      " conv2_block6_1_relu (Activatio  (None, 64, 64, 128)  0          ['conv2_block6_1_bn[0][0]']      \n",
      " n)                                                                                               \n",
      "                                                                                                  \n",
      " conv2_block6_2_conv (Conv2D)   (None, 64, 64, 32)   36864       ['conv2_block6_1_relu[0][0]']    \n",
      "                                                                                                  \n",
      " conv2_block6_concat (Concatena  (None, 64, 64, 256)  0          ['conv2_block5_concat[0][0]',    \n",
      " te)                                                              'conv2_block6_2_conv[0][0]']    \n",
      "                                                                                                  \n",
      " pool2_bn (BatchNormalization)  (None, 64, 64, 256)  1024        ['conv2_block6_concat[0][0]']    \n",
      "                                                                                                  \n",
      " pool2_relu (Activation)        (None, 64, 64, 256)  0           ['pool2_bn[0][0]']               \n",
      "                                                                                                  \n",
      " pool2_conv (Conv2D)            (None, 64, 64, 128)  32768       ['pool2_relu[0][0]']             \n",
      "                                                                                                  \n",
      " pool2_pool (AveragePooling2D)  (None, 32, 32, 128)  0           ['pool2_conv[0][0]']             \n",
      "                                                                                                  \n",
      " conv3_block1_0_bn (BatchNormal  (None, 32, 32, 128)  512        ['pool2_pool[0][0]']             \n",
      " ization)                                                                                         \n",
      "                                                                                                  \n",
      " conv3_block1_0_relu (Activatio  (None, 32, 32, 128)  0          ['conv3_block1_0_bn[0][0]']      \n",
      " n)                                                                                               \n",
      "                                                                                                  \n",
      " conv3_block1_1_conv (Conv2D)   (None, 32, 32, 128)  16384       ['conv3_block1_0_relu[0][0]']    \n",
      "                                                                                                  \n",
      " conv3_block1_1_bn (BatchNormal  (None, 32, 32, 128)  512        ['conv3_block1_1_conv[0][0]']    \n",
      " ization)                                                                                         \n",
      "                                                                                                  \n",
      " conv3_block1_1_relu (Activatio  (None, 32, 32, 128)  0          ['conv3_block1_1_bn[0][0]']      \n",
      " n)                                                                                               \n",
      "                                                                                                  \n",
      " conv3_block1_2_conv (Conv2D)   (None, 32, 32, 32)   36864       ['conv3_block1_1_relu[0][0]']    \n",
      "                                                                                                  \n",
      " conv3_block1_concat (Concatena  (None, 32, 32, 160)  0          ['pool2_pool[0][0]',             \n",
      " te)                                                              'conv3_block1_2_conv[0][0]']    \n",
      "                                                                                                  \n",
      " conv3_block2_0_bn (BatchNormal  (None, 32, 32, 160)  640        ['conv3_block1_concat[0][0]']    \n",
      " ization)                                                                                         \n"
     ]
    },
    {
     "name": "stdout",
     "output_type": "stream",
     "text": [
      "                                                                                                  \n",
      " conv3_block2_0_relu (Activatio  (None, 32, 32, 160)  0          ['conv3_block2_0_bn[0][0]']      \n",
      " n)                                                                                               \n",
      "                                                                                                  \n",
      " conv3_block2_1_conv (Conv2D)   (None, 32, 32, 128)  20480       ['conv3_block2_0_relu[0][0]']    \n",
      "                                                                                                  \n",
      " conv3_block2_1_bn (BatchNormal  (None, 32, 32, 128)  512        ['conv3_block2_1_conv[0][0]']    \n",
      " ization)                                                                                         \n",
      "                                                                                                  \n",
      " conv3_block2_1_relu (Activatio  (None, 32, 32, 128)  0          ['conv3_block2_1_bn[0][0]']      \n",
      " n)                                                                                               \n",
      "                                                                                                  \n",
      " conv3_block2_2_conv (Conv2D)   (None, 32, 32, 32)   36864       ['conv3_block2_1_relu[0][0]']    \n",
      "                                                                                                  \n",
      " conv3_block2_concat (Concatena  (None, 32, 32, 192)  0          ['conv3_block1_concat[0][0]',    \n",
      " te)                                                              'conv3_block2_2_conv[0][0]']    \n",
      "                                                                                                  \n",
      " conv3_block3_0_bn (BatchNormal  (None, 32, 32, 192)  768        ['conv3_block2_concat[0][0]']    \n",
      " ization)                                                                                         \n",
      "                                                                                                  \n",
      " conv3_block3_0_relu (Activatio  (None, 32, 32, 192)  0          ['conv3_block3_0_bn[0][0]']      \n",
      " n)                                                                                               \n",
      "                                                                                                  \n",
      " conv3_block3_1_conv (Conv2D)   (None, 32, 32, 128)  24576       ['conv3_block3_0_relu[0][0]']    \n",
      "                                                                                                  \n",
      " conv3_block3_1_bn (BatchNormal  (None, 32, 32, 128)  512        ['conv3_block3_1_conv[0][0]']    \n",
      " ization)                                                                                         \n",
      "                                                                                                  \n",
      " conv3_block3_1_relu (Activatio  (None, 32, 32, 128)  0          ['conv3_block3_1_bn[0][0]']      \n",
      " n)                                                                                               \n",
      "                                                                                                  \n",
      " conv3_block3_2_conv (Conv2D)   (None, 32, 32, 32)   36864       ['conv3_block3_1_relu[0][0]']    \n",
      "                                                                                                  \n",
      " conv3_block3_concat (Concatena  (None, 32, 32, 224)  0          ['conv3_block2_concat[0][0]',    \n",
      " te)                                                              'conv3_block3_2_conv[0][0]']    \n",
      "                                                                                                  \n",
      " conv3_block4_0_bn (BatchNormal  (None, 32, 32, 224)  896        ['conv3_block3_concat[0][0]']    \n",
      " ization)                                                                                         \n",
      "                                                                                                  \n",
      " conv3_block4_0_relu (Activatio  (None, 32, 32, 224)  0          ['conv3_block4_0_bn[0][0]']      \n",
      " n)                                                                                               \n",
      "                                                                                                  \n",
      " conv3_block4_1_conv (Conv2D)   (None, 32, 32, 128)  28672       ['conv3_block4_0_relu[0][0]']    \n",
      "                                                                                                  \n",
      " conv3_block4_1_bn (BatchNormal  (None, 32, 32, 128)  512        ['conv3_block4_1_conv[0][0]']    \n",
      " ization)                                                                                         \n",
      "                                                                                                  \n",
      " conv3_block4_1_relu (Activatio  (None, 32, 32, 128)  0          ['conv3_block4_1_bn[0][0]']      \n",
      " n)                                                                                               \n",
      "                                                                                                  \n",
      " conv3_block4_2_conv (Conv2D)   (None, 32, 32, 32)   36864       ['conv3_block4_1_relu[0][0]']    \n",
      "                                                                                                  \n",
      " conv3_block4_concat (Concatena  (None, 32, 32, 256)  0          ['conv3_block3_concat[0][0]',    \n",
      " te)                                                              'conv3_block4_2_conv[0][0]']    \n",
      "                                                                                                  \n",
      " conv3_block5_0_bn (BatchNormal  (None, 32, 32, 256)  1024       ['conv3_block4_concat[0][0]']    \n",
      " ization)                                                                                         \n",
      "                                                                                                  \n",
      " conv3_block5_0_relu (Activatio  (None, 32, 32, 256)  0          ['conv3_block5_0_bn[0][0]']      \n",
      " n)                                                                                               \n",
      "                                                                                                  \n",
      " conv3_block5_1_conv (Conv2D)   (None, 32, 32, 128)  32768       ['conv3_block5_0_relu[0][0]']    \n",
      "                                                                                                  \n",
      " conv3_block5_1_bn (BatchNormal  (None, 32, 32, 128)  512        ['conv3_block5_1_conv[0][0]']    \n",
      " ization)                                                                                         \n",
      "                                                                                                  \n",
      " conv3_block5_1_relu (Activatio  (None, 32, 32, 128)  0          ['conv3_block5_1_bn[0][0]']      \n",
      " n)                                                                                               \n",
      "                                                                                                  \n",
      " conv3_block5_2_conv (Conv2D)   (None, 32, 32, 32)   36864       ['conv3_block5_1_relu[0][0]']    \n",
      "                                                                                                  \n",
      " conv3_block5_concat (Concatena  (None, 32, 32, 288)  0          ['conv3_block4_concat[0][0]',    \n",
      " te)                                                              'conv3_block5_2_conv[0][0]']    \n",
      "                                                                                                  \n",
      " conv3_block6_0_bn (BatchNormal  (None, 32, 32, 288)  1152       ['conv3_block5_concat[0][0]']    \n",
      " ization)                                                                                         \n",
      "                                                                                                  \n",
      " conv3_block6_0_relu (Activatio  (None, 32, 32, 288)  0          ['conv3_block6_0_bn[0][0]']      \n",
      " n)                                                                                               \n",
      "                                                                                                  \n",
      " conv3_block6_1_conv (Conv2D)   (None, 32, 32, 128)  36864       ['conv3_block6_0_relu[0][0]']    \n",
      "                                                                                                  \n",
      " conv3_block6_1_bn (BatchNormal  (None, 32, 32, 128)  512        ['conv3_block6_1_conv[0][0]']    \n"
     ]
    },
    {
     "name": "stdout",
     "output_type": "stream",
     "text": [
      " ization)                                                                                         \n",
      "                                                                                                  \n",
      " conv3_block6_1_relu (Activatio  (None, 32, 32, 128)  0          ['conv3_block6_1_bn[0][0]']      \n",
      " n)                                                                                               \n",
      "                                                                                                  \n",
      " conv3_block6_2_conv (Conv2D)   (None, 32, 32, 32)   36864       ['conv3_block6_1_relu[0][0]']    \n",
      "                                                                                                  \n",
      " conv3_block6_concat (Concatena  (None, 32, 32, 320)  0          ['conv3_block5_concat[0][0]',    \n",
      " te)                                                              'conv3_block6_2_conv[0][0]']    \n",
      "                                                                                                  \n",
      " conv3_block7_0_bn (BatchNormal  (None, 32, 32, 320)  1280       ['conv3_block6_concat[0][0]']    \n",
      " ization)                                                                                         \n",
      "                                                                                                  \n",
      " conv3_block7_0_relu (Activatio  (None, 32, 32, 320)  0          ['conv3_block7_0_bn[0][0]']      \n",
      " n)                                                                                               \n",
      "                                                                                                  \n",
      " conv3_block7_1_conv (Conv2D)   (None, 32, 32, 128)  40960       ['conv3_block7_0_relu[0][0]']    \n",
      "                                                                                                  \n",
      " conv3_block7_1_bn (BatchNormal  (None, 32, 32, 128)  512        ['conv3_block7_1_conv[0][0]']    \n",
      " ization)                                                                                         \n",
      "                                                                                                  \n",
      " conv3_block7_1_relu (Activatio  (None, 32, 32, 128)  0          ['conv3_block7_1_bn[0][0]']      \n",
      " n)                                                                                               \n",
      "                                                                                                  \n",
      " conv3_block7_2_conv (Conv2D)   (None, 32, 32, 32)   36864       ['conv3_block7_1_relu[0][0]']    \n",
      "                                                                                                  \n",
      " conv3_block7_concat (Concatena  (None, 32, 32, 352)  0          ['conv3_block6_concat[0][0]',    \n",
      " te)                                                              'conv3_block7_2_conv[0][0]']    \n",
      "                                                                                                  \n",
      " conv3_block8_0_bn (BatchNormal  (None, 32, 32, 352)  1408       ['conv3_block7_concat[0][0]']    \n",
      " ization)                                                                                         \n",
      "                                                                                                  \n",
      " conv3_block8_0_relu (Activatio  (None, 32, 32, 352)  0          ['conv3_block8_0_bn[0][0]']      \n",
      " n)                                                                                               \n",
      "                                                                                                  \n",
      " conv3_block8_1_conv (Conv2D)   (None, 32, 32, 128)  45056       ['conv3_block8_0_relu[0][0]']    \n",
      "                                                                                                  \n",
      " conv3_block8_1_bn (BatchNormal  (None, 32, 32, 128)  512        ['conv3_block8_1_conv[0][0]']    \n",
      " ization)                                                                                         \n",
      "                                                                                                  \n",
      " conv3_block8_1_relu (Activatio  (None, 32, 32, 128)  0          ['conv3_block8_1_bn[0][0]']      \n",
      " n)                                                                                               \n",
      "                                                                                                  \n",
      " conv3_block8_2_conv (Conv2D)   (None, 32, 32, 32)   36864       ['conv3_block8_1_relu[0][0]']    \n",
      "                                                                                                  \n",
      " conv3_block8_concat (Concatena  (None, 32, 32, 384)  0          ['conv3_block7_concat[0][0]',    \n",
      " te)                                                              'conv3_block8_2_conv[0][0]']    \n",
      "                                                                                                  \n",
      " conv3_block9_0_bn (BatchNormal  (None, 32, 32, 384)  1536       ['conv3_block8_concat[0][0]']    \n",
      " ization)                                                                                         \n",
      "                                                                                                  \n",
      " conv3_block9_0_relu (Activatio  (None, 32, 32, 384)  0          ['conv3_block9_0_bn[0][0]']      \n",
      " n)                                                                                               \n",
      "                                                                                                  \n",
      " conv3_block9_1_conv (Conv2D)   (None, 32, 32, 128)  49152       ['conv3_block9_0_relu[0][0]']    \n",
      "                                                                                                  \n",
      " conv3_block9_1_bn (BatchNormal  (None, 32, 32, 128)  512        ['conv3_block9_1_conv[0][0]']    \n",
      " ization)                                                                                         \n",
      "                                                                                                  \n",
      " conv3_block9_1_relu (Activatio  (None, 32, 32, 128)  0          ['conv3_block9_1_bn[0][0]']      \n",
      " n)                                                                                               \n",
      "                                                                                                  \n",
      " conv3_block9_2_conv (Conv2D)   (None, 32, 32, 32)   36864       ['conv3_block9_1_relu[0][0]']    \n",
      "                                                                                                  \n",
      " conv3_block9_concat (Concatena  (None, 32, 32, 416)  0          ['conv3_block8_concat[0][0]',    \n",
      " te)                                                              'conv3_block9_2_conv[0][0]']    \n",
      "                                                                                                  \n",
      " conv3_block10_0_bn (BatchNorma  (None, 32, 32, 416)  1664       ['conv3_block9_concat[0][0]']    \n",
      " lization)                                                                                        \n",
      "                                                                                                  \n",
      " conv3_block10_0_relu (Activati  (None, 32, 32, 416)  0          ['conv3_block10_0_bn[0][0]']     \n",
      " on)                                                                                              \n",
      "                                                                                                  \n",
      " conv3_block10_1_conv (Conv2D)  (None, 32, 32, 128)  53248       ['conv3_block10_0_relu[0][0]']   \n",
      "                                                                                                  \n",
      " conv3_block10_1_bn (BatchNorma  (None, 32, 32, 128)  512        ['conv3_block10_1_conv[0][0]']   \n",
      " lization)                                                                                        \n",
      "                                                                                                  \n",
      " conv3_block10_1_relu (Activati  (None, 32, 32, 128)  0          ['conv3_block10_1_bn[0][0]']     \n",
      " on)                                                                                              \n",
      "                                                                                                  \n",
      " conv3_block10_2_conv (Conv2D)  (None, 32, 32, 32)   36864       ['conv3_block10_1_relu[0][0]']   \n",
      "                                                                                                  \n"
     ]
    },
    {
     "name": "stdout",
     "output_type": "stream",
     "text": [
      " conv3_block10_concat (Concaten  (None, 32, 32, 448)  0          ['conv3_block9_concat[0][0]',    \n",
      " ate)                                                             'conv3_block10_2_conv[0][0]']   \n",
      "                                                                                                  \n",
      " conv3_block11_0_bn (BatchNorma  (None, 32, 32, 448)  1792       ['conv3_block10_concat[0][0]']   \n",
      " lization)                                                                                        \n",
      "                                                                                                  \n",
      " conv3_block11_0_relu (Activati  (None, 32, 32, 448)  0          ['conv3_block11_0_bn[0][0]']     \n",
      " on)                                                                                              \n",
      "                                                                                                  \n",
      " conv3_block11_1_conv (Conv2D)  (None, 32, 32, 128)  57344       ['conv3_block11_0_relu[0][0]']   \n",
      "                                                                                                  \n",
      " conv3_block11_1_bn (BatchNorma  (None, 32, 32, 128)  512        ['conv3_block11_1_conv[0][0]']   \n",
      " lization)                                                                                        \n",
      "                                                                                                  \n",
      " conv3_block11_1_relu (Activati  (None, 32, 32, 128)  0          ['conv3_block11_1_bn[0][0]']     \n",
      " on)                                                                                              \n",
      "                                                                                                  \n",
      " conv3_block11_2_conv (Conv2D)  (None, 32, 32, 32)   36864       ['conv3_block11_1_relu[0][0]']   \n",
      "                                                                                                  \n",
      " conv3_block11_concat (Concaten  (None, 32, 32, 480)  0          ['conv3_block10_concat[0][0]',   \n",
      " ate)                                                             'conv3_block11_2_conv[0][0]']   \n",
      "                                                                                                  \n",
      " conv3_block12_0_bn (BatchNorma  (None, 32, 32, 480)  1920       ['conv3_block11_concat[0][0]']   \n",
      " lization)                                                                                        \n",
      "                                                                                                  \n",
      " conv3_block12_0_relu (Activati  (None, 32, 32, 480)  0          ['conv3_block12_0_bn[0][0]']     \n",
      " on)                                                                                              \n",
      "                                                                                                  \n",
      " conv3_block12_1_conv (Conv2D)  (None, 32, 32, 128)  61440       ['conv3_block12_0_relu[0][0]']   \n",
      "                                                                                                  \n",
      " conv3_block12_1_bn (BatchNorma  (None, 32, 32, 128)  512        ['conv3_block12_1_conv[0][0]']   \n",
      " lization)                                                                                        \n",
      "                                                                                                  \n",
      " conv3_block12_1_relu (Activati  (None, 32, 32, 128)  0          ['conv3_block12_1_bn[0][0]']     \n",
      " on)                                                                                              \n",
      "                                                                                                  \n",
      " conv3_block12_2_conv (Conv2D)  (None, 32, 32, 32)   36864       ['conv3_block12_1_relu[0][0]']   \n",
      "                                                                                                  \n",
      " conv3_block12_concat (Concaten  (None, 32, 32, 512)  0          ['conv3_block11_concat[0][0]',   \n",
      " ate)                                                             'conv3_block12_2_conv[0][0]']   \n",
      "                                                                                                  \n",
      " pool3_bn (BatchNormalization)  (None, 32, 32, 512)  2048        ['conv3_block12_concat[0][0]']   \n",
      "                                                                                                  \n",
      " pool3_relu (Activation)        (None, 32, 32, 512)  0           ['pool3_bn[0][0]']               \n",
      "                                                                                                  \n",
      " pool3_conv (Conv2D)            (None, 32, 32, 256)  131072      ['pool3_relu[0][0]']             \n",
      "                                                                                                  \n",
      " pool3_pool (AveragePooling2D)  (None, 16, 16, 256)  0           ['pool3_conv[0][0]']             \n",
      "                                                                                                  \n",
      " conv4_block1_0_bn (BatchNormal  (None, 16, 16, 256)  1024       ['pool3_pool[0][0]']             \n",
      " ization)                                                                                         \n",
      "                                                                                                  \n",
      " conv4_block1_0_relu (Activatio  (None, 16, 16, 256)  0          ['conv4_block1_0_bn[0][0]']      \n",
      " n)                                                                                               \n",
      "                                                                                                  \n",
      " conv4_block1_1_conv (Conv2D)   (None, 16, 16, 128)  32768       ['conv4_block1_0_relu[0][0]']    \n",
      "                                                                                                  \n",
      " conv4_block1_1_bn (BatchNormal  (None, 16, 16, 128)  512        ['conv4_block1_1_conv[0][0]']    \n",
      " ization)                                                                                         \n",
      "                                                                                                  \n",
      " conv4_block1_1_relu (Activatio  (None, 16, 16, 128)  0          ['conv4_block1_1_bn[0][0]']      \n",
      " n)                                                                                               \n",
      "                                                                                                  \n",
      " conv4_block1_2_conv (Conv2D)   (None, 16, 16, 32)   36864       ['conv4_block1_1_relu[0][0]']    \n",
      "                                                                                                  \n",
      " conv4_block1_concat (Concatena  (None, 16, 16, 288)  0          ['pool3_pool[0][0]',             \n",
      " te)                                                              'conv4_block1_2_conv[0][0]']    \n",
      "                                                                                                  \n",
      " conv4_block2_0_bn (BatchNormal  (None, 16, 16, 288)  1152       ['conv4_block1_concat[0][0]']    \n",
      " ization)                                                                                         \n",
      "                                                                                                  \n",
      " conv4_block2_0_relu (Activatio  (None, 16, 16, 288)  0          ['conv4_block2_0_bn[0][0]']      \n",
      " n)                                                                                               \n",
      "                                                                                                  \n",
      " conv4_block2_1_conv (Conv2D)   (None, 16, 16, 128)  36864       ['conv4_block2_0_relu[0][0]']    \n",
      "                                                                                                  \n",
      " conv4_block2_1_bn (BatchNormal  (None, 16, 16, 128)  512        ['conv4_block2_1_conv[0][0]']    \n",
      " ization)                                                                                         \n",
      "                                                                                                  \n",
      " conv4_block2_1_relu (Activatio  (None, 16, 16, 128)  0          ['conv4_block2_1_bn[0][0]']      \n",
      " n)                                                                                               \n",
      "                                                                                                  \n",
      " conv4_block2_2_conv (Conv2D)   (None, 16, 16, 32)   36864       ['conv4_block2_1_relu[0][0]']    \n"
     ]
    },
    {
     "name": "stdout",
     "output_type": "stream",
     "text": [
      "                                                                                                  \n",
      " conv4_block2_concat (Concatena  (None, 16, 16, 320)  0          ['conv4_block1_concat[0][0]',    \n",
      " te)                                                              'conv4_block2_2_conv[0][0]']    \n",
      "                                                                                                  \n",
      " conv4_block3_0_bn (BatchNormal  (None, 16, 16, 320)  1280       ['conv4_block2_concat[0][0]']    \n",
      " ization)                                                                                         \n",
      "                                                                                                  \n",
      " conv4_block3_0_relu (Activatio  (None, 16, 16, 320)  0          ['conv4_block3_0_bn[0][0]']      \n",
      " n)                                                                                               \n",
      "                                                                                                  \n",
      " conv4_block3_1_conv (Conv2D)   (None, 16, 16, 128)  40960       ['conv4_block3_0_relu[0][0]']    \n",
      "                                                                                                  \n",
      " conv4_block3_1_bn (BatchNormal  (None, 16, 16, 128)  512        ['conv4_block3_1_conv[0][0]']    \n",
      " ization)                                                                                         \n",
      "                                                                                                  \n",
      " conv4_block3_1_relu (Activatio  (None, 16, 16, 128)  0          ['conv4_block3_1_bn[0][0]']      \n",
      " n)                                                                                               \n",
      "                                                                                                  \n",
      " conv4_block3_2_conv (Conv2D)   (None, 16, 16, 32)   36864       ['conv4_block3_1_relu[0][0]']    \n",
      "                                                                                                  \n",
      " conv4_block3_concat (Concatena  (None, 16, 16, 352)  0          ['conv4_block2_concat[0][0]',    \n",
      " te)                                                              'conv4_block3_2_conv[0][0]']    \n",
      "                                                                                                  \n",
      " conv4_block4_0_bn (BatchNormal  (None, 16, 16, 352)  1408       ['conv4_block3_concat[0][0]']    \n",
      " ization)                                                                                         \n",
      "                                                                                                  \n",
      " conv4_block4_0_relu (Activatio  (None, 16, 16, 352)  0          ['conv4_block4_0_bn[0][0]']      \n",
      " n)                                                                                               \n",
      "                                                                                                  \n",
      " conv4_block4_1_conv (Conv2D)   (None, 16, 16, 128)  45056       ['conv4_block4_0_relu[0][0]']    \n",
      "                                                                                                  \n",
      " conv4_block4_1_bn (BatchNormal  (None, 16, 16, 128)  512        ['conv4_block4_1_conv[0][0]']    \n",
      " ization)                                                                                         \n",
      "                                                                                                  \n",
      " conv4_block4_1_relu (Activatio  (None, 16, 16, 128)  0          ['conv4_block4_1_bn[0][0]']      \n",
      " n)                                                                                               \n",
      "                                                                                                  \n",
      " conv4_block4_2_conv (Conv2D)   (None, 16, 16, 32)   36864       ['conv4_block4_1_relu[0][0]']    \n",
      "                                                                                                  \n",
      " conv4_block4_concat (Concatena  (None, 16, 16, 384)  0          ['conv4_block3_concat[0][0]',    \n",
      " te)                                                              'conv4_block4_2_conv[0][0]']    \n",
      "                                                                                                  \n",
      " conv4_block5_0_bn (BatchNormal  (None, 16, 16, 384)  1536       ['conv4_block4_concat[0][0]']    \n",
      " ization)                                                                                         \n",
      "                                                                                                  \n",
      " conv4_block5_0_relu (Activatio  (None, 16, 16, 384)  0          ['conv4_block5_0_bn[0][0]']      \n",
      " n)                                                                                               \n",
      "                                                                                                  \n",
      " conv4_block5_1_conv (Conv2D)   (None, 16, 16, 128)  49152       ['conv4_block5_0_relu[0][0]']    \n",
      "                                                                                                  \n",
      " conv4_block5_1_bn (BatchNormal  (None, 16, 16, 128)  512        ['conv4_block5_1_conv[0][0]']    \n",
      " ization)                                                                                         \n",
      "                                                                                                  \n",
      " conv4_block5_1_relu (Activatio  (None, 16, 16, 128)  0          ['conv4_block5_1_bn[0][0]']      \n",
      " n)                                                                                               \n",
      "                                                                                                  \n",
      " conv4_block5_2_conv (Conv2D)   (None, 16, 16, 32)   36864       ['conv4_block5_1_relu[0][0]']    \n",
      "                                                                                                  \n",
      " conv4_block5_concat (Concatena  (None, 16, 16, 416)  0          ['conv4_block4_concat[0][0]',    \n",
      " te)                                                              'conv4_block5_2_conv[0][0]']    \n",
      "                                                                                                  \n",
      " conv4_block6_0_bn (BatchNormal  (None, 16, 16, 416)  1664       ['conv4_block5_concat[0][0]']    \n",
      " ization)                                                                                         \n",
      "                                                                                                  \n",
      " conv4_block6_0_relu (Activatio  (None, 16, 16, 416)  0          ['conv4_block6_0_bn[0][0]']      \n",
      " n)                                                                                               \n",
      "                                                                                                  \n",
      " conv4_block6_1_conv (Conv2D)   (None, 16, 16, 128)  53248       ['conv4_block6_0_relu[0][0]']    \n",
      "                                                                                                  \n",
      " conv4_block6_1_bn (BatchNormal  (None, 16, 16, 128)  512        ['conv4_block6_1_conv[0][0]']    \n",
      " ization)                                                                                         \n",
      "                                                                                                  \n",
      " conv4_block6_1_relu (Activatio  (None, 16, 16, 128)  0          ['conv4_block6_1_bn[0][0]']      \n",
      " n)                                                                                               \n",
      "                                                                                                  \n",
      " conv4_block6_2_conv (Conv2D)   (None, 16, 16, 32)   36864       ['conv4_block6_1_relu[0][0]']    \n",
      "                                                                                                  \n",
      " conv4_block6_concat (Concatena  (None, 16, 16, 448)  0          ['conv4_block5_concat[0][0]',    \n",
      " te)                                                              'conv4_block6_2_conv[0][0]']    \n",
      "                                                                                                  \n",
      " conv4_block7_0_bn (BatchNormal  (None, 16, 16, 448)  1792       ['conv4_block6_concat[0][0]']    \n",
      " ization)                                                                                         \n",
      "                                                                                                  \n"
     ]
    },
    {
     "name": "stdout",
     "output_type": "stream",
     "text": [
      " conv4_block7_0_relu (Activatio  (None, 16, 16, 448)  0          ['conv4_block7_0_bn[0][0]']      \n",
      " n)                                                                                               \n",
      "                                                                                                  \n",
      " conv4_block7_1_conv (Conv2D)   (None, 16, 16, 128)  57344       ['conv4_block7_0_relu[0][0]']    \n",
      "                                                                                                  \n",
      " conv4_block7_1_bn (BatchNormal  (None, 16, 16, 128)  512        ['conv4_block7_1_conv[0][0]']    \n",
      " ization)                                                                                         \n",
      "                                                                                                  \n",
      " conv4_block7_1_relu (Activatio  (None, 16, 16, 128)  0          ['conv4_block7_1_bn[0][0]']      \n",
      " n)                                                                                               \n",
      "                                                                                                  \n",
      " conv4_block7_2_conv (Conv2D)   (None, 16, 16, 32)   36864       ['conv4_block7_1_relu[0][0]']    \n",
      "                                                                                                  \n",
      " conv4_block7_concat (Concatena  (None, 16, 16, 480)  0          ['conv4_block6_concat[0][0]',    \n",
      " te)                                                              'conv4_block7_2_conv[0][0]']    \n",
      "                                                                                                  \n",
      " conv4_block8_0_bn (BatchNormal  (None, 16, 16, 480)  1920       ['conv4_block7_concat[0][0]']    \n",
      " ization)                                                                                         \n",
      "                                                                                                  \n",
      " conv4_block8_0_relu (Activatio  (None, 16, 16, 480)  0          ['conv4_block8_0_bn[0][0]']      \n",
      " n)                                                                                               \n",
      "                                                                                                  \n",
      " conv4_block8_1_conv (Conv2D)   (None, 16, 16, 128)  61440       ['conv4_block8_0_relu[0][0]']    \n",
      "                                                                                                  \n",
      " conv4_block8_1_bn (BatchNormal  (None, 16, 16, 128)  512        ['conv4_block8_1_conv[0][0]']    \n",
      " ization)                                                                                         \n",
      "                                                                                                  \n",
      " conv4_block8_1_relu (Activatio  (None, 16, 16, 128)  0          ['conv4_block8_1_bn[0][0]']      \n",
      " n)                                                                                               \n",
      "                                                                                                  \n",
      " conv4_block8_2_conv (Conv2D)   (None, 16, 16, 32)   36864       ['conv4_block8_1_relu[0][0]']    \n",
      "                                                                                                  \n",
      " conv4_block8_concat (Concatena  (None, 16, 16, 512)  0          ['conv4_block7_concat[0][0]',    \n",
      " te)                                                              'conv4_block8_2_conv[0][0]']    \n",
      "                                                                                                  \n",
      " conv4_block9_0_bn (BatchNormal  (None, 16, 16, 512)  2048       ['conv4_block8_concat[0][0]']    \n",
      " ization)                                                                                         \n",
      "                                                                                                  \n",
      " conv4_block9_0_relu (Activatio  (None, 16, 16, 512)  0          ['conv4_block9_0_bn[0][0]']      \n",
      " n)                                                                                               \n",
      "                                                                                                  \n",
      " conv4_block9_1_conv (Conv2D)   (None, 16, 16, 128)  65536       ['conv4_block9_0_relu[0][0]']    \n",
      "                                                                                                  \n",
      " conv4_block9_1_bn (BatchNormal  (None, 16, 16, 128)  512        ['conv4_block9_1_conv[0][0]']    \n",
      " ization)                                                                                         \n",
      "                                                                                                  \n",
      " conv4_block9_1_relu (Activatio  (None, 16, 16, 128)  0          ['conv4_block9_1_bn[0][0]']      \n",
      " n)                                                                                               \n",
      "                                                                                                  \n",
      " conv4_block9_2_conv (Conv2D)   (None, 16, 16, 32)   36864       ['conv4_block9_1_relu[0][0]']    \n",
      "                                                                                                  \n",
      " conv4_block9_concat (Concatena  (None, 16, 16, 544)  0          ['conv4_block8_concat[0][0]',    \n",
      " te)                                                              'conv4_block9_2_conv[0][0]']    \n",
      "                                                                                                  \n",
      " conv4_block10_0_bn (BatchNorma  (None, 16, 16, 544)  2176       ['conv4_block9_concat[0][0]']    \n",
      " lization)                                                                                        \n",
      "                                                                                                  \n",
      " conv4_block10_0_relu (Activati  (None, 16, 16, 544)  0          ['conv4_block10_0_bn[0][0]']     \n",
      " on)                                                                                              \n",
      "                                                                                                  \n",
      " conv4_block10_1_conv (Conv2D)  (None, 16, 16, 128)  69632       ['conv4_block10_0_relu[0][0]']   \n",
      "                                                                                                  \n",
      " conv4_block10_1_bn (BatchNorma  (None, 16, 16, 128)  512        ['conv4_block10_1_conv[0][0]']   \n",
      " lization)                                                                                        \n",
      "                                                                                                  \n",
      " conv4_block10_1_relu (Activati  (None, 16, 16, 128)  0          ['conv4_block10_1_bn[0][0]']     \n",
      " on)                                                                                              \n",
      "                                                                                                  \n",
      " conv4_block10_2_conv (Conv2D)  (None, 16, 16, 32)   36864       ['conv4_block10_1_relu[0][0]']   \n",
      "                                                                                                  \n",
      " conv4_block10_concat (Concaten  (None, 16, 16, 576)  0          ['conv4_block9_concat[0][0]',    \n",
      " ate)                                                             'conv4_block10_2_conv[0][0]']   \n",
      "                                                                                                  \n",
      " conv4_block11_0_bn (BatchNorma  (None, 16, 16, 576)  2304       ['conv4_block10_concat[0][0]']   \n",
      " lization)                                                                                        \n",
      "                                                                                                  \n",
      " conv4_block11_0_relu (Activati  (None, 16, 16, 576)  0          ['conv4_block11_0_bn[0][0]']     \n",
      " on)                                                                                              \n",
      "                                                                                                  \n",
      " conv4_block11_1_conv (Conv2D)  (None, 16, 16, 128)  73728       ['conv4_block11_0_relu[0][0]']   \n",
      "                                                                                                  \n",
      " conv4_block11_1_bn (BatchNorma  (None, 16, 16, 128)  512        ['conv4_block11_1_conv[0][0]']   \n",
      " lization)                                                                                        \n"
     ]
    },
    {
     "name": "stdout",
     "output_type": "stream",
     "text": [
      "                                                                                                  \n",
      " conv4_block11_1_relu (Activati  (None, 16, 16, 128)  0          ['conv4_block11_1_bn[0][0]']     \n",
      " on)                                                                                              \n",
      "                                                                                                  \n",
      " conv4_block11_2_conv (Conv2D)  (None, 16, 16, 32)   36864       ['conv4_block11_1_relu[0][0]']   \n",
      "                                                                                                  \n",
      " conv4_block11_concat (Concaten  (None, 16, 16, 608)  0          ['conv4_block10_concat[0][0]',   \n",
      " ate)                                                             'conv4_block11_2_conv[0][0]']   \n",
      "                                                                                                  \n",
      " conv4_block12_0_bn (BatchNorma  (None, 16, 16, 608)  2432       ['conv4_block11_concat[0][0]']   \n",
      " lization)                                                                                        \n",
      "                                                                                                  \n",
      " conv4_block12_0_relu (Activati  (None, 16, 16, 608)  0          ['conv4_block12_0_bn[0][0]']     \n",
      " on)                                                                                              \n",
      "                                                                                                  \n",
      " conv4_block12_1_conv (Conv2D)  (None, 16, 16, 128)  77824       ['conv4_block12_0_relu[0][0]']   \n",
      "                                                                                                  \n",
      " conv4_block12_1_bn (BatchNorma  (None, 16, 16, 128)  512        ['conv4_block12_1_conv[0][0]']   \n",
      " lization)                                                                                        \n",
      "                                                                                                  \n",
      " conv4_block12_1_relu (Activati  (None, 16, 16, 128)  0          ['conv4_block12_1_bn[0][0]']     \n",
      " on)                                                                                              \n",
      "                                                                                                  \n",
      " conv4_block12_2_conv (Conv2D)  (None, 16, 16, 32)   36864       ['conv4_block12_1_relu[0][0]']   \n",
      "                                                                                                  \n",
      " conv4_block12_concat (Concaten  (None, 16, 16, 640)  0          ['conv4_block11_concat[0][0]',   \n",
      " ate)                                                             'conv4_block12_2_conv[0][0]']   \n",
      "                                                                                                  \n",
      " conv4_block13_0_bn (BatchNorma  (None, 16, 16, 640)  2560       ['conv4_block12_concat[0][0]']   \n",
      " lization)                                                                                        \n",
      "                                                                                                  \n",
      " conv4_block13_0_relu (Activati  (None, 16, 16, 640)  0          ['conv4_block13_0_bn[0][0]']     \n",
      " on)                                                                                              \n",
      "                                                                                                  \n",
      " conv4_block13_1_conv (Conv2D)  (None, 16, 16, 128)  81920       ['conv4_block13_0_relu[0][0]']   \n",
      "                                                                                                  \n",
      " conv4_block13_1_bn (BatchNorma  (None, 16, 16, 128)  512        ['conv4_block13_1_conv[0][0]']   \n",
      " lization)                                                                                        \n",
      "                                                                                                  \n",
      " conv4_block13_1_relu (Activati  (None, 16, 16, 128)  0          ['conv4_block13_1_bn[0][0]']     \n",
      " on)                                                                                              \n",
      "                                                                                                  \n",
      " conv4_block13_2_conv (Conv2D)  (None, 16, 16, 32)   36864       ['conv4_block13_1_relu[0][0]']   \n",
      "                                                                                                  \n",
      " conv4_block13_concat (Concaten  (None, 16, 16, 672)  0          ['conv4_block12_concat[0][0]',   \n",
      " ate)                                                             'conv4_block13_2_conv[0][0]']   \n",
      "                                                                                                  \n",
      " conv4_block14_0_bn (BatchNorma  (None, 16, 16, 672)  2688       ['conv4_block13_concat[0][0]']   \n",
      " lization)                                                                                        \n",
      "                                                                                                  \n",
      " conv4_block14_0_relu (Activati  (None, 16, 16, 672)  0          ['conv4_block14_0_bn[0][0]']     \n",
      " on)                                                                                              \n",
      "                                                                                                  \n",
      " conv4_block14_1_conv (Conv2D)  (None, 16, 16, 128)  86016       ['conv4_block14_0_relu[0][0]']   \n",
      "                                                                                                  \n",
      " conv4_block14_1_bn (BatchNorma  (None, 16, 16, 128)  512        ['conv4_block14_1_conv[0][0]']   \n",
      " lization)                                                                                        \n",
      "                                                                                                  \n",
      " conv4_block14_1_relu (Activati  (None, 16, 16, 128)  0          ['conv4_block14_1_bn[0][0]']     \n",
      " on)                                                                                              \n",
      "                                                                                                  \n",
      " conv4_block14_2_conv (Conv2D)  (None, 16, 16, 32)   36864       ['conv4_block14_1_relu[0][0]']   \n",
      "                                                                                                  \n",
      " conv4_block14_concat (Concaten  (None, 16, 16, 704)  0          ['conv4_block13_concat[0][0]',   \n",
      " ate)                                                             'conv4_block14_2_conv[0][0]']   \n",
      "                                                                                                  \n",
      " conv4_block15_0_bn (BatchNorma  (None, 16, 16, 704)  2816       ['conv4_block14_concat[0][0]']   \n",
      " lization)                                                                                        \n",
      "                                                                                                  \n",
      " conv4_block15_0_relu (Activati  (None, 16, 16, 704)  0          ['conv4_block15_0_bn[0][0]']     \n",
      " on)                                                                                              \n",
      "                                                                                                  \n",
      " conv4_block15_1_conv (Conv2D)  (None, 16, 16, 128)  90112       ['conv4_block15_0_relu[0][0]']   \n",
      "                                                                                                  \n",
      " conv4_block15_1_bn (BatchNorma  (None, 16, 16, 128)  512        ['conv4_block15_1_conv[0][0]']   \n",
      " lization)                                                                                        \n",
      "                                                                                                  \n",
      " conv4_block15_1_relu (Activati  (None, 16, 16, 128)  0          ['conv4_block15_1_bn[0][0]']     \n",
      " on)                                                                                              \n",
      "                                                                                                  \n",
      " conv4_block15_2_conv (Conv2D)  (None, 16, 16, 32)   36864       ['conv4_block15_1_relu[0][0]']   \n",
      "                                                                                                  \n",
      " conv4_block15_concat (Concaten  (None, 16, 16, 736)  0          ['conv4_block14_concat[0][0]',   \n"
     ]
    },
    {
     "name": "stdout",
     "output_type": "stream",
     "text": [
      " ate)                                                             'conv4_block15_2_conv[0][0]']   \n",
      "                                                                                                  \n",
      " conv4_block16_0_bn (BatchNorma  (None, 16, 16, 736)  2944       ['conv4_block15_concat[0][0]']   \n",
      " lization)                                                                                        \n",
      "                                                                                                  \n",
      " conv4_block16_0_relu (Activati  (None, 16, 16, 736)  0          ['conv4_block16_0_bn[0][0]']     \n",
      " on)                                                                                              \n",
      "                                                                                                  \n",
      " conv4_block16_1_conv (Conv2D)  (None, 16, 16, 128)  94208       ['conv4_block16_0_relu[0][0]']   \n",
      "                                                                                                  \n",
      " conv4_block16_1_bn (BatchNorma  (None, 16, 16, 128)  512        ['conv4_block16_1_conv[0][0]']   \n",
      " lization)                                                                                        \n",
      "                                                                                                  \n",
      " conv4_block16_1_relu (Activati  (None, 16, 16, 128)  0          ['conv4_block16_1_bn[0][0]']     \n",
      " on)                                                                                              \n",
      "                                                                                                  \n",
      " conv4_block16_2_conv (Conv2D)  (None, 16, 16, 32)   36864       ['conv4_block16_1_relu[0][0]']   \n",
      "                                                                                                  \n",
      " conv4_block16_concat (Concaten  (None, 16, 16, 768)  0          ['conv4_block15_concat[0][0]',   \n",
      " ate)                                                             'conv4_block16_2_conv[0][0]']   \n",
      "                                                                                                  \n",
      " conv4_block17_0_bn (BatchNorma  (None, 16, 16, 768)  3072       ['conv4_block16_concat[0][0]']   \n",
      " lization)                                                                                        \n",
      "                                                                                                  \n",
      " conv4_block17_0_relu (Activati  (None, 16, 16, 768)  0          ['conv4_block17_0_bn[0][0]']     \n",
      " on)                                                                                              \n",
      "                                                                                                  \n",
      " conv4_block17_1_conv (Conv2D)  (None, 16, 16, 128)  98304       ['conv4_block17_0_relu[0][0]']   \n",
      "                                                                                                  \n",
      " conv4_block17_1_bn (BatchNorma  (None, 16, 16, 128)  512        ['conv4_block17_1_conv[0][0]']   \n",
      " lization)                                                                                        \n",
      "                                                                                                  \n",
      " conv4_block17_1_relu (Activati  (None, 16, 16, 128)  0          ['conv4_block17_1_bn[0][0]']     \n",
      " on)                                                                                              \n",
      "                                                                                                  \n",
      " conv4_block17_2_conv (Conv2D)  (None, 16, 16, 32)   36864       ['conv4_block17_1_relu[0][0]']   \n",
      "                                                                                                  \n",
      " conv4_block17_concat (Concaten  (None, 16, 16, 800)  0          ['conv4_block16_concat[0][0]',   \n",
      " ate)                                                             'conv4_block17_2_conv[0][0]']   \n",
      "                                                                                                  \n",
      " conv4_block18_0_bn (BatchNorma  (None, 16, 16, 800)  3200       ['conv4_block17_concat[0][0]']   \n",
      " lization)                                                                                        \n",
      "                                                                                                  \n",
      " conv4_block18_0_relu (Activati  (None, 16, 16, 800)  0          ['conv4_block18_0_bn[0][0]']     \n",
      " on)                                                                                              \n",
      "                                                                                                  \n",
      " conv4_block18_1_conv (Conv2D)  (None, 16, 16, 128)  102400      ['conv4_block18_0_relu[0][0]']   \n",
      "                                                                                                  \n",
      " conv4_block18_1_bn (BatchNorma  (None, 16, 16, 128)  512        ['conv4_block18_1_conv[0][0]']   \n",
      " lization)                                                                                        \n",
      "                                                                                                  \n",
      " conv4_block18_1_relu (Activati  (None, 16, 16, 128)  0          ['conv4_block18_1_bn[0][0]']     \n",
      " on)                                                                                              \n",
      "                                                                                                  \n",
      " conv4_block18_2_conv (Conv2D)  (None, 16, 16, 32)   36864       ['conv4_block18_1_relu[0][0]']   \n",
      "                                                                                                  \n",
      " conv4_block18_concat (Concaten  (None, 16, 16, 832)  0          ['conv4_block17_concat[0][0]',   \n",
      " ate)                                                             'conv4_block18_2_conv[0][0]']   \n",
      "                                                                                                  \n",
      " conv4_block19_0_bn (BatchNorma  (None, 16, 16, 832)  3328       ['conv4_block18_concat[0][0]']   \n",
      " lization)                                                                                        \n",
      "                                                                                                  \n",
      " conv4_block19_0_relu (Activati  (None, 16, 16, 832)  0          ['conv4_block19_0_bn[0][0]']     \n",
      " on)                                                                                              \n",
      "                                                                                                  \n",
      " conv4_block19_1_conv (Conv2D)  (None, 16, 16, 128)  106496      ['conv4_block19_0_relu[0][0]']   \n",
      "                                                                                                  \n",
      " conv4_block19_1_bn (BatchNorma  (None, 16, 16, 128)  512        ['conv4_block19_1_conv[0][0]']   \n",
      " lization)                                                                                        \n",
      "                                                                                                  \n",
      " conv4_block19_1_relu (Activati  (None, 16, 16, 128)  0          ['conv4_block19_1_bn[0][0]']     \n",
      " on)                                                                                              \n",
      "                                                                                                  \n",
      " conv4_block19_2_conv (Conv2D)  (None, 16, 16, 32)   36864       ['conv4_block19_1_relu[0][0]']   \n",
      "                                                                                                  \n",
      " conv4_block19_concat (Concaten  (None, 16, 16, 864)  0          ['conv4_block18_concat[0][0]',   \n",
      " ate)                                                             'conv4_block19_2_conv[0][0]']   \n",
      "                                                                                                  \n",
      " conv4_block20_0_bn (BatchNorma  (None, 16, 16, 864)  3456       ['conv4_block19_concat[0][0]']   \n",
      " lization)                                                                                        \n",
      "                                                                                                  \n",
      " conv4_block20_0_relu (Activati  (None, 16, 16, 864)  0          ['conv4_block20_0_bn[0][0]']     \n",
      " on)                                                                                              \n"
     ]
    },
    {
     "name": "stdout",
     "output_type": "stream",
     "text": [
      "                                                                                                  \n",
      " conv4_block20_1_conv (Conv2D)  (None, 16, 16, 128)  110592      ['conv4_block20_0_relu[0][0]']   \n",
      "                                                                                                  \n",
      " conv4_block20_1_bn (BatchNorma  (None, 16, 16, 128)  512        ['conv4_block20_1_conv[0][0]']   \n",
      " lization)                                                                                        \n",
      "                                                                                                  \n",
      " conv4_block20_1_relu (Activati  (None, 16, 16, 128)  0          ['conv4_block20_1_bn[0][0]']     \n",
      " on)                                                                                              \n",
      "                                                                                                  \n",
      " conv4_block20_2_conv (Conv2D)  (None, 16, 16, 32)   36864       ['conv4_block20_1_relu[0][0]']   \n",
      "                                                                                                  \n",
      " conv4_block20_concat (Concaten  (None, 16, 16, 896)  0          ['conv4_block19_concat[0][0]',   \n",
      " ate)                                                             'conv4_block20_2_conv[0][0]']   \n",
      "                                                                                                  \n",
      " conv4_block21_0_bn (BatchNorma  (None, 16, 16, 896)  3584       ['conv4_block20_concat[0][0]']   \n",
      " lization)                                                                                        \n",
      "                                                                                                  \n",
      " conv4_block21_0_relu (Activati  (None, 16, 16, 896)  0          ['conv4_block21_0_bn[0][0]']     \n",
      " on)                                                                                              \n",
      "                                                                                                  \n",
      " conv4_block21_1_conv (Conv2D)  (None, 16, 16, 128)  114688      ['conv4_block21_0_relu[0][0]']   \n",
      "                                                                                                  \n",
      " conv4_block21_1_bn (BatchNorma  (None, 16, 16, 128)  512        ['conv4_block21_1_conv[0][0]']   \n",
      " lization)                                                                                        \n",
      "                                                                                                  \n",
      " conv4_block21_1_relu (Activati  (None, 16, 16, 128)  0          ['conv4_block21_1_bn[0][0]']     \n",
      " on)                                                                                              \n",
      "                                                                                                  \n",
      " conv4_block21_2_conv (Conv2D)  (None, 16, 16, 32)   36864       ['conv4_block21_1_relu[0][0]']   \n",
      "                                                                                                  \n",
      " conv4_block21_concat (Concaten  (None, 16, 16, 928)  0          ['conv4_block20_concat[0][0]',   \n",
      " ate)                                                             'conv4_block21_2_conv[0][0]']   \n",
      "                                                                                                  \n",
      " conv4_block22_0_bn (BatchNorma  (None, 16, 16, 928)  3712       ['conv4_block21_concat[0][0]']   \n",
      " lization)                                                                                        \n",
      "                                                                                                  \n",
      " conv4_block22_0_relu (Activati  (None, 16, 16, 928)  0          ['conv4_block22_0_bn[0][0]']     \n",
      " on)                                                                                              \n",
      "                                                                                                  \n",
      " conv4_block22_1_conv (Conv2D)  (None, 16, 16, 128)  118784      ['conv4_block22_0_relu[0][0]']   \n",
      "                                                                                                  \n",
      " conv4_block22_1_bn (BatchNorma  (None, 16, 16, 128)  512        ['conv4_block22_1_conv[0][0]']   \n",
      " lization)                                                                                        \n",
      "                                                                                                  \n",
      " conv4_block22_1_relu (Activati  (None, 16, 16, 128)  0          ['conv4_block22_1_bn[0][0]']     \n",
      " on)                                                                                              \n",
      "                                                                                                  \n",
      " conv4_block22_2_conv (Conv2D)  (None, 16, 16, 32)   36864       ['conv4_block22_1_relu[0][0]']   \n",
      "                                                                                                  \n",
      " conv4_block22_concat (Concaten  (None, 16, 16, 960)  0          ['conv4_block21_concat[0][0]',   \n",
      " ate)                                                             'conv4_block22_2_conv[0][0]']   \n",
      "                                                                                                  \n",
      " conv4_block23_0_bn (BatchNorma  (None, 16, 16, 960)  3840       ['conv4_block22_concat[0][0]']   \n",
      " lization)                                                                                        \n",
      "                                                                                                  \n",
      " conv4_block23_0_relu (Activati  (None, 16, 16, 960)  0          ['conv4_block23_0_bn[0][0]']     \n",
      " on)                                                                                              \n",
      "                                                                                                  \n",
      " conv4_block23_1_conv (Conv2D)  (None, 16, 16, 128)  122880      ['conv4_block23_0_relu[0][0]']   \n",
      "                                                                                                  \n",
      " conv4_block23_1_bn (BatchNorma  (None, 16, 16, 128)  512        ['conv4_block23_1_conv[0][0]']   \n",
      " lization)                                                                                        \n",
      "                                                                                                  \n",
      " conv4_block23_1_relu (Activati  (None, 16, 16, 128)  0          ['conv4_block23_1_bn[0][0]']     \n",
      " on)                                                                                              \n",
      "                                                                                                  \n",
      " conv4_block23_2_conv (Conv2D)  (None, 16, 16, 32)   36864       ['conv4_block23_1_relu[0][0]']   \n",
      "                                                                                                  \n",
      " conv4_block23_concat (Concaten  (None, 16, 16, 992)  0          ['conv4_block22_concat[0][0]',   \n",
      " ate)                                                             'conv4_block23_2_conv[0][0]']   \n",
      "                                                                                                  \n",
      " conv4_block24_0_bn (BatchNorma  (None, 16, 16, 992)  3968       ['conv4_block23_concat[0][0]']   \n",
      " lization)                                                                                        \n",
      "                                                                                                  \n",
      " conv4_block24_0_relu (Activati  (None, 16, 16, 992)  0          ['conv4_block24_0_bn[0][0]']     \n",
      " on)                                                                                              \n",
      "                                                                                                  \n",
      " conv4_block24_1_conv (Conv2D)  (None, 16, 16, 128)  126976      ['conv4_block24_0_relu[0][0]']   \n",
      "                                                                                                  \n",
      " conv4_block24_1_bn (BatchNorma  (None, 16, 16, 128)  512        ['conv4_block24_1_conv[0][0]']   \n",
      " lization)                                                                                        \n",
      "                                                                                                  \n",
      " conv4_block24_1_relu (Activati  (None, 16, 16, 128)  0          ['conv4_block24_1_bn[0][0]']     \n"
     ]
    },
    {
     "name": "stdout",
     "output_type": "stream",
     "text": [
      " on)                                                                                              \n",
      "                                                                                                  \n",
      " conv4_block24_2_conv (Conv2D)  (None, 16, 16, 32)   36864       ['conv4_block24_1_relu[0][0]']   \n",
      "                                                                                                  \n",
      " conv4_block24_concat (Concaten  (None, 16, 16, 1024  0          ['conv4_block23_concat[0][0]',   \n",
      " ate)                           )                                 'conv4_block24_2_conv[0][0]']   \n",
      "                                                                                                  \n",
      " pool4_bn (BatchNormalization)  (None, 16, 16, 1024  4096        ['conv4_block24_concat[0][0]']   \n",
      "                                )                                                                 \n",
      "                                                                                                  \n",
      " pool4_relu (Activation)        (None, 16, 16, 1024  0           ['pool4_bn[0][0]']               \n",
      "                                )                                                                 \n",
      "                                                                                                  \n",
      " pool4_conv (Conv2D)            (None, 16, 16, 512)  524288      ['pool4_relu[0][0]']             \n",
      "                                                                                                  \n",
      " pool4_pool (AveragePooling2D)  (None, 8, 8, 512)    0           ['pool4_conv[0][0]']             \n",
      "                                                                                                  \n",
      " conv5_block1_0_bn (BatchNormal  (None, 8, 8, 512)   2048        ['pool4_pool[0][0]']             \n",
      " ization)                                                                                         \n",
      "                                                                                                  \n",
      " conv5_block1_0_relu (Activatio  (None, 8, 8, 512)   0           ['conv5_block1_0_bn[0][0]']      \n",
      " n)                                                                                               \n",
      "                                                                                                  \n",
      " conv5_block1_1_conv (Conv2D)   (None, 8, 8, 128)    65536       ['conv5_block1_0_relu[0][0]']    \n",
      "                                                                                                  \n",
      " conv5_block1_1_bn (BatchNormal  (None, 8, 8, 128)   512         ['conv5_block1_1_conv[0][0]']    \n",
      " ization)                                                                                         \n",
      "                                                                                                  \n",
      " conv5_block1_1_relu (Activatio  (None, 8, 8, 128)   0           ['conv5_block1_1_bn[0][0]']      \n",
      " n)                                                                                               \n",
      "                                                                                                  \n",
      " conv5_block1_2_conv (Conv2D)   (None, 8, 8, 32)     36864       ['conv5_block1_1_relu[0][0]']    \n",
      "                                                                                                  \n",
      " conv5_block1_concat (Concatena  (None, 8, 8, 544)   0           ['pool4_pool[0][0]',             \n",
      " te)                                                              'conv5_block1_2_conv[0][0]']    \n",
      "                                                                                                  \n",
      " conv5_block2_0_bn (BatchNormal  (None, 8, 8, 544)   2176        ['conv5_block1_concat[0][0]']    \n",
      " ization)                                                                                         \n",
      "                                                                                                  \n",
      " conv5_block2_0_relu (Activatio  (None, 8, 8, 544)   0           ['conv5_block2_0_bn[0][0]']      \n",
      " n)                                                                                               \n",
      "                                                                                                  \n",
      " conv5_block2_1_conv (Conv2D)   (None, 8, 8, 128)    69632       ['conv5_block2_0_relu[0][0]']    \n",
      "                                                                                                  \n",
      " conv5_block2_1_bn (BatchNormal  (None, 8, 8, 128)   512         ['conv5_block2_1_conv[0][0]']    \n",
      " ization)                                                                                         \n",
      "                                                                                                  \n",
      " conv5_block2_1_relu (Activatio  (None, 8, 8, 128)   0           ['conv5_block2_1_bn[0][0]']      \n",
      " n)                                                                                               \n",
      "                                                                                                  \n",
      " conv5_block2_2_conv (Conv2D)   (None, 8, 8, 32)     36864       ['conv5_block2_1_relu[0][0]']    \n",
      "                                                                                                  \n",
      " conv5_block2_concat (Concatena  (None, 8, 8, 576)   0           ['conv5_block1_concat[0][0]',    \n",
      " te)                                                              'conv5_block2_2_conv[0][0]']    \n",
      "                                                                                                  \n",
      " conv5_block3_0_bn (BatchNormal  (None, 8, 8, 576)   2304        ['conv5_block2_concat[0][0]']    \n",
      " ization)                                                                                         \n",
      "                                                                                                  \n",
      " conv5_block3_0_relu (Activatio  (None, 8, 8, 576)   0           ['conv5_block3_0_bn[0][0]']      \n",
      " n)                                                                                               \n",
      "                                                                                                  \n",
      " conv5_block3_1_conv (Conv2D)   (None, 8, 8, 128)    73728       ['conv5_block3_0_relu[0][0]']    \n",
      "                                                                                                  \n",
      " conv5_block3_1_bn (BatchNormal  (None, 8, 8, 128)   512         ['conv5_block3_1_conv[0][0]']    \n",
      " ization)                                                                                         \n",
      "                                                                                                  \n",
      " conv5_block3_1_relu (Activatio  (None, 8, 8, 128)   0           ['conv5_block3_1_bn[0][0]']      \n",
      " n)                                                                                               \n",
      "                                                                                                  \n",
      " conv5_block3_2_conv (Conv2D)   (None, 8, 8, 32)     36864       ['conv5_block3_1_relu[0][0]']    \n",
      "                                                                                                  \n",
      " conv5_block3_concat (Concatena  (None, 8, 8, 608)   0           ['conv5_block2_concat[0][0]',    \n",
      " te)                                                              'conv5_block3_2_conv[0][0]']    \n",
      "                                                                                                  \n",
      " conv5_block4_0_bn (BatchNormal  (None, 8, 8, 608)   2432        ['conv5_block3_concat[0][0]']    \n",
      " ization)                                                                                         \n",
      "                                                                                                  \n",
      " conv5_block4_0_relu (Activatio  (None, 8, 8, 608)   0           ['conv5_block4_0_bn[0][0]']      \n",
      " n)                                                                                               \n",
      "                                                                                                  \n",
      " conv5_block4_1_conv (Conv2D)   (None, 8, 8, 128)    77824       ['conv5_block4_0_relu[0][0]']    \n",
      "                                                                                                  \n",
      " conv5_block4_1_bn (BatchNormal  (None, 8, 8, 128)   512         ['conv5_block4_1_conv[0][0]']    \n"
     ]
    },
    {
     "name": "stdout",
     "output_type": "stream",
     "text": [
      " ization)                                                                                         \n",
      "                                                                                                  \n",
      " conv5_block4_1_relu (Activatio  (None, 8, 8, 128)   0           ['conv5_block4_1_bn[0][0]']      \n",
      " n)                                                                                               \n",
      "                                                                                                  \n",
      " conv5_block4_2_conv (Conv2D)   (None, 8, 8, 32)     36864       ['conv5_block4_1_relu[0][0]']    \n",
      "                                                                                                  \n",
      " conv5_block4_concat (Concatena  (None, 8, 8, 640)   0           ['conv5_block3_concat[0][0]',    \n",
      " te)                                                              'conv5_block4_2_conv[0][0]']    \n",
      "                                                                                                  \n",
      " conv5_block5_0_bn (BatchNormal  (None, 8, 8, 640)   2560        ['conv5_block4_concat[0][0]']    \n",
      " ization)                                                                                         \n",
      "                                                                                                  \n",
      " conv5_block5_0_relu (Activatio  (None, 8, 8, 640)   0           ['conv5_block5_0_bn[0][0]']      \n",
      " n)                                                                                               \n",
      "                                                                                                  \n",
      " conv5_block5_1_conv (Conv2D)   (None, 8, 8, 128)    81920       ['conv5_block5_0_relu[0][0]']    \n",
      "                                                                                                  \n",
      " conv5_block5_1_bn (BatchNormal  (None, 8, 8, 128)   512         ['conv5_block5_1_conv[0][0]']    \n",
      " ization)                                                                                         \n",
      "                                                                                                  \n",
      " conv5_block5_1_relu (Activatio  (None, 8, 8, 128)   0           ['conv5_block5_1_bn[0][0]']      \n",
      " n)                                                                                               \n",
      "                                                                                                  \n",
      " conv5_block5_2_conv (Conv2D)   (None, 8, 8, 32)     36864       ['conv5_block5_1_relu[0][0]']    \n",
      "                                                                                                  \n",
      " conv5_block5_concat (Concatena  (None, 8, 8, 672)   0           ['conv5_block4_concat[0][0]',    \n",
      " te)                                                              'conv5_block5_2_conv[0][0]']    \n",
      "                                                                                                  \n",
      " conv5_block6_0_bn (BatchNormal  (None, 8, 8, 672)   2688        ['conv5_block5_concat[0][0]']    \n",
      " ization)                                                                                         \n",
      "                                                                                                  \n",
      " conv5_block6_0_relu (Activatio  (None, 8, 8, 672)   0           ['conv5_block6_0_bn[0][0]']      \n",
      " n)                                                                                               \n",
      "                                                                                                  \n",
      " conv5_block6_1_conv (Conv2D)   (None, 8, 8, 128)    86016       ['conv5_block6_0_relu[0][0]']    \n",
      "                                                                                                  \n",
      " conv5_block6_1_bn (BatchNormal  (None, 8, 8, 128)   512         ['conv5_block6_1_conv[0][0]']    \n",
      " ization)                                                                                         \n",
      "                                                                                                  \n",
      " conv5_block6_1_relu (Activatio  (None, 8, 8, 128)   0           ['conv5_block6_1_bn[0][0]']      \n",
      " n)                                                                                               \n",
      "                                                                                                  \n",
      " conv5_block6_2_conv (Conv2D)   (None, 8, 8, 32)     36864       ['conv5_block6_1_relu[0][0]']    \n",
      "                                                                                                  \n",
      " conv5_block6_concat (Concatena  (None, 8, 8, 704)   0           ['conv5_block5_concat[0][0]',    \n",
      " te)                                                              'conv5_block6_2_conv[0][0]']    \n",
      "                                                                                                  \n",
      " conv5_block7_0_bn (BatchNormal  (None, 8, 8, 704)   2816        ['conv5_block6_concat[0][0]']    \n",
      " ization)                                                                                         \n",
      "                                                                                                  \n",
      " conv5_block7_0_relu (Activatio  (None, 8, 8, 704)   0           ['conv5_block7_0_bn[0][0]']      \n",
      " n)                                                                                               \n",
      "                                                                                                  \n",
      " conv5_block7_1_conv (Conv2D)   (None, 8, 8, 128)    90112       ['conv5_block7_0_relu[0][0]']    \n",
      "                                                                                                  \n",
      " conv5_block7_1_bn (BatchNormal  (None, 8, 8, 128)   512         ['conv5_block7_1_conv[0][0]']    \n",
      " ization)                                                                                         \n",
      "                                                                                                  \n",
      " conv5_block7_1_relu (Activatio  (None, 8, 8, 128)   0           ['conv5_block7_1_bn[0][0]']      \n",
      " n)                                                                                               \n",
      "                                                                                                  \n",
      " conv5_block7_2_conv (Conv2D)   (None, 8, 8, 32)     36864       ['conv5_block7_1_relu[0][0]']    \n",
      "                                                                                                  \n",
      " conv5_block7_concat (Concatena  (None, 8, 8, 736)   0           ['conv5_block6_concat[0][0]',    \n",
      " te)                                                              'conv5_block7_2_conv[0][0]']    \n",
      "                                                                                                  \n",
      " conv5_block8_0_bn (BatchNormal  (None, 8, 8, 736)   2944        ['conv5_block7_concat[0][0]']    \n",
      " ization)                                                                                         \n",
      "                                                                                                  \n",
      " conv5_block8_0_relu (Activatio  (None, 8, 8, 736)   0           ['conv5_block8_0_bn[0][0]']      \n",
      " n)                                                                                               \n",
      "                                                                                                  \n",
      " conv5_block8_1_conv (Conv2D)   (None, 8, 8, 128)    94208       ['conv5_block8_0_relu[0][0]']    \n",
      "                                                                                                  \n",
      " conv5_block8_1_bn (BatchNormal  (None, 8, 8, 128)   512         ['conv5_block8_1_conv[0][0]']    \n",
      " ization)                                                                                         \n",
      "                                                                                                  \n",
      " conv5_block8_1_relu (Activatio  (None, 8, 8, 128)   0           ['conv5_block8_1_bn[0][0]']      \n",
      " n)                                                                                               \n",
      "                                                                                                  \n",
      " conv5_block8_2_conv (Conv2D)   (None, 8, 8, 32)     36864       ['conv5_block8_1_relu[0][0]']    \n",
      "                                                                                                  \n"
     ]
    },
    {
     "name": "stdout",
     "output_type": "stream",
     "text": [
      " conv5_block8_concat (Concatena  (None, 8, 8, 768)   0           ['conv5_block7_concat[0][0]',    \n",
      " te)                                                              'conv5_block8_2_conv[0][0]']    \n",
      "                                                                                                  \n",
      " conv5_block9_0_bn (BatchNormal  (None, 8, 8, 768)   3072        ['conv5_block8_concat[0][0]']    \n",
      " ization)                                                                                         \n",
      "                                                                                                  \n",
      " conv5_block9_0_relu (Activatio  (None, 8, 8, 768)   0           ['conv5_block9_0_bn[0][0]']      \n",
      " n)                                                                                               \n",
      "                                                                                                  \n",
      " conv5_block9_1_conv (Conv2D)   (None, 8, 8, 128)    98304       ['conv5_block9_0_relu[0][0]']    \n",
      "                                                                                                  \n",
      " conv5_block9_1_bn (BatchNormal  (None, 8, 8, 128)   512         ['conv5_block9_1_conv[0][0]']    \n",
      " ization)                                                                                         \n",
      "                                                                                                  \n",
      " conv5_block9_1_relu (Activatio  (None, 8, 8, 128)   0           ['conv5_block9_1_bn[0][0]']      \n",
      " n)                                                                                               \n",
      "                                                                                                  \n",
      " conv5_block9_2_conv (Conv2D)   (None, 8, 8, 32)     36864       ['conv5_block9_1_relu[0][0]']    \n",
      "                                                                                                  \n",
      " conv5_block9_concat (Concatena  (None, 8, 8, 800)   0           ['conv5_block8_concat[0][0]',    \n",
      " te)                                                              'conv5_block9_2_conv[0][0]']    \n",
      "                                                                                                  \n",
      " conv5_block10_0_bn (BatchNorma  (None, 8, 8, 800)   3200        ['conv5_block9_concat[0][0]']    \n",
      " lization)                                                                                        \n",
      "                                                                                                  \n",
      " conv5_block10_0_relu (Activati  (None, 8, 8, 800)   0           ['conv5_block10_0_bn[0][0]']     \n",
      " on)                                                                                              \n",
      "                                                                                                  \n",
      " conv5_block10_1_conv (Conv2D)  (None, 8, 8, 128)    102400      ['conv5_block10_0_relu[0][0]']   \n",
      "                                                                                                  \n",
      " conv5_block10_1_bn (BatchNorma  (None, 8, 8, 128)   512         ['conv5_block10_1_conv[0][0]']   \n",
      " lization)                                                                                        \n",
      "                                                                                                  \n",
      " conv5_block10_1_relu (Activati  (None, 8, 8, 128)   0           ['conv5_block10_1_bn[0][0]']     \n",
      " on)                                                                                              \n",
      "                                                                                                  \n",
      " conv5_block10_2_conv (Conv2D)  (None, 8, 8, 32)     36864       ['conv5_block10_1_relu[0][0]']   \n",
      "                                                                                                  \n",
      " conv5_block10_concat (Concaten  (None, 8, 8, 832)   0           ['conv5_block9_concat[0][0]',    \n",
      " ate)                                                             'conv5_block10_2_conv[0][0]']   \n",
      "                                                                                                  \n",
      " conv5_block11_0_bn (BatchNorma  (None, 8, 8, 832)   3328        ['conv5_block10_concat[0][0]']   \n",
      " lization)                                                                                        \n",
      "                                                                                                  \n",
      " conv5_block11_0_relu (Activati  (None, 8, 8, 832)   0           ['conv5_block11_0_bn[0][0]']     \n",
      " on)                                                                                              \n",
      "                                                                                                  \n",
      " conv5_block11_1_conv (Conv2D)  (None, 8, 8, 128)    106496      ['conv5_block11_0_relu[0][0]']   \n",
      "                                                                                                  \n",
      " conv5_block11_1_bn (BatchNorma  (None, 8, 8, 128)   512         ['conv5_block11_1_conv[0][0]']   \n",
      " lization)                                                                                        \n",
      "                                                                                                  \n",
      " conv5_block11_1_relu (Activati  (None, 8, 8, 128)   0           ['conv5_block11_1_bn[0][0]']     \n",
      " on)                                                                                              \n",
      "                                                                                                  \n",
      " conv5_block11_2_conv (Conv2D)  (None, 8, 8, 32)     36864       ['conv5_block11_1_relu[0][0]']   \n",
      "                                                                                                  \n",
      " conv5_block11_concat (Concaten  (None, 8, 8, 864)   0           ['conv5_block10_concat[0][0]',   \n",
      " ate)                                                             'conv5_block11_2_conv[0][0]']   \n",
      "                                                                                                  \n",
      " conv5_block12_0_bn (BatchNorma  (None, 8, 8, 864)   3456        ['conv5_block11_concat[0][0]']   \n",
      " lization)                                                                                        \n",
      "                                                                                                  \n",
      " conv5_block12_0_relu (Activati  (None, 8, 8, 864)   0           ['conv5_block12_0_bn[0][0]']     \n",
      " on)                                                                                              \n",
      "                                                                                                  \n",
      " conv5_block12_1_conv (Conv2D)  (None, 8, 8, 128)    110592      ['conv5_block12_0_relu[0][0]']   \n",
      "                                                                                                  \n",
      " conv5_block12_1_bn (BatchNorma  (None, 8, 8, 128)   512         ['conv5_block12_1_conv[0][0]']   \n",
      " lization)                                                                                        \n",
      "                                                                                                  \n",
      " conv5_block12_1_relu (Activati  (None, 8, 8, 128)   0           ['conv5_block12_1_bn[0][0]']     \n",
      " on)                                                                                              \n",
      "                                                                                                  \n",
      " conv5_block12_2_conv (Conv2D)  (None, 8, 8, 32)     36864       ['conv5_block12_1_relu[0][0]']   \n",
      "                                                                                                  \n",
      " conv5_block12_concat (Concaten  (None, 8, 8, 896)   0           ['conv5_block11_concat[0][0]',   \n",
      " ate)                                                             'conv5_block12_2_conv[0][0]']   \n",
      "                                                                                                  \n",
      " conv5_block13_0_bn (BatchNorma  (None, 8, 8, 896)   3584        ['conv5_block12_concat[0][0]']   \n",
      " lization)                                                                                        \n",
      "                                                                                                  \n",
      " conv5_block13_0_relu (Activati  (None, 8, 8, 896)   0           ['conv5_block13_0_bn[0][0]']     \n"
     ]
    },
    {
     "name": "stdout",
     "output_type": "stream",
     "text": [
      " on)                                                                                              \n",
      "                                                                                                  \n",
      " conv5_block13_1_conv (Conv2D)  (None, 8, 8, 128)    114688      ['conv5_block13_0_relu[0][0]']   \n",
      "                                                                                                  \n",
      " conv5_block13_1_bn (BatchNorma  (None, 8, 8, 128)   512         ['conv5_block13_1_conv[0][0]']   \n",
      " lization)                                                                                        \n",
      "                                                                                                  \n",
      " conv5_block13_1_relu (Activati  (None, 8, 8, 128)   0           ['conv5_block13_1_bn[0][0]']     \n",
      " on)                                                                                              \n",
      "                                                                                                  \n",
      " conv5_block13_2_conv (Conv2D)  (None, 8, 8, 32)     36864       ['conv5_block13_1_relu[0][0]']   \n",
      "                                                                                                  \n",
      " conv5_block13_concat (Concaten  (None, 8, 8, 928)   0           ['conv5_block12_concat[0][0]',   \n",
      " ate)                                                             'conv5_block13_2_conv[0][0]']   \n",
      "                                                                                                  \n",
      " conv5_block14_0_bn (BatchNorma  (None, 8, 8, 928)   3712        ['conv5_block13_concat[0][0]']   \n",
      " lization)                                                                                        \n",
      "                                                                                                  \n",
      " conv5_block14_0_relu (Activati  (None, 8, 8, 928)   0           ['conv5_block14_0_bn[0][0]']     \n",
      " on)                                                                                              \n",
      "                                                                                                  \n",
      " conv5_block14_1_conv (Conv2D)  (None, 8, 8, 128)    118784      ['conv5_block14_0_relu[0][0]']   \n",
      "                                                                                                  \n",
      " conv5_block14_1_bn (BatchNorma  (None, 8, 8, 128)   512         ['conv5_block14_1_conv[0][0]']   \n",
      " lization)                                                                                        \n",
      "                                                                                                  \n",
      " conv5_block14_1_relu (Activati  (None, 8, 8, 128)   0           ['conv5_block14_1_bn[0][0]']     \n",
      " on)                                                                                              \n",
      "                                                                                                  \n",
      " conv5_block14_2_conv (Conv2D)  (None, 8, 8, 32)     36864       ['conv5_block14_1_relu[0][0]']   \n",
      "                                                                                                  \n",
      " conv5_block14_concat (Concaten  (None, 8, 8, 960)   0           ['conv5_block13_concat[0][0]',   \n",
      " ate)                                                             'conv5_block14_2_conv[0][0]']   \n",
      "                                                                                                  \n",
      " conv5_block15_0_bn (BatchNorma  (None, 8, 8, 960)   3840        ['conv5_block14_concat[0][0]']   \n",
      " lization)                                                                                        \n",
      "                                                                                                  \n",
      " conv5_block15_0_relu (Activati  (None, 8, 8, 960)   0           ['conv5_block15_0_bn[0][0]']     \n",
      " on)                                                                                              \n",
      "                                                                                                  \n",
      " conv5_block15_1_conv (Conv2D)  (None, 8, 8, 128)    122880      ['conv5_block15_0_relu[0][0]']   \n",
      "                                                                                                  \n",
      " conv5_block15_1_bn (BatchNorma  (None, 8, 8, 128)   512         ['conv5_block15_1_conv[0][0]']   \n",
      " lization)                                                                                        \n",
      "                                                                                                  \n",
      " conv5_block15_1_relu (Activati  (None, 8, 8, 128)   0           ['conv5_block15_1_bn[0][0]']     \n",
      " on)                                                                                              \n",
      "                                                                                                  \n",
      " conv5_block15_2_conv (Conv2D)  (None, 8, 8, 32)     36864       ['conv5_block15_1_relu[0][0]']   \n",
      "                                                                                                  \n",
      " conv5_block15_concat (Concaten  (None, 8, 8, 992)   0           ['conv5_block14_concat[0][0]',   \n",
      " ate)                                                             'conv5_block15_2_conv[0][0]']   \n",
      "                                                                                                  \n",
      " conv5_block16_0_bn (BatchNorma  (None, 8, 8, 992)   3968        ['conv5_block15_concat[0][0]']   \n",
      " lization)                                                                                        \n",
      "                                                                                                  \n",
      " conv5_block16_0_relu (Activati  (None, 8, 8, 992)   0           ['conv5_block16_0_bn[0][0]']     \n",
      " on)                                                                                              \n",
      "                                                                                                  \n",
      " conv5_block16_1_conv (Conv2D)  (None, 8, 8, 128)    126976      ['conv5_block16_0_relu[0][0]']   \n",
      "                                                                                                  \n",
      " conv5_block16_1_bn (BatchNorma  (None, 8, 8, 128)   512         ['conv5_block16_1_conv[0][0]']   \n",
      " lization)                                                                                        \n",
      "                                                                                                  \n",
      " conv5_block16_1_relu (Activati  (None, 8, 8, 128)   0           ['conv5_block16_1_bn[0][0]']     \n",
      " on)                                                                                              \n",
      "                                                                                                  \n",
      " conv5_block16_2_conv (Conv2D)  (None, 8, 8, 32)     36864       ['conv5_block16_1_relu[0][0]']   \n",
      "                                                                                                  \n",
      " conv5_block16_concat (Concaten  (None, 8, 8, 1024)  0           ['conv5_block15_concat[0][0]',   \n",
      " ate)                                                             'conv5_block16_2_conv[0][0]']   \n",
      "                                                                                                  \n",
      " bn (BatchNormalization)        (None, 8, 8, 1024)   4096        ['conv5_block16_concat[0][0]']   \n",
      "                                                                                                  \n",
      " relu (Activation)              (None, 8, 8, 1024)   0           ['bn[0][0]']                     \n",
      "                                                                                                  \n",
      " flatten_7 (Flatten)            (None, 65536)        0           ['relu[0][0]']                   \n",
      "                                                                                                  \n",
      " dense_14 (Dense)               (None, 256)          16777472    ['flatten_7[0][0]']              \n",
      "                                                                                                  \n",
      " dropout_6 (Dropout)            (None, 256)          0           ['dense_14[0][0]']               \n",
      "                                                                                                  \n",
      " dense_15 (Dense)               (None, 10)           2570        ['dropout_6[0][0]']              \n"
     ]
    },
    {
     "name": "stdout",
     "output_type": "stream",
     "text": [
      "                                                                                                  \n",
      "==================================================================================================\n",
      "Total params: 23,817,546\n",
      "Trainable params: 23,733,898\n",
      "Non-trainable params: 83,648\n",
      "__________________________________________________________________________________________________\n"
     ]
    }
   ],
   "source": [
    "densenet_model.summary()"
   ]
  },
  {
   "cell_type": "markdown",
   "metadata": {},
   "source": [
    "可以看到Total params"
   ]
  },
  {
   "cell_type": "code",
   "execution_count": 113,
   "metadata": {},
   "outputs": [
    {
     "name": "stdout",
     "output_type": "stream",
     "text": [
      "Epoch 1/30\n",
      "29/29 [==============================] - 22s 249ms/step - loss: 3.6943 - accuracy: 0.3348 - val_loss: 1.6434 - val_accuracy: 0.4643\n",
      "Epoch 2/30\n",
      "29/29 [==============================] - 5s 182ms/step - loss: 1.0778 - accuracy: 0.6826 - val_loss: 1.4958 - val_accuracy: 0.5179\n",
      "Epoch 3/30\n",
      "29/29 [==============================] - 4s 154ms/step - loss: 0.4945 - accuracy: 0.8304 - val_loss: 0.9889 - val_accuracy: 0.6429\n",
      "Epoch 4/30\n",
      "29/29 [==============================] - 4s 147ms/step - loss: 0.3459 - accuracy: 0.8793 - val_loss: 1.1009 - val_accuracy: 0.6071\n",
      "Epoch 5/30\n",
      "29/29 [==============================] - 4s 147ms/step - loss: 0.2378 - accuracy: 0.9217 - val_loss: 0.6734 - val_accuracy: 0.7857\n",
      "Epoch 6/30\n",
      "29/29 [==============================] - 4s 153ms/step - loss: 0.1125 - accuracy: 0.9609 - val_loss: 0.6713 - val_accuracy: 0.8036\n",
      "Epoch 7/30\n",
      "29/29 [==============================] - 4s 146ms/step - loss: 0.1072 - accuracy: 0.9609 - val_loss: 0.3826 - val_accuracy: 0.9107\n",
      "Epoch 8/30\n",
      "29/29 [==============================] - 5s 159ms/step - loss: 0.1146 - accuracy: 0.9609 - val_loss: 0.4416 - val_accuracy: 0.8929\n",
      "Epoch 9/30\n",
      "29/29 [==============================] - 5s 184ms/step - loss: 0.0877 - accuracy: 0.9609 - val_loss: 0.4533 - val_accuracy: 0.8929\n",
      "Epoch 10/30\n",
      "29/29 [==============================] - 5s 152ms/step - loss: 0.0577 - accuracy: 0.9826 - val_loss: 0.4601 - val_accuracy: 0.9107\n",
      "Epoch 11/30\n",
      "29/29 [==============================] - 5s 160ms/step - loss: 0.0570 - accuracy: 0.9826 - val_loss: 0.3798 - val_accuracy: 0.9107\n",
      "Epoch 12/30\n",
      "29/29 [==============================] - 5s 174ms/step - loss: 0.0750 - accuracy: 0.9739 - val_loss: 0.3046 - val_accuracy: 0.8750\n",
      "Epoch 13/30\n",
      "29/29 [==============================] - 5s 157ms/step - loss: 0.0435 - accuracy: 0.9783 - val_loss: 0.2887 - val_accuracy: 0.9643\n",
      "Epoch 14/30\n",
      "29/29 [==============================] - 5s 161ms/step - loss: 0.0578 - accuracy: 0.9696 - val_loss: 0.3787 - val_accuracy: 0.9464\n",
      "Epoch 15/30\n",
      "29/29 [==============================] - 4s 155ms/step - loss: 0.0387 - accuracy: 0.9913 - val_loss: 0.3150 - val_accuracy: 0.9286\n",
      "Epoch 16/30\n",
      "29/29 [==============================] - 4s 146ms/step - loss: 0.0282 - accuracy: 0.9870 - val_loss: 0.2810 - val_accuracy: 0.9464\n",
      "Epoch 17/30\n",
      "29/29 [==============================] - 5s 162ms/step - loss: 0.0380 - accuracy: 0.9870 - val_loss: 0.2967 - val_accuracy: 0.9464\n",
      "Epoch 18/30\n",
      "29/29 [==============================] - 5s 174ms/step - loss: 0.0293 - accuracy: 0.9913 - val_loss: 0.2527 - val_accuracy: 0.9643\n",
      "Epoch 19/30\n",
      "29/29 [==============================] - 6s 200ms/step - loss: 0.0741 - accuracy: 0.9826 - val_loss: 0.2253 - val_accuracy: 0.9107\n",
      "Epoch 20/30\n",
      "29/29 [==============================] - 6s 206ms/step - loss: 0.0352 - accuracy: 0.9826 - val_loss: 0.2942 - val_accuracy: 0.9464\n",
      "Epoch 21/30\n",
      "29/29 [==============================] - 5s 163ms/step - loss: 0.0126 - accuracy: 0.9957 - val_loss: 0.2999 - val_accuracy: 0.9464\n",
      "Epoch 22/30\n",
      "29/29 [==============================] - 6s 204ms/step - loss: 0.0604 - accuracy: 0.9826 - val_loss: 0.4228 - val_accuracy: 0.9286\n",
      "Epoch 23/30\n",
      "29/29 [==============================] - 5s 174ms/step - loss: 0.0402 - accuracy: 0.9914 - val_loss: 0.3418 - val_accuracy: 0.9464\n",
      "Epoch 24/30\n",
      "29/29 [==============================] - 6s 193ms/step - loss: 0.0114 - accuracy: 1.0000 - val_loss: 0.2513 - val_accuracy: 0.9464\n",
      "Epoch 25/30\n",
      "29/29 [==============================] - 6s 197ms/step - loss: 0.0348 - accuracy: 0.9913 - val_loss: 0.2736 - val_accuracy: 0.9464\n",
      "Epoch 26/30\n",
      "29/29 [==============================] - 4s 153ms/step - loss: 0.0359 - accuracy: 0.9913 - val_loss: 0.3147 - val_accuracy: 0.9286\n",
      "Epoch 27/30\n",
      "29/29 [==============================] - 5s 157ms/step - loss: 0.0306 - accuracy: 0.9870 - val_loss: 0.2983 - val_accuracy: 0.9643\n",
      "Epoch 28/30\n",
      "29/29 [==============================] - 5s 160ms/step - loss: 0.0477 - accuracy: 0.9826 - val_loss: 0.3271 - val_accuracy: 0.9464\n",
      "Epoch 29/30\n",
      "29/29 [==============================] - 5s 187ms/step - loss: 0.0263 - accuracy: 0.9913 - val_loss: 0.3673 - val_accuracy: 0.9464\n",
      "Epoch 30/30\n",
      "29/29 [==============================] - 4s 152ms/step - loss: 0.0154 - accuracy: 0.9957 - val_loss: 0.4261 - val_accuracy: 0.9107\n"
     ]
    }
   ],
   "source": [
    "densenet_model.compile(optimizer=tf.keras.optimizers.Adam(learning_rate = 0.0001,decay = 0.001),\n",
    "              loss='sparse_categorical_crossentropy',\n",
    "              metrics=['accuracy'])\n",
    "\n",
    "epochs = 30\n",
    "batch_size = 8\n",
    "\n",
    "history_densenet = densenet_model.fit(train_generator,\n",
    "          steps_per_epoch=train_generator.n // train_generator.batch_size,\n",
    "          validation_data=valid_generator,\n",
    "          validation_steps=valid_generator.n // valid_generator.batch_size,\n",
    "          epochs=epochs,\n",
    "          verbose=1)"
   ]
  },
  {
   "cell_type": "code",
   "execution_count": 114,
   "metadata": {},
   "outputs": [
    {
     "name": "stdout",
     "output_type": "stream",
     "text": [
      "9/9 [==============================] - 0s 44ms/step - loss: 0.4445 - accuracy: 0.8889\n"
     ]
    },
    {
     "data": {
      "text/plain": [
       "0.8888888955116272"
      ]
     },
     "execution_count": 114,
     "metadata": {},
     "output_type": "execute_result"
    }
   ],
   "source": [
    "loss, acc = densenet_model.evaluate(test_generator, steps=test_generator.n // test_generator.batch_size)\n",
    "acc"
   ]
  },
  {
   "cell_type": "code",
   "execution_count": 115,
   "metadata": {},
   "outputs": [],
   "source": [
    "import numpy as np\n",
    "\n",
    "y_pred_proba = []\n",
    "y_pred = []\n",
    "for fn in strat_test_set['X'].values:\n",
    "    img = load_img(fn, target_size=(256, 256))\n",
    "    img = img_to_array(img)\n",
    "    img = img / 255.  # rescale\n",
    "    img = np.expand_dims(img, axis=0)\n",
    "    pred_proba = densenet_model.predict(img, verbose=0)[0]\n",
    "    y_pred_proba.append(pred_proba)\n",
    "    pred = np.argmax(pred_proba)\n",
    "    y_pred.append(pred)"
   ]
  },
  {
   "cell_type": "code",
   "execution_count": 116,
   "metadata": {},
   "outputs": [
    {
     "name": "stdout",
     "output_type": "stream",
     "text": [
      "              precision    recall  f1-score   support\n",
      "\n",
      "           0       0.67      0.50      0.57         4\n",
      "           1       0.86      1.00      0.92         6\n",
      "           2       1.00      1.00      1.00         7\n",
      "           3       1.00      0.89      0.94         9\n",
      "           4       1.00      0.71      0.83         7\n",
      "           5       0.73      0.89      0.80         9\n",
      "           6       0.91      1.00      0.95        10\n",
      "           7       0.82      1.00      0.90         9\n",
      "           8       1.00      0.89      0.94         9\n",
      "           9       1.00      0.80      0.89         5\n",
      "\n",
      "    accuracy                           0.89        75\n",
      "   macro avg       0.90      0.87      0.88        75\n",
      "weighted avg       0.90      0.89      0.89        75\n",
      "\n"
     ]
    }
   ],
   "source": [
    "print(classification_report(y_true, y_pred))"
   ]
  },
  {
   "cell_type": "code",
   "execution_count": 117,
   "metadata": {},
   "outputs": [
    {
     "data": {
      "text/plain": [
       "0.8751461610285141"
      ]
     },
     "execution_count": 117,
     "metadata": {},
     "output_type": "execute_result"
    }
   ],
   "source": [
    "f1_score(y_true, y_pred, average='macro')"
   ]
  },
  {
   "cell_type": "code",
   "execution_count": 118,
   "metadata": {},
   "outputs": [
    {
     "data": {
      "text/plain": [
       "0.8933333333333333"
      ]
     },
     "execution_count": 118,
     "metadata": {},
     "output_type": "execute_result"
    }
   ],
   "source": [
    "accuracy_score(y_true, y_pred)"
   ]
  },
  {
   "cell_type": "markdown",
   "metadata": {},
   "source": [
    "# 更多模型尝试"
   ]
  },
  {
   "cell_type": "code",
   "execution_count": 80,
   "metadata": {},
   "outputs": [
    {
     "name": "stdout",
     "output_type": "stream",
     "text": [
      "Downloading data from https://storage.googleapis.com/tensorflow/keras-applications/vgg19/vgg19_weights_tf_dim_ordering_tf_kernels_notop.h5\n",
      "80134624/80134624 [==============================] - 16s 0us/step\n"
     ]
    }
   ],
   "source": [
    "base_model = VGG19(include_top=False, input_shape=input_shape) \n",
    "\n",
    "# 添加a fully-connected layer\n",
    "x = base_model.output\n",
    "x = Flatten()(x)\n",
    "x = Dense(256, activation='relu')(x)\n",
    "x = Dropout(0.5)(x)\n",
    "\n",
    "predictions = Dense(num_classes, activation='softmax')(x)\n",
    "\n",
    "# 我们最终会训练的模型\n",
    "vgg19_model = Model(inputs=base_model.input, outputs=predictions)"
   ]
  },
  {
   "cell_type": "code",
   "execution_count": 81,
   "metadata": {},
   "outputs": [
    {
     "name": "stdout",
     "output_type": "stream",
     "text": [
      "Model: \"model_4\"\n",
      "_________________________________________________________________\n",
      " Layer (type)                Output Shape              Param #   \n",
      "=================================================================\n",
      " input_5 (InputLayer)        [(None, 256, 256, 3)]     0         \n",
      "                                                                 \n",
      " block1_conv1 (Conv2D)       (None, 256, 256, 64)      1792      \n",
      "                                                                 \n",
      " block1_conv2 (Conv2D)       (None, 256, 256, 64)      36928     \n",
      "                                                                 \n",
      " block1_pool (MaxPooling2D)  (None, 128, 128, 64)      0         \n",
      "                                                                 \n",
      " block2_conv1 (Conv2D)       (None, 128, 128, 128)     73856     \n",
      "                                                                 \n",
      " block2_conv2 (Conv2D)       (None, 128, 128, 128)     147584    \n",
      "                                                                 \n",
      " block2_pool (MaxPooling2D)  (None, 64, 64, 128)       0         \n",
      "                                                                 \n",
      " block3_conv1 (Conv2D)       (None, 64, 64, 256)       295168    \n",
      "                                                                 \n",
      " block3_conv2 (Conv2D)       (None, 64, 64, 256)       590080    \n",
      "                                                                 \n",
      " block3_conv3 (Conv2D)       (None, 64, 64, 256)       590080    \n",
      "                                                                 \n",
      " block3_conv4 (Conv2D)       (None, 64, 64, 256)       590080    \n",
      "                                                                 \n",
      " block3_pool (MaxPooling2D)  (None, 32, 32, 256)       0         \n",
      "                                                                 \n",
      " block4_conv1 (Conv2D)       (None, 32, 32, 512)       1180160   \n",
      "                                                                 \n",
      " block4_conv2 (Conv2D)       (None, 32, 32, 512)       2359808   \n",
      "                                                                 \n",
      " block4_conv3 (Conv2D)       (None, 32, 32, 512)       2359808   \n",
      "                                                                 \n",
      " block4_conv4 (Conv2D)       (None, 32, 32, 512)       2359808   \n",
      "                                                                 \n",
      " block4_pool (MaxPooling2D)  (None, 16, 16, 512)       0         \n",
      "                                                                 \n",
      " block5_conv1 (Conv2D)       (None, 16, 16, 512)       2359808   \n",
      "                                                                 \n",
      " block5_conv2 (Conv2D)       (None, 16, 16, 512)       2359808   \n",
      "                                                                 \n",
      " block5_conv3 (Conv2D)       (None, 16, 16, 512)       2359808   \n",
      "                                                                 \n",
      " block5_conv4 (Conv2D)       (None, 16, 16, 512)       2359808   \n",
      "                                                                 \n",
      " block5_pool (MaxPooling2D)  (None, 8, 8, 512)         0         \n",
      "                                                                 \n",
      " flatten_4 (Flatten)         (None, 32768)             0         \n",
      "                                                                 \n",
      " dense_8 (Dense)             (None, 256)               8388864   \n",
      "                                                                 \n",
      " dropout_3 (Dropout)         (None, 256)               0         \n",
      "                                                                 \n",
      " dense_9 (Dense)             (None, 10)                2570      \n",
      "                                                                 \n",
      "=================================================================\n",
      "Total params: 28,415,818\n",
      "Trainable params: 28,415,818\n",
      "Non-trainable params: 0\n",
      "_________________________________________________________________\n"
     ]
    }
   ],
   "source": [
    "vgg19_model.summary()"
   ]
  },
  {
   "cell_type": "code",
   "execution_count": 82,
   "metadata": {},
   "outputs": [
    {
     "name": "stdout",
     "output_type": "stream",
     "text": [
      "Epoch 1/30\n",
      "29/29 [==============================] - 11s 230ms/step - loss: 2.4005 - accuracy: 0.1435 - val_loss: 1.9388 - val_accuracy: 0.1786\n",
      "Epoch 2/30\n",
      "29/29 [==============================] - 4s 146ms/step - loss: 2.1358 - accuracy: 0.2522 - val_loss: 1.6979 - val_accuracy: 0.3214\n",
      "Epoch 3/30\n",
      "29/29 [==============================] - 4s 144ms/step - loss: 2.0779 - accuracy: 0.2261 - val_loss: 2.3055 - val_accuracy: 0.1071\n",
      "Epoch 4/30\n",
      "29/29 [==============================] - 4s 145ms/step - loss: 2.2303 - accuracy: 0.1652 - val_loss: 2.0284 - val_accuracy: 0.2321\n",
      "Epoch 5/30\n",
      "29/29 [==============================] - 4s 146ms/step - loss: 1.7893 - accuracy: 0.3565 - val_loss: 1.3135 - val_accuracy: 0.4821\n",
      "Epoch 6/30\n",
      "29/29 [==============================] - 4s 147ms/step - loss: 1.5421 - accuracy: 0.4217 - val_loss: 1.1583 - val_accuracy: 0.5536\n",
      "Epoch 7/30\n",
      "29/29 [==============================] - 4s 146ms/step - loss: 1.3047 - accuracy: 0.5565 - val_loss: 1.0217 - val_accuracy: 0.6607\n",
      "Epoch 8/30\n",
      "29/29 [==============================] - 4s 149ms/step - loss: 1.1396 - accuracy: 0.6087 - val_loss: 0.8439 - val_accuracy: 0.7143\n",
      "Epoch 9/30\n",
      "29/29 [==============================] - 4s 150ms/step - loss: 0.8975 - accuracy: 0.7043 - val_loss: 0.9222 - val_accuracy: 0.7321\n",
      "Epoch 10/30\n",
      "29/29 [==============================] - 5s 160ms/step - loss: 0.8145 - accuracy: 0.7261 - val_loss: 0.8742 - val_accuracy: 0.7143\n",
      "Epoch 11/30\n",
      "29/29 [==============================] - 4s 149ms/step - loss: 0.7081 - accuracy: 0.7696 - val_loss: 1.0767 - val_accuracy: 0.6607\n",
      "Epoch 12/30\n",
      "29/29 [==============================] - 4s 150ms/step - loss: 0.7785 - accuracy: 0.7348 - val_loss: 0.8724 - val_accuracy: 0.6964\n",
      "Epoch 13/30\n",
      "29/29 [==============================] - 4s 148ms/step - loss: 0.5971 - accuracy: 0.8217 - val_loss: 0.7929 - val_accuracy: 0.6964\n",
      "Epoch 14/30\n",
      "29/29 [==============================] - 4s 148ms/step - loss: 0.6799 - accuracy: 0.7826 - val_loss: 0.7045 - val_accuracy: 0.8036\n",
      "Epoch 15/30\n",
      "29/29 [==============================] - 4s 148ms/step - loss: 0.4850 - accuracy: 0.8130 - val_loss: 0.7790 - val_accuracy: 0.7857\n",
      "Epoch 16/30\n",
      "29/29 [==============================] - 4s 148ms/step - loss: 0.5106 - accuracy: 0.8391 - val_loss: 0.5439 - val_accuracy: 0.8571\n",
      "Epoch 17/30\n",
      "29/29 [==============================] - 4s 148ms/step - loss: 0.3481 - accuracy: 0.8609 - val_loss: 0.7592 - val_accuracy: 0.7679\n",
      "Epoch 18/30\n",
      "29/29 [==============================] - 4s 150ms/step - loss: 0.3614 - accuracy: 0.9087 - val_loss: 0.4720 - val_accuracy: 0.9107\n",
      "Epoch 19/30\n",
      "29/29 [==============================] - 4s 151ms/step - loss: 0.2058 - accuracy: 0.9348 - val_loss: 0.4735 - val_accuracy: 0.9107\n",
      "Epoch 20/30\n",
      "29/29 [==============================] - 4s 151ms/step - loss: 0.1166 - accuracy: 0.9739 - val_loss: 0.4922 - val_accuracy: 0.8929\n",
      "Epoch 21/30\n",
      "29/29 [==============================] - 4s 151ms/step - loss: 0.1094 - accuracy: 0.9696 - val_loss: 0.4926 - val_accuracy: 0.9286\n",
      "Epoch 22/30\n",
      "29/29 [==============================] - 4s 151ms/step - loss: 0.1367 - accuracy: 0.9609 - val_loss: 0.5107 - val_accuracy: 0.9286\n",
      "Epoch 23/30\n",
      "29/29 [==============================] - 4s 152ms/step - loss: 0.2325 - accuracy: 0.9261 - val_loss: 0.8131 - val_accuracy: 0.8750\n",
      "Epoch 24/30\n",
      "29/29 [==============================] - 4s 151ms/step - loss: 0.5613 - accuracy: 0.8435 - val_loss: 0.8288 - val_accuracy: 0.8214\n",
      "Epoch 25/30\n",
      "29/29 [==============================] - 4s 150ms/step - loss: 0.3352 - accuracy: 0.8826 - val_loss: 0.6612 - val_accuracy: 0.8929\n",
      "Epoch 26/30\n",
      "29/29 [==============================] - 4s 149ms/step - loss: 0.2980 - accuracy: 0.9304 - val_loss: 0.6527 - val_accuracy: 0.8393\n",
      "Epoch 27/30\n",
      "29/29 [==============================] - 4s 149ms/step - loss: 0.3605 - accuracy: 0.8957 - val_loss: 0.7174 - val_accuracy: 0.8393\n",
      "Epoch 28/30\n",
      "29/29 [==============================] - 4s 152ms/step - loss: 0.1810 - accuracy: 0.9609 - val_loss: 0.2181 - val_accuracy: 0.9286\n",
      "Epoch 29/30\n",
      "29/29 [==============================] - 4s 155ms/step - loss: 0.1091 - accuracy: 0.9609 - val_loss: 0.7406 - val_accuracy: 0.9107\n",
      "Epoch 30/30\n",
      "29/29 [==============================] - 4s 154ms/step - loss: 0.1139 - accuracy: 0.9609 - val_loss: 0.4243 - val_accuracy: 0.9464\n"
     ]
    }
   ],
   "source": [
    "vgg19_model.compile(optimizer=tf.keras.optimizers.Adam(learning_rate = 0.0001,decay = 0.001),\n",
    "              loss='sparse_categorical_crossentropy',\n",
    "              metrics=['accuracy'])\n",
    "\n",
    "epochs = 30\n",
    "batch_size = 8  # 内存不足，改小\n",
    "\n",
    "history_vgg19 = vgg19_model.fit(train_generator,\n",
    "          steps_per_epoch=train_generator.n // train_generator.batch_size,\n",
    "          validation_data=valid_generator,\n",
    "          validation_steps=valid_generator.n // valid_generator.batch_size,\n",
    "          epochs=epochs,\n",
    "          verbose=1)"
   ]
  },
  {
   "cell_type": "code",
   "execution_count": 83,
   "metadata": {},
   "outputs": [
    {
     "name": "stdout",
     "output_type": "stream",
     "text": [
      "9/9 [==============================] - 0s 48ms/step - loss: 0.9155 - accuracy: 0.8750\n"
     ]
    },
    {
     "data": {
      "text/plain": [
       "0.875"
      ]
     },
     "execution_count": 83,
     "metadata": {},
     "output_type": "execute_result"
    }
   ],
   "source": [
    "loss, acc = vgg19_model.evaluate(test_generator, steps=test_generator.n // test_generator.batch_size)\n",
    "acc"
   ]
  },
  {
   "cell_type": "code",
   "execution_count": 84,
   "metadata": {},
   "outputs": [],
   "source": [
    "import numpy as np\n",
    "\n",
    "y_pred_proba = []\n",
    "y_pred = []\n",
    "for fn in strat_test_set['X'].values:\n",
    "    img = load_img(fn, target_size=(256, 256))\n",
    "    img = img_to_array(img)\n",
    "    img = img / 255.  # rescale\n",
    "    img = np.expand_dims(img, axis=0)\n",
    "    pred_proba = vgg19_model.predict(img, verbose=0)[0]\n",
    "    y_pred_proba.append(pred_proba)\n",
    "    pred = np.argmax(pred_proba)\n",
    "    y_pred.append(pred)"
   ]
  },
  {
   "cell_type": "code",
   "execution_count": 85,
   "metadata": {},
   "outputs": [
    {
     "name": "stdout",
     "output_type": "stream",
     "text": [
      "              precision    recall  f1-score   support\n",
      "\n",
      "           0       1.00      0.75      0.86         4\n",
      "           1       0.75      1.00      0.86         6\n",
      "           2       1.00      1.00      1.00         7\n",
      "           3       1.00      0.89      0.94         9\n",
      "           4       0.83      0.71      0.77         7\n",
      "           5       0.75      1.00      0.86         9\n",
      "           6       1.00      1.00      1.00        10\n",
      "           7       0.86      0.67      0.75         9\n",
      "           8       1.00      0.89      0.94         9\n",
      "           9       0.67      0.80      0.73         5\n",
      "\n",
      "    accuracy                           0.88        75\n",
      "   macro avg       0.89      0.87      0.87        75\n",
      "weighted avg       0.90      0.88      0.88        75\n",
      "\n"
     ]
    }
   ],
   "source": [
    "print(classification_report(y_true, y_pred))"
   ]
  },
  {
   "cell_type": "code",
   "execution_count": 86,
   "metadata": {},
   "outputs": [
    {
     "data": {
      "text/plain": [
       "0.8700285009108539"
      ]
     },
     "execution_count": 86,
     "metadata": {},
     "output_type": "execute_result"
    }
   ],
   "source": [
    "f1_score(y_true, y_pred, average='macro')"
   ]
  },
  {
   "cell_type": "code",
   "execution_count": 88,
   "metadata": {},
   "outputs": [
    {
     "data": {
      "text/plain": [
       "0.88"
      ]
     },
     "execution_count": 88,
     "metadata": {},
     "output_type": "execute_result"
    }
   ],
   "source": [
    "accuracy_score(y_true, y_pred)"
   ]
  },
  {
   "cell_type": "code",
   "execution_count": 139,
   "metadata": {},
   "outputs": [],
   "source": [
    "base_model = InceptionV3(include_top=False, input_shape=input_shape) \n",
    "\n",
    "# 添加a fully-connected layer\n",
    "x = base_model.output\n",
    "x = Flatten()(x)\n",
    "x = Dense(256, activation='relu')(x)\n",
    "x = Dropout(0.5)(x)\n",
    "\n",
    "predictions = Dense(num_classes, activation='softmax')(x)\n",
    "\n",
    "# 我们最终会训练的模型\n",
    "inception_model = Model(inputs=base_model.input, outputs=predictions)"
   ]
  },
  {
   "cell_type": "code",
   "execution_count": 138,
   "metadata": {},
   "outputs": [
    {
     "name": "stdout",
     "output_type": "stream",
     "text": [
      "Model: \"model_11\"\n",
      "__________________________________________________________________________________________________\n",
      " Layer (type)                   Output Shape         Param #     Connected to                     \n",
      "==================================================================================================\n",
      " input_12 (InputLayer)          [(None, 256, 256, 3  0           []                               \n",
      "                                )]                                                                \n",
      "                                                                                                  \n",
      " conv2d_192 (Conv2D)            (None, 127, 127, 32  864         ['input_12[0][0]']               \n",
      "                                )                                                                 \n",
      "                                                                                                  \n",
      " batch_normalization_188 (Batch  (None, 127, 127, 32  96         ['conv2d_192[0][0]']             \n",
      " Normalization)                 )                                                                 \n",
      "                                                                                                  \n",
      " activation_188 (Activation)    (None, 127, 127, 32  0           ['batch_normalization_188[0][0]']\n",
      "                                )                                                                 \n",
      "                                                                                                  \n",
      " conv2d_193 (Conv2D)            (None, 125, 125, 32  9216        ['activation_188[0][0]']         \n",
      "                                )                                                                 \n",
      "                                                                                                  \n",
      " batch_normalization_189 (Batch  (None, 125, 125, 32  96         ['conv2d_193[0][0]']             \n",
      " Normalization)                 )                                                                 \n",
      "                                                                                                  \n",
      " activation_189 (Activation)    (None, 125, 125, 32  0           ['batch_normalization_189[0][0]']\n",
      "                                )                                                                 \n",
      "                                                                                                  \n",
      " conv2d_194 (Conv2D)            (None, 125, 125, 64  18432       ['activation_189[0][0]']         \n",
      "                                )                                                                 \n",
      "                                                                                                  \n",
      " batch_normalization_190 (Batch  (None, 125, 125, 64  192        ['conv2d_194[0][0]']             \n",
      " Normalization)                 )                                                                 \n",
      "                                                                                                  \n",
      " activation_190 (Activation)    (None, 125, 125, 64  0           ['batch_normalization_190[0][0]']\n",
      "                                )                                                                 \n",
      "                                                                                                  \n",
      " max_pooling2d_12 (MaxPooling2D  (None, 62, 62, 64)  0           ['activation_190[0][0]']         \n",
      " )                                                                                                \n",
      "                                                                                                  \n",
      " conv2d_195 (Conv2D)            (None, 62, 62, 80)   5120        ['max_pooling2d_12[0][0]']       \n",
      "                                                                                                  \n",
      " batch_normalization_191 (Batch  (None, 62, 62, 80)  240         ['conv2d_195[0][0]']             \n",
      " Normalization)                                                                                   \n",
      "                                                                                                  \n",
      " activation_191 (Activation)    (None, 62, 62, 80)   0           ['batch_normalization_191[0][0]']\n",
      "                                                                                                  \n",
      " conv2d_196 (Conv2D)            (None, 60, 60, 192)  138240      ['activation_191[0][0]']         \n",
      "                                                                                                  \n",
      " batch_normalization_192 (Batch  (None, 60, 60, 192)  576        ['conv2d_196[0][0]']             \n",
      " Normalization)                                                                                   \n",
      "                                                                                                  \n",
      " activation_192 (Activation)    (None, 60, 60, 192)  0           ['batch_normalization_192[0][0]']\n",
      "                                                                                                  \n",
      " max_pooling2d_13 (MaxPooling2D  (None, 29, 29, 192)  0          ['activation_192[0][0]']         \n",
      " )                                                                                                \n",
      "                                                                                                  \n",
      " conv2d_200 (Conv2D)            (None, 29, 29, 64)   12288       ['max_pooling2d_13[0][0]']       \n",
      "                                                                                                  \n",
      " batch_normalization_196 (Batch  (None, 29, 29, 64)  192         ['conv2d_200[0][0]']             \n",
      " Normalization)                                                                                   \n",
      "                                                                                                  \n",
      " activation_196 (Activation)    (None, 29, 29, 64)   0           ['batch_normalization_196[0][0]']\n",
      "                                                                                                  \n",
      " conv2d_198 (Conv2D)            (None, 29, 29, 48)   9216        ['max_pooling2d_13[0][0]']       \n",
      "                                                                                                  \n",
      " conv2d_201 (Conv2D)            (None, 29, 29, 96)   55296       ['activation_196[0][0]']         \n",
      "                                                                                                  \n",
      " batch_normalization_194 (Batch  (None, 29, 29, 48)  144         ['conv2d_198[0][0]']             \n",
      " Normalization)                                                                                   \n",
      "                                                                                                  \n",
      " batch_normalization_197 (Batch  (None, 29, 29, 96)  288         ['conv2d_201[0][0]']             \n",
      " Normalization)                                                                                   \n",
      "                                                                                                  \n",
      " activation_194 (Activation)    (None, 29, 29, 48)   0           ['batch_normalization_194[0][0]']\n",
      "                                                                                                  \n",
      " activation_197 (Activation)    (None, 29, 29, 96)   0           ['batch_normalization_197[0][0]']\n",
      "                                                                                                  \n",
      " average_pooling2d_18 (AverageP  (None, 29, 29, 192)  0          ['max_pooling2d_13[0][0]']       \n",
      " ooling2D)                                                                                        \n",
      "                                                                                                  \n",
      " conv2d_197 (Conv2D)            (None, 29, 29, 64)   12288       ['max_pooling2d_13[0][0]']       \n",
      "                                                                                                  \n",
      " conv2d_199 (Conv2D)            (None, 29, 29, 64)   76800       ['activation_194[0][0]']         \n",
      "                                                                                                  \n",
      " conv2d_202 (Conv2D)            (None, 29, 29, 96)   82944       ['activation_197[0][0]']         \n",
      "                                                                                                  \n"
     ]
    },
    {
     "name": "stdout",
     "output_type": "stream",
     "text": [
      " conv2d_203 (Conv2D)            (None, 29, 29, 32)   6144        ['average_pooling2d_18[0][0]']   \n",
      "                                                                                                  \n",
      " batch_normalization_193 (Batch  (None, 29, 29, 64)  192         ['conv2d_197[0][0]']             \n",
      " Normalization)                                                                                   \n",
      "                                                                                                  \n",
      " batch_normalization_195 (Batch  (None, 29, 29, 64)  192         ['conv2d_199[0][0]']             \n",
      " Normalization)                                                                                   \n",
      "                                                                                                  \n",
      " batch_normalization_198 (Batch  (None, 29, 29, 96)  288         ['conv2d_202[0][0]']             \n",
      " Normalization)                                                                                   \n",
      "                                                                                                  \n",
      " batch_normalization_199 (Batch  (None, 29, 29, 32)  96          ['conv2d_203[0][0]']             \n",
      " Normalization)                                                                                   \n",
      "                                                                                                  \n",
      " activation_193 (Activation)    (None, 29, 29, 64)   0           ['batch_normalization_193[0][0]']\n",
      "                                                                                                  \n",
      " activation_195 (Activation)    (None, 29, 29, 64)   0           ['batch_normalization_195[0][0]']\n",
      "                                                                                                  \n",
      " activation_198 (Activation)    (None, 29, 29, 96)   0           ['batch_normalization_198[0][0]']\n",
      "                                                                                                  \n",
      " activation_199 (Activation)    (None, 29, 29, 32)   0           ['batch_normalization_199[0][0]']\n",
      "                                                                                                  \n",
      " mixed0 (Concatenate)           (None, 29, 29, 256)  0           ['activation_193[0][0]',         \n",
      "                                                                  'activation_195[0][0]',         \n",
      "                                                                  'activation_198[0][0]',         \n",
      "                                                                  'activation_199[0][0]']         \n",
      "                                                                                                  \n",
      " conv2d_207 (Conv2D)            (None, 29, 29, 64)   16384       ['mixed0[0][0]']                 \n",
      "                                                                                                  \n",
      " batch_normalization_203 (Batch  (None, 29, 29, 64)  192         ['conv2d_207[0][0]']             \n",
      " Normalization)                                                                                   \n",
      "                                                                                                  \n",
      " activation_203 (Activation)    (None, 29, 29, 64)   0           ['batch_normalization_203[0][0]']\n",
      "                                                                                                  \n",
      " conv2d_205 (Conv2D)            (None, 29, 29, 48)   12288       ['mixed0[0][0]']                 \n",
      "                                                                                                  \n",
      " conv2d_208 (Conv2D)            (None, 29, 29, 96)   55296       ['activation_203[0][0]']         \n",
      "                                                                                                  \n",
      " batch_normalization_201 (Batch  (None, 29, 29, 48)  144         ['conv2d_205[0][0]']             \n",
      " Normalization)                                                                                   \n",
      "                                                                                                  \n",
      " batch_normalization_204 (Batch  (None, 29, 29, 96)  288         ['conv2d_208[0][0]']             \n",
      " Normalization)                                                                                   \n",
      "                                                                                                  \n",
      " activation_201 (Activation)    (None, 29, 29, 48)   0           ['batch_normalization_201[0][0]']\n",
      "                                                                                                  \n",
      " activation_204 (Activation)    (None, 29, 29, 96)   0           ['batch_normalization_204[0][0]']\n",
      "                                                                                                  \n",
      " average_pooling2d_19 (AverageP  (None, 29, 29, 256)  0          ['mixed0[0][0]']                 \n",
      " ooling2D)                                                                                        \n",
      "                                                                                                  \n",
      " conv2d_204 (Conv2D)            (None, 29, 29, 64)   16384       ['mixed0[0][0]']                 \n",
      "                                                                                                  \n",
      " conv2d_206 (Conv2D)            (None, 29, 29, 64)   76800       ['activation_201[0][0]']         \n",
      "                                                                                                  \n",
      " conv2d_209 (Conv2D)            (None, 29, 29, 96)   82944       ['activation_204[0][0]']         \n",
      "                                                                                                  \n",
      " conv2d_210 (Conv2D)            (None, 29, 29, 64)   16384       ['average_pooling2d_19[0][0]']   \n",
      "                                                                                                  \n",
      " batch_normalization_200 (Batch  (None, 29, 29, 64)  192         ['conv2d_204[0][0]']             \n",
      " Normalization)                                                                                   \n",
      "                                                                                                  \n",
      " batch_normalization_202 (Batch  (None, 29, 29, 64)  192         ['conv2d_206[0][0]']             \n",
      " Normalization)                                                                                   \n",
      "                                                                                                  \n",
      " batch_normalization_205 (Batch  (None, 29, 29, 96)  288         ['conv2d_209[0][0]']             \n",
      " Normalization)                                                                                   \n",
      "                                                                                                  \n",
      " batch_normalization_206 (Batch  (None, 29, 29, 64)  192         ['conv2d_210[0][0]']             \n",
      " Normalization)                                                                                   \n",
      "                                                                                                  \n",
      " activation_200 (Activation)    (None, 29, 29, 64)   0           ['batch_normalization_200[0][0]']\n",
      "                                                                                                  \n",
      " activation_202 (Activation)    (None, 29, 29, 64)   0           ['batch_normalization_202[0][0]']\n",
      "                                                                                                  \n",
      " activation_205 (Activation)    (None, 29, 29, 96)   0           ['batch_normalization_205[0][0]']\n",
      "                                                                                                  \n",
      " activation_206 (Activation)    (None, 29, 29, 64)   0           ['batch_normalization_206[0][0]']\n",
      "                                                                                                  \n",
      " mixed1 (Concatenate)           (None, 29, 29, 288)  0           ['activation_200[0][0]',         \n",
      "                                                                  'activation_202[0][0]',         \n",
      "                                                                  'activation_205[0][0]',         \n",
      "                                                                  'activation_206[0][0]']         \n"
     ]
    },
    {
     "name": "stdout",
     "output_type": "stream",
     "text": [
      "                                                                                                  \n",
      " conv2d_214 (Conv2D)            (None, 29, 29, 64)   18432       ['mixed1[0][0]']                 \n",
      "                                                                                                  \n",
      " batch_normalization_210 (Batch  (None, 29, 29, 64)  192         ['conv2d_214[0][0]']             \n",
      " Normalization)                                                                                   \n",
      "                                                                                                  \n",
      " activation_210 (Activation)    (None, 29, 29, 64)   0           ['batch_normalization_210[0][0]']\n",
      "                                                                                                  \n",
      " conv2d_212 (Conv2D)            (None, 29, 29, 48)   13824       ['mixed1[0][0]']                 \n",
      "                                                                                                  \n",
      " conv2d_215 (Conv2D)            (None, 29, 29, 96)   55296       ['activation_210[0][0]']         \n",
      "                                                                                                  \n",
      " batch_normalization_208 (Batch  (None, 29, 29, 48)  144         ['conv2d_212[0][0]']             \n",
      " Normalization)                                                                                   \n",
      "                                                                                                  \n",
      " batch_normalization_211 (Batch  (None, 29, 29, 96)  288         ['conv2d_215[0][0]']             \n",
      " Normalization)                                                                                   \n",
      "                                                                                                  \n",
      " activation_208 (Activation)    (None, 29, 29, 48)   0           ['batch_normalization_208[0][0]']\n",
      "                                                                                                  \n",
      " activation_211 (Activation)    (None, 29, 29, 96)   0           ['batch_normalization_211[0][0]']\n",
      "                                                                                                  \n",
      " average_pooling2d_20 (AverageP  (None, 29, 29, 288)  0          ['mixed1[0][0]']                 \n",
      " ooling2D)                                                                                        \n",
      "                                                                                                  \n",
      " conv2d_211 (Conv2D)            (None, 29, 29, 64)   18432       ['mixed1[0][0]']                 \n",
      "                                                                                                  \n",
      " conv2d_213 (Conv2D)            (None, 29, 29, 64)   76800       ['activation_208[0][0]']         \n",
      "                                                                                                  \n",
      " conv2d_216 (Conv2D)            (None, 29, 29, 96)   82944       ['activation_211[0][0]']         \n",
      "                                                                                                  \n",
      " conv2d_217 (Conv2D)            (None, 29, 29, 64)   18432       ['average_pooling2d_20[0][0]']   \n",
      "                                                                                                  \n",
      " batch_normalization_207 (Batch  (None, 29, 29, 64)  192         ['conv2d_211[0][0]']             \n",
      " Normalization)                                                                                   \n",
      "                                                                                                  \n",
      " batch_normalization_209 (Batch  (None, 29, 29, 64)  192         ['conv2d_213[0][0]']             \n",
      " Normalization)                                                                                   \n",
      "                                                                                                  \n",
      " batch_normalization_212 (Batch  (None, 29, 29, 96)  288         ['conv2d_216[0][0]']             \n",
      " Normalization)                                                                                   \n",
      "                                                                                                  \n",
      " batch_normalization_213 (Batch  (None, 29, 29, 64)  192         ['conv2d_217[0][0]']             \n",
      " Normalization)                                                                                   \n",
      "                                                                                                  \n",
      " activation_207 (Activation)    (None, 29, 29, 64)   0           ['batch_normalization_207[0][0]']\n",
      "                                                                                                  \n",
      " activation_209 (Activation)    (None, 29, 29, 64)   0           ['batch_normalization_209[0][0]']\n",
      "                                                                                                  \n",
      " activation_212 (Activation)    (None, 29, 29, 96)   0           ['batch_normalization_212[0][0]']\n",
      "                                                                                                  \n",
      " activation_213 (Activation)    (None, 29, 29, 64)   0           ['batch_normalization_213[0][0]']\n",
      "                                                                                                  \n",
      " mixed2 (Concatenate)           (None, 29, 29, 288)  0           ['activation_207[0][0]',         \n",
      "                                                                  'activation_209[0][0]',         \n",
      "                                                                  'activation_212[0][0]',         \n",
      "                                                                  'activation_213[0][0]']         \n",
      "                                                                                                  \n",
      " conv2d_219 (Conv2D)            (None, 29, 29, 64)   18432       ['mixed2[0][0]']                 \n",
      "                                                                                                  \n",
      " batch_normalization_215 (Batch  (None, 29, 29, 64)  192         ['conv2d_219[0][0]']             \n",
      " Normalization)                                                                                   \n",
      "                                                                                                  \n",
      " activation_215 (Activation)    (None, 29, 29, 64)   0           ['batch_normalization_215[0][0]']\n",
      "                                                                                                  \n",
      " conv2d_220 (Conv2D)            (None, 29, 29, 96)   55296       ['activation_215[0][0]']         \n",
      "                                                                                                  \n",
      " batch_normalization_216 (Batch  (None, 29, 29, 96)  288         ['conv2d_220[0][0]']             \n",
      " Normalization)                                                                                   \n",
      "                                                                                                  \n",
      " activation_216 (Activation)    (None, 29, 29, 96)   0           ['batch_normalization_216[0][0]']\n",
      "                                                                                                  \n",
      " conv2d_218 (Conv2D)            (None, 14, 14, 384)  995328      ['mixed2[0][0]']                 \n",
      "                                                                                                  \n",
      " conv2d_221 (Conv2D)            (None, 14, 14, 96)   82944       ['activation_216[0][0]']         \n",
      "                                                                                                  \n",
      " batch_normalization_214 (Batch  (None, 14, 14, 384)  1152       ['conv2d_218[0][0]']             \n",
      " Normalization)                                                                                   \n",
      "                                                                                                  \n",
      " batch_normalization_217 (Batch  (None, 14, 14, 96)  288         ['conv2d_221[0][0]']             \n",
      " Normalization)                                                                                   \n",
      "                                                                                                  \n",
      " activation_214 (Activation)    (None, 14, 14, 384)  0           ['batch_normalization_214[0][0]']\n"
     ]
    },
    {
     "name": "stdout",
     "output_type": "stream",
     "text": [
      "                                                                                                  \n",
      " activation_217 (Activation)    (None, 14, 14, 96)   0           ['batch_normalization_217[0][0]']\n",
      "                                                                                                  \n",
      " max_pooling2d_14 (MaxPooling2D  (None, 14, 14, 288)  0          ['mixed2[0][0]']                 \n",
      " )                                                                                                \n",
      "                                                                                                  \n",
      " mixed3 (Concatenate)           (None, 14, 14, 768)  0           ['activation_214[0][0]',         \n",
      "                                                                  'activation_217[0][0]',         \n",
      "                                                                  'max_pooling2d_14[0][0]']       \n",
      "                                                                                                  \n",
      " conv2d_226 (Conv2D)            (None, 14, 14, 128)  98304       ['mixed3[0][0]']                 \n",
      "                                                                                                  \n",
      " batch_normalization_222 (Batch  (None, 14, 14, 128)  384        ['conv2d_226[0][0]']             \n",
      " Normalization)                                                                                   \n",
      "                                                                                                  \n",
      " activation_222 (Activation)    (None, 14, 14, 128)  0           ['batch_normalization_222[0][0]']\n",
      "                                                                                                  \n",
      " conv2d_227 (Conv2D)            (None, 14, 14, 128)  114688      ['activation_222[0][0]']         \n",
      "                                                                                                  \n",
      " batch_normalization_223 (Batch  (None, 14, 14, 128)  384        ['conv2d_227[0][0]']             \n",
      " Normalization)                                                                                   \n",
      "                                                                                                  \n",
      " activation_223 (Activation)    (None, 14, 14, 128)  0           ['batch_normalization_223[0][0]']\n",
      "                                                                                                  \n",
      " conv2d_223 (Conv2D)            (None, 14, 14, 128)  98304       ['mixed3[0][0]']                 \n",
      "                                                                                                  \n",
      " conv2d_228 (Conv2D)            (None, 14, 14, 128)  114688      ['activation_223[0][0]']         \n",
      "                                                                                                  \n",
      " batch_normalization_219 (Batch  (None, 14, 14, 128)  384        ['conv2d_223[0][0]']             \n",
      " Normalization)                                                                                   \n",
      "                                                                                                  \n",
      " batch_normalization_224 (Batch  (None, 14, 14, 128)  384        ['conv2d_228[0][0]']             \n",
      " Normalization)                                                                                   \n",
      "                                                                                                  \n",
      " activation_219 (Activation)    (None, 14, 14, 128)  0           ['batch_normalization_219[0][0]']\n",
      "                                                                                                  \n",
      " activation_224 (Activation)    (None, 14, 14, 128)  0           ['batch_normalization_224[0][0]']\n",
      "                                                                                                  \n",
      " conv2d_224 (Conv2D)            (None, 14, 14, 128)  114688      ['activation_219[0][0]']         \n",
      "                                                                                                  \n",
      " conv2d_229 (Conv2D)            (None, 14, 14, 128)  114688      ['activation_224[0][0]']         \n",
      "                                                                                                  \n",
      " batch_normalization_220 (Batch  (None, 14, 14, 128)  384        ['conv2d_224[0][0]']             \n",
      " Normalization)                                                                                   \n",
      "                                                                                                  \n",
      " batch_normalization_225 (Batch  (None, 14, 14, 128)  384        ['conv2d_229[0][0]']             \n",
      " Normalization)                                                                                   \n",
      "                                                                                                  \n",
      " activation_220 (Activation)    (None, 14, 14, 128)  0           ['batch_normalization_220[0][0]']\n",
      "                                                                                                  \n",
      " activation_225 (Activation)    (None, 14, 14, 128)  0           ['batch_normalization_225[0][0]']\n",
      "                                                                                                  \n",
      " average_pooling2d_21 (AverageP  (None, 14, 14, 768)  0          ['mixed3[0][0]']                 \n",
      " ooling2D)                                                                                        \n",
      "                                                                                                  \n",
      " conv2d_222 (Conv2D)            (None, 14, 14, 192)  147456      ['mixed3[0][0]']                 \n",
      "                                                                                                  \n",
      " conv2d_225 (Conv2D)            (None, 14, 14, 192)  172032      ['activation_220[0][0]']         \n",
      "                                                                                                  \n",
      " conv2d_230 (Conv2D)            (None, 14, 14, 192)  172032      ['activation_225[0][0]']         \n",
      "                                                                                                  \n",
      " conv2d_231 (Conv2D)            (None, 14, 14, 192)  147456      ['average_pooling2d_21[0][0]']   \n",
      "                                                                                                  \n",
      " batch_normalization_218 (Batch  (None, 14, 14, 192)  576        ['conv2d_222[0][0]']             \n",
      " Normalization)                                                                                   \n",
      "                                                                                                  \n",
      " batch_normalization_221 (Batch  (None, 14, 14, 192)  576        ['conv2d_225[0][0]']             \n",
      " Normalization)                                                                                   \n",
      "                                                                                                  \n",
      " batch_normalization_226 (Batch  (None, 14, 14, 192)  576        ['conv2d_230[0][0]']             \n",
      " Normalization)                                                                                   \n",
      "                                                                                                  \n",
      " batch_normalization_227 (Batch  (None, 14, 14, 192)  576        ['conv2d_231[0][0]']             \n",
      " Normalization)                                                                                   \n",
      "                                                                                                  \n",
      " activation_218 (Activation)    (None, 14, 14, 192)  0           ['batch_normalization_218[0][0]']\n",
      "                                                                                                  \n",
      " activation_221 (Activation)    (None, 14, 14, 192)  0           ['batch_normalization_221[0][0]']\n",
      "                                                                                                  \n",
      " activation_226 (Activation)    (None, 14, 14, 192)  0           ['batch_normalization_226[0][0]']\n",
      "                                                                                                  \n",
      " activation_227 (Activation)    (None, 14, 14, 192)  0           ['batch_normalization_227[0][0]']\n",
      "                                                                                                  \n"
     ]
    },
    {
     "name": "stdout",
     "output_type": "stream",
     "text": [
      " mixed4 (Concatenate)           (None, 14, 14, 768)  0           ['activation_218[0][0]',         \n",
      "                                                                  'activation_221[0][0]',         \n",
      "                                                                  'activation_226[0][0]',         \n",
      "                                                                  'activation_227[0][0]']         \n",
      "                                                                                                  \n",
      " conv2d_236 (Conv2D)            (None, 14, 14, 160)  122880      ['mixed4[0][0]']                 \n",
      "                                                                                                  \n",
      " batch_normalization_232 (Batch  (None, 14, 14, 160)  480        ['conv2d_236[0][0]']             \n",
      " Normalization)                                                                                   \n",
      "                                                                                                  \n",
      " activation_232 (Activation)    (None, 14, 14, 160)  0           ['batch_normalization_232[0][0]']\n",
      "                                                                                                  \n",
      " conv2d_237 (Conv2D)            (None, 14, 14, 160)  179200      ['activation_232[0][0]']         \n",
      "                                                                                                  \n",
      " batch_normalization_233 (Batch  (None, 14, 14, 160)  480        ['conv2d_237[0][0]']             \n",
      " Normalization)                                                                                   \n",
      "                                                                                                  \n",
      " activation_233 (Activation)    (None, 14, 14, 160)  0           ['batch_normalization_233[0][0]']\n",
      "                                                                                                  \n",
      " conv2d_233 (Conv2D)            (None, 14, 14, 160)  122880      ['mixed4[0][0]']                 \n",
      "                                                                                                  \n",
      " conv2d_238 (Conv2D)            (None, 14, 14, 160)  179200      ['activation_233[0][0]']         \n",
      "                                                                                                  \n",
      " batch_normalization_229 (Batch  (None, 14, 14, 160)  480        ['conv2d_233[0][0]']             \n",
      " Normalization)                                                                                   \n",
      "                                                                                                  \n",
      " batch_normalization_234 (Batch  (None, 14, 14, 160)  480        ['conv2d_238[0][0]']             \n",
      " Normalization)                                                                                   \n",
      "                                                                                                  \n",
      " activation_229 (Activation)    (None, 14, 14, 160)  0           ['batch_normalization_229[0][0]']\n",
      "                                                                                                  \n",
      " activation_234 (Activation)    (None, 14, 14, 160)  0           ['batch_normalization_234[0][0]']\n",
      "                                                                                                  \n",
      " conv2d_234 (Conv2D)            (None, 14, 14, 160)  179200      ['activation_229[0][0]']         \n",
      "                                                                                                  \n",
      " conv2d_239 (Conv2D)            (None, 14, 14, 160)  179200      ['activation_234[0][0]']         \n",
      "                                                                                                  \n",
      " batch_normalization_230 (Batch  (None, 14, 14, 160)  480        ['conv2d_234[0][0]']             \n",
      " Normalization)                                                                                   \n",
      "                                                                                                  \n",
      " batch_normalization_235 (Batch  (None, 14, 14, 160)  480        ['conv2d_239[0][0]']             \n",
      " Normalization)                                                                                   \n",
      "                                                                                                  \n",
      " activation_230 (Activation)    (None, 14, 14, 160)  0           ['batch_normalization_230[0][0]']\n",
      "                                                                                                  \n",
      " activation_235 (Activation)    (None, 14, 14, 160)  0           ['batch_normalization_235[0][0]']\n",
      "                                                                                                  \n",
      " average_pooling2d_22 (AverageP  (None, 14, 14, 768)  0          ['mixed4[0][0]']                 \n",
      " ooling2D)                                                                                        \n",
      "                                                                                                  \n",
      " conv2d_232 (Conv2D)            (None, 14, 14, 192)  147456      ['mixed4[0][0]']                 \n",
      "                                                                                                  \n",
      " conv2d_235 (Conv2D)            (None, 14, 14, 192)  215040      ['activation_230[0][0]']         \n",
      "                                                                                                  \n",
      " conv2d_240 (Conv2D)            (None, 14, 14, 192)  215040      ['activation_235[0][0]']         \n",
      "                                                                                                  \n",
      " conv2d_241 (Conv2D)            (None, 14, 14, 192)  147456      ['average_pooling2d_22[0][0]']   \n",
      "                                                                                                  \n",
      " batch_normalization_228 (Batch  (None, 14, 14, 192)  576        ['conv2d_232[0][0]']             \n",
      " Normalization)                                                                                   \n",
      "                                                                                                  \n",
      " batch_normalization_231 (Batch  (None, 14, 14, 192)  576        ['conv2d_235[0][0]']             \n",
      " Normalization)                                                                                   \n",
      "                                                                                                  \n",
      " batch_normalization_236 (Batch  (None, 14, 14, 192)  576        ['conv2d_240[0][0]']             \n",
      " Normalization)                                                                                   \n",
      "                                                                                                  \n",
      " batch_normalization_237 (Batch  (None, 14, 14, 192)  576        ['conv2d_241[0][0]']             \n",
      " Normalization)                                                                                   \n",
      "                                                                                                  \n",
      " activation_228 (Activation)    (None, 14, 14, 192)  0           ['batch_normalization_228[0][0]']\n",
      "                                                                                                  \n",
      " activation_231 (Activation)    (None, 14, 14, 192)  0           ['batch_normalization_231[0][0]']\n",
      "                                                                                                  \n",
      " activation_236 (Activation)    (None, 14, 14, 192)  0           ['batch_normalization_236[0][0]']\n",
      "                                                                                                  \n",
      " activation_237 (Activation)    (None, 14, 14, 192)  0           ['batch_normalization_237[0][0]']\n",
      "                                                                                                  \n",
      " mixed5 (Concatenate)           (None, 14, 14, 768)  0           ['activation_228[0][0]',         \n",
      "                                                                  'activation_231[0][0]',         \n",
      "                                                                  'activation_236[0][0]',         \n",
      "                                                                  'activation_237[0][0]']         \n",
      "                                                                                                  \n"
     ]
    },
    {
     "name": "stdout",
     "output_type": "stream",
     "text": [
      " conv2d_246 (Conv2D)            (None, 14, 14, 160)  122880      ['mixed5[0][0]']                 \n",
      "                                                                                                  \n",
      " batch_normalization_242 (Batch  (None, 14, 14, 160)  480        ['conv2d_246[0][0]']             \n",
      " Normalization)                                                                                   \n",
      "                                                                                                  \n",
      " activation_242 (Activation)    (None, 14, 14, 160)  0           ['batch_normalization_242[0][0]']\n",
      "                                                                                                  \n",
      " conv2d_247 (Conv2D)            (None, 14, 14, 160)  179200      ['activation_242[0][0]']         \n",
      "                                                                                                  \n",
      " batch_normalization_243 (Batch  (None, 14, 14, 160)  480        ['conv2d_247[0][0]']             \n",
      " Normalization)                                                                                   \n",
      "                                                                                                  \n",
      " activation_243 (Activation)    (None, 14, 14, 160)  0           ['batch_normalization_243[0][0]']\n",
      "                                                                                                  \n",
      " conv2d_243 (Conv2D)            (None, 14, 14, 160)  122880      ['mixed5[0][0]']                 \n",
      "                                                                                                  \n",
      " conv2d_248 (Conv2D)            (None, 14, 14, 160)  179200      ['activation_243[0][0]']         \n",
      "                                                                                                  \n",
      " batch_normalization_239 (Batch  (None, 14, 14, 160)  480        ['conv2d_243[0][0]']             \n",
      " Normalization)                                                                                   \n",
      "                                                                                                  \n",
      " batch_normalization_244 (Batch  (None, 14, 14, 160)  480        ['conv2d_248[0][0]']             \n",
      " Normalization)                                                                                   \n",
      "                                                                                                  \n",
      " activation_239 (Activation)    (None, 14, 14, 160)  0           ['batch_normalization_239[0][0]']\n",
      "                                                                                                  \n",
      " activation_244 (Activation)    (None, 14, 14, 160)  0           ['batch_normalization_244[0][0]']\n",
      "                                                                                                  \n",
      " conv2d_244 (Conv2D)            (None, 14, 14, 160)  179200      ['activation_239[0][0]']         \n",
      "                                                                                                  \n",
      " conv2d_249 (Conv2D)            (None, 14, 14, 160)  179200      ['activation_244[0][0]']         \n",
      "                                                                                                  \n",
      " batch_normalization_240 (Batch  (None, 14, 14, 160)  480        ['conv2d_244[0][0]']             \n",
      " Normalization)                                                                                   \n",
      "                                                                                                  \n",
      " batch_normalization_245 (Batch  (None, 14, 14, 160)  480        ['conv2d_249[0][0]']             \n",
      " Normalization)                                                                                   \n",
      "                                                                                                  \n",
      " activation_240 (Activation)    (None, 14, 14, 160)  0           ['batch_normalization_240[0][0]']\n",
      "                                                                                                  \n",
      " activation_245 (Activation)    (None, 14, 14, 160)  0           ['batch_normalization_245[0][0]']\n",
      "                                                                                                  \n",
      " average_pooling2d_23 (AverageP  (None, 14, 14, 768)  0          ['mixed5[0][0]']                 \n",
      " ooling2D)                                                                                        \n",
      "                                                                                                  \n",
      " conv2d_242 (Conv2D)            (None, 14, 14, 192)  147456      ['mixed5[0][0]']                 \n",
      "                                                                                                  \n",
      " conv2d_245 (Conv2D)            (None, 14, 14, 192)  215040      ['activation_240[0][0]']         \n",
      "                                                                                                  \n",
      " conv2d_250 (Conv2D)            (None, 14, 14, 192)  215040      ['activation_245[0][0]']         \n",
      "                                                                                                  \n",
      " conv2d_251 (Conv2D)            (None, 14, 14, 192)  147456      ['average_pooling2d_23[0][0]']   \n",
      "                                                                                                  \n",
      " batch_normalization_238 (Batch  (None, 14, 14, 192)  576        ['conv2d_242[0][0]']             \n",
      " Normalization)                                                                                   \n",
      "                                                                                                  \n",
      " batch_normalization_241 (Batch  (None, 14, 14, 192)  576        ['conv2d_245[0][0]']             \n",
      " Normalization)                                                                                   \n",
      "                                                                                                  \n",
      " batch_normalization_246 (Batch  (None, 14, 14, 192)  576        ['conv2d_250[0][0]']             \n",
      " Normalization)                                                                                   \n",
      "                                                                                                  \n",
      " batch_normalization_247 (Batch  (None, 14, 14, 192)  576        ['conv2d_251[0][0]']             \n",
      " Normalization)                                                                                   \n",
      "                                                                                                  \n",
      " activation_238 (Activation)    (None, 14, 14, 192)  0           ['batch_normalization_238[0][0]']\n",
      "                                                                                                  \n",
      " activation_241 (Activation)    (None, 14, 14, 192)  0           ['batch_normalization_241[0][0]']\n",
      "                                                                                                  \n",
      " activation_246 (Activation)    (None, 14, 14, 192)  0           ['batch_normalization_246[0][0]']\n",
      "                                                                                                  \n",
      " activation_247 (Activation)    (None, 14, 14, 192)  0           ['batch_normalization_247[0][0]']\n",
      "                                                                                                  \n",
      " mixed6 (Concatenate)           (None, 14, 14, 768)  0           ['activation_238[0][0]',         \n",
      "                                                                  'activation_241[0][0]',         \n",
      "                                                                  'activation_246[0][0]',         \n",
      "                                                                  'activation_247[0][0]']         \n",
      "                                                                                                  \n",
      " conv2d_256 (Conv2D)            (None, 14, 14, 192)  147456      ['mixed6[0][0]']                 \n",
      "                                                                                                  \n",
      " batch_normalization_252 (Batch  (None, 14, 14, 192)  576        ['conv2d_256[0][0]']             \n",
      " Normalization)                                                                                   \n",
      "                                                                                                  \n"
     ]
    },
    {
     "name": "stdout",
     "output_type": "stream",
     "text": [
      " activation_252 (Activation)    (None, 14, 14, 192)  0           ['batch_normalization_252[0][0]']\n",
      "                                                                                                  \n",
      " conv2d_257 (Conv2D)            (None, 14, 14, 192)  258048      ['activation_252[0][0]']         \n",
      "                                                                                                  \n",
      " batch_normalization_253 (Batch  (None, 14, 14, 192)  576        ['conv2d_257[0][0]']             \n",
      " Normalization)                                                                                   \n",
      "                                                                                                  \n",
      " activation_253 (Activation)    (None, 14, 14, 192)  0           ['batch_normalization_253[0][0]']\n",
      "                                                                                                  \n",
      " conv2d_253 (Conv2D)            (None, 14, 14, 192)  147456      ['mixed6[0][0]']                 \n",
      "                                                                                                  \n",
      " conv2d_258 (Conv2D)            (None, 14, 14, 192)  258048      ['activation_253[0][0]']         \n",
      "                                                                                                  \n",
      " batch_normalization_249 (Batch  (None, 14, 14, 192)  576        ['conv2d_253[0][0]']             \n",
      " Normalization)                                                                                   \n",
      "                                                                                                  \n",
      " batch_normalization_254 (Batch  (None, 14, 14, 192)  576        ['conv2d_258[0][0]']             \n",
      " Normalization)                                                                                   \n",
      "                                                                                                  \n",
      " activation_249 (Activation)    (None, 14, 14, 192)  0           ['batch_normalization_249[0][0]']\n",
      "                                                                                                  \n",
      " activation_254 (Activation)    (None, 14, 14, 192)  0           ['batch_normalization_254[0][0]']\n",
      "                                                                                                  \n",
      " conv2d_254 (Conv2D)            (None, 14, 14, 192)  258048      ['activation_249[0][0]']         \n",
      "                                                                                                  \n",
      " conv2d_259 (Conv2D)            (None, 14, 14, 192)  258048      ['activation_254[0][0]']         \n",
      "                                                                                                  \n",
      " batch_normalization_250 (Batch  (None, 14, 14, 192)  576        ['conv2d_254[0][0]']             \n",
      " Normalization)                                                                                   \n",
      "                                                                                                  \n",
      " batch_normalization_255 (Batch  (None, 14, 14, 192)  576        ['conv2d_259[0][0]']             \n",
      " Normalization)                                                                                   \n",
      "                                                                                                  \n",
      " activation_250 (Activation)    (None, 14, 14, 192)  0           ['batch_normalization_250[0][0]']\n",
      "                                                                                                  \n",
      " activation_255 (Activation)    (None, 14, 14, 192)  0           ['batch_normalization_255[0][0]']\n",
      "                                                                                                  \n",
      " average_pooling2d_24 (AverageP  (None, 14, 14, 768)  0          ['mixed6[0][0]']                 \n",
      " ooling2D)                                                                                        \n",
      "                                                                                                  \n",
      " conv2d_252 (Conv2D)            (None, 14, 14, 192)  147456      ['mixed6[0][0]']                 \n",
      "                                                                                                  \n",
      " conv2d_255 (Conv2D)            (None, 14, 14, 192)  258048      ['activation_250[0][0]']         \n",
      "                                                                                                  \n",
      " conv2d_260 (Conv2D)            (None, 14, 14, 192)  258048      ['activation_255[0][0]']         \n",
      "                                                                                                  \n",
      " conv2d_261 (Conv2D)            (None, 14, 14, 192)  147456      ['average_pooling2d_24[0][0]']   \n",
      "                                                                                                  \n",
      " batch_normalization_248 (Batch  (None, 14, 14, 192)  576        ['conv2d_252[0][0]']             \n",
      " Normalization)                                                                                   \n",
      "                                                                                                  \n",
      " batch_normalization_251 (Batch  (None, 14, 14, 192)  576        ['conv2d_255[0][0]']             \n",
      " Normalization)                                                                                   \n",
      "                                                                                                  \n",
      " batch_normalization_256 (Batch  (None, 14, 14, 192)  576        ['conv2d_260[0][0]']             \n",
      " Normalization)                                                                                   \n",
      "                                                                                                  \n",
      " batch_normalization_257 (Batch  (None, 14, 14, 192)  576        ['conv2d_261[0][0]']             \n",
      " Normalization)                                                                                   \n",
      "                                                                                                  \n",
      " activation_248 (Activation)    (None, 14, 14, 192)  0           ['batch_normalization_248[0][0]']\n",
      "                                                                                                  \n",
      " activation_251 (Activation)    (None, 14, 14, 192)  0           ['batch_normalization_251[0][0]']\n",
      "                                                                                                  \n",
      " activation_256 (Activation)    (None, 14, 14, 192)  0           ['batch_normalization_256[0][0]']\n",
      "                                                                                                  \n",
      " activation_257 (Activation)    (None, 14, 14, 192)  0           ['batch_normalization_257[0][0]']\n",
      "                                                                                                  \n",
      " mixed7 (Concatenate)           (None, 14, 14, 768)  0           ['activation_248[0][0]',         \n",
      "                                                                  'activation_251[0][0]',         \n",
      "                                                                  'activation_256[0][0]',         \n",
      "                                                                  'activation_257[0][0]']         \n",
      "                                                                                                  \n",
      " conv2d_264 (Conv2D)            (None, 14, 14, 192)  147456      ['mixed7[0][0]']                 \n",
      "                                                                                                  \n",
      " batch_normalization_260 (Batch  (None, 14, 14, 192)  576        ['conv2d_264[0][0]']             \n",
      " Normalization)                                                                                   \n",
      "                                                                                                  \n",
      " activation_260 (Activation)    (None, 14, 14, 192)  0           ['batch_normalization_260[0][0]']\n",
      "                                                                                                  \n",
      " conv2d_265 (Conv2D)            (None, 14, 14, 192)  258048      ['activation_260[0][0]']         \n",
      "                                                                                                  \n",
      " batch_normalization_261 (Batch  (None, 14, 14, 192)  576        ['conv2d_265[0][0]']             \n"
     ]
    },
    {
     "name": "stdout",
     "output_type": "stream",
     "text": [
      " Normalization)                                                                                   \n",
      "                                                                                                  \n",
      " activation_261 (Activation)    (None, 14, 14, 192)  0           ['batch_normalization_261[0][0]']\n",
      "                                                                                                  \n",
      " conv2d_262 (Conv2D)            (None, 14, 14, 192)  147456      ['mixed7[0][0]']                 \n",
      "                                                                                                  \n",
      " conv2d_266 (Conv2D)            (None, 14, 14, 192)  258048      ['activation_261[0][0]']         \n",
      "                                                                                                  \n",
      " batch_normalization_258 (Batch  (None, 14, 14, 192)  576        ['conv2d_262[0][0]']             \n",
      " Normalization)                                                                                   \n",
      "                                                                                                  \n",
      " batch_normalization_262 (Batch  (None, 14, 14, 192)  576        ['conv2d_266[0][0]']             \n",
      " Normalization)                                                                                   \n",
      "                                                                                                  \n",
      " activation_258 (Activation)    (None, 14, 14, 192)  0           ['batch_normalization_258[0][0]']\n",
      "                                                                                                  \n",
      " activation_262 (Activation)    (None, 14, 14, 192)  0           ['batch_normalization_262[0][0]']\n",
      "                                                                                                  \n",
      " conv2d_263 (Conv2D)            (None, 6, 6, 320)    552960      ['activation_258[0][0]']         \n",
      "                                                                                                  \n",
      " conv2d_267 (Conv2D)            (None, 6, 6, 192)    331776      ['activation_262[0][0]']         \n",
      "                                                                                                  \n",
      " batch_normalization_259 (Batch  (None, 6, 6, 320)   960         ['conv2d_263[0][0]']             \n",
      " Normalization)                                                                                   \n",
      "                                                                                                  \n",
      " batch_normalization_263 (Batch  (None, 6, 6, 192)   576         ['conv2d_267[0][0]']             \n",
      " Normalization)                                                                                   \n",
      "                                                                                                  \n",
      " activation_259 (Activation)    (None, 6, 6, 320)    0           ['batch_normalization_259[0][0]']\n",
      "                                                                                                  \n",
      " activation_263 (Activation)    (None, 6, 6, 192)    0           ['batch_normalization_263[0][0]']\n",
      "                                                                                                  \n",
      " max_pooling2d_15 (MaxPooling2D  (None, 6, 6, 768)   0           ['mixed7[0][0]']                 \n",
      " )                                                                                                \n",
      "                                                                                                  \n",
      " mixed8 (Concatenate)           (None, 6, 6, 1280)   0           ['activation_259[0][0]',         \n",
      "                                                                  'activation_263[0][0]',         \n",
      "                                                                  'max_pooling2d_15[0][0]']       \n",
      "                                                                                                  \n",
      " conv2d_272 (Conv2D)            (None, 6, 6, 448)    573440      ['mixed8[0][0]']                 \n",
      "                                                                                                  \n",
      " batch_normalization_268 (Batch  (None, 6, 6, 448)   1344        ['conv2d_272[0][0]']             \n",
      " Normalization)                                                                                   \n",
      "                                                                                                  \n",
      " activation_268 (Activation)    (None, 6, 6, 448)    0           ['batch_normalization_268[0][0]']\n",
      "                                                                                                  \n",
      " conv2d_269 (Conv2D)            (None, 6, 6, 384)    491520      ['mixed8[0][0]']                 \n",
      "                                                                                                  \n",
      " conv2d_273 (Conv2D)            (None, 6, 6, 384)    1548288     ['activation_268[0][0]']         \n",
      "                                                                                                  \n",
      " batch_normalization_265 (Batch  (None, 6, 6, 384)   1152        ['conv2d_269[0][0]']             \n",
      " Normalization)                                                                                   \n",
      "                                                                                                  \n",
      " batch_normalization_269 (Batch  (None, 6, 6, 384)   1152        ['conv2d_273[0][0]']             \n",
      " Normalization)                                                                                   \n",
      "                                                                                                  \n",
      " activation_265 (Activation)    (None, 6, 6, 384)    0           ['batch_normalization_265[0][0]']\n",
      "                                                                                                  \n",
      " activation_269 (Activation)    (None, 6, 6, 384)    0           ['batch_normalization_269[0][0]']\n",
      "                                                                                                  \n",
      " conv2d_270 (Conv2D)            (None, 6, 6, 384)    442368      ['activation_265[0][0]']         \n",
      "                                                                                                  \n",
      " conv2d_271 (Conv2D)            (None, 6, 6, 384)    442368      ['activation_265[0][0]']         \n",
      "                                                                                                  \n",
      " conv2d_274 (Conv2D)            (None, 6, 6, 384)    442368      ['activation_269[0][0]']         \n",
      "                                                                                                  \n",
      " conv2d_275 (Conv2D)            (None, 6, 6, 384)    442368      ['activation_269[0][0]']         \n",
      "                                                                                                  \n",
      " average_pooling2d_25 (AverageP  (None, 6, 6, 1280)  0           ['mixed8[0][0]']                 \n",
      " ooling2D)                                                                                        \n",
      "                                                                                                  \n",
      " conv2d_268 (Conv2D)            (None, 6, 6, 320)    409600      ['mixed8[0][0]']                 \n",
      "                                                                                                  \n",
      " batch_normalization_266 (Batch  (None, 6, 6, 384)   1152        ['conv2d_270[0][0]']             \n",
      " Normalization)                                                                                   \n",
      "                                                                                                  \n",
      " batch_normalization_267 (Batch  (None, 6, 6, 384)   1152        ['conv2d_271[0][0]']             \n",
      " Normalization)                                                                                   \n",
      "                                                                                                  \n",
      " batch_normalization_270 (Batch  (None, 6, 6, 384)   1152        ['conv2d_274[0][0]']             \n",
      " Normalization)                                                                                   \n",
      "                                                                                                  \n",
      " batch_normalization_271 (Batch  (None, 6, 6, 384)   1152        ['conv2d_275[0][0]']             \n"
     ]
    },
    {
     "name": "stdout",
     "output_type": "stream",
     "text": [
      " Normalization)                                                                                   \n",
      "                                                                                                  \n",
      " conv2d_276 (Conv2D)            (None, 6, 6, 192)    245760      ['average_pooling2d_25[0][0]']   \n",
      "                                                                                                  \n",
      " batch_normalization_264 (Batch  (None, 6, 6, 320)   960         ['conv2d_268[0][0]']             \n",
      " Normalization)                                                                                   \n",
      "                                                                                                  \n",
      " activation_266 (Activation)    (None, 6, 6, 384)    0           ['batch_normalization_266[0][0]']\n",
      "                                                                                                  \n",
      " activation_267 (Activation)    (None, 6, 6, 384)    0           ['batch_normalization_267[0][0]']\n",
      "                                                                                                  \n",
      " activation_270 (Activation)    (None, 6, 6, 384)    0           ['batch_normalization_270[0][0]']\n",
      "                                                                                                  \n",
      " activation_271 (Activation)    (None, 6, 6, 384)    0           ['batch_normalization_271[0][0]']\n",
      "                                                                                                  \n",
      " batch_normalization_272 (Batch  (None, 6, 6, 192)   576         ['conv2d_276[0][0]']             \n",
      " Normalization)                                                                                   \n",
      "                                                                                                  \n",
      " activation_264 (Activation)    (None, 6, 6, 320)    0           ['batch_normalization_264[0][0]']\n",
      "                                                                                                  \n",
      " mixed9_0 (Concatenate)         (None, 6, 6, 768)    0           ['activation_266[0][0]',         \n",
      "                                                                  'activation_267[0][0]']         \n",
      "                                                                                                  \n",
      " concatenate_4 (Concatenate)    (None, 6, 6, 768)    0           ['activation_270[0][0]',         \n",
      "                                                                  'activation_271[0][0]']         \n",
      "                                                                                                  \n",
      " activation_272 (Activation)    (None, 6, 6, 192)    0           ['batch_normalization_272[0][0]']\n",
      "                                                                                                  \n",
      " mixed9 (Concatenate)           (None, 6, 6, 2048)   0           ['activation_264[0][0]',         \n",
      "                                                                  'mixed9_0[0][0]',               \n",
      "                                                                  'concatenate_4[0][0]',          \n",
      "                                                                  'activation_272[0][0]']         \n",
      "                                                                                                  \n",
      " conv2d_281 (Conv2D)            (None, 6, 6, 448)    917504      ['mixed9[0][0]']                 \n",
      "                                                                                                  \n",
      " batch_normalization_277 (Batch  (None, 6, 6, 448)   1344        ['conv2d_281[0][0]']             \n",
      " Normalization)                                                                                   \n",
      "                                                                                                  \n",
      " activation_277 (Activation)    (None, 6, 6, 448)    0           ['batch_normalization_277[0][0]']\n",
      "                                                                                                  \n",
      " conv2d_278 (Conv2D)            (None, 6, 6, 384)    786432      ['mixed9[0][0]']                 \n",
      "                                                                                                  \n",
      " conv2d_282 (Conv2D)            (None, 6, 6, 384)    1548288     ['activation_277[0][0]']         \n",
      "                                                                                                  \n",
      " batch_normalization_274 (Batch  (None, 6, 6, 384)   1152        ['conv2d_278[0][0]']             \n",
      " Normalization)                                                                                   \n",
      "                                                                                                  \n",
      " batch_normalization_278 (Batch  (None, 6, 6, 384)   1152        ['conv2d_282[0][0]']             \n",
      " Normalization)                                                                                   \n",
      "                                                                                                  \n",
      " activation_274 (Activation)    (None, 6, 6, 384)    0           ['batch_normalization_274[0][0]']\n",
      "                                                                                                  \n",
      " activation_278 (Activation)    (None, 6, 6, 384)    0           ['batch_normalization_278[0][0]']\n",
      "                                                                                                  \n",
      " conv2d_279 (Conv2D)            (None, 6, 6, 384)    442368      ['activation_274[0][0]']         \n",
      "                                                                                                  \n",
      " conv2d_280 (Conv2D)            (None, 6, 6, 384)    442368      ['activation_274[0][0]']         \n",
      "                                                                                                  \n",
      " conv2d_283 (Conv2D)            (None, 6, 6, 384)    442368      ['activation_278[0][0]']         \n",
      "                                                                                                  \n",
      " conv2d_284 (Conv2D)            (None, 6, 6, 384)    442368      ['activation_278[0][0]']         \n",
      "                                                                                                  \n",
      " average_pooling2d_26 (AverageP  (None, 6, 6, 2048)  0           ['mixed9[0][0]']                 \n",
      " ooling2D)                                                                                        \n",
      "                                                                                                  \n",
      " conv2d_277 (Conv2D)            (None, 6, 6, 320)    655360      ['mixed9[0][0]']                 \n",
      "                                                                                                  \n",
      " batch_normalization_275 (Batch  (None, 6, 6, 384)   1152        ['conv2d_279[0][0]']             \n",
      " Normalization)                                                                                   \n",
      "                                                                                                  \n",
      " batch_normalization_276 (Batch  (None, 6, 6, 384)   1152        ['conv2d_280[0][0]']             \n",
      " Normalization)                                                                                   \n",
      "                                                                                                  \n",
      " batch_normalization_279 (Batch  (None, 6, 6, 384)   1152        ['conv2d_283[0][0]']             \n",
      " Normalization)                                                                                   \n",
      "                                                                                                  \n",
      " batch_normalization_280 (Batch  (None, 6, 6, 384)   1152        ['conv2d_284[0][0]']             \n",
      " Normalization)                                                                                   \n",
      "                                                                                                  \n",
      " conv2d_285 (Conv2D)            (None, 6, 6, 192)    393216      ['average_pooling2d_26[0][0]']   \n",
      "                                                                                                  \n",
      " batch_normalization_273 (Batch  (None, 6, 6, 320)   960         ['conv2d_277[0][0]']             \n",
      " Normalization)                                                                                   \n"
     ]
    },
    {
     "name": "stdout",
     "output_type": "stream",
     "text": [
      "                                                                                                  \n",
      " activation_275 (Activation)    (None, 6, 6, 384)    0           ['batch_normalization_275[0][0]']\n",
      "                                                                                                  \n",
      " activation_276 (Activation)    (None, 6, 6, 384)    0           ['batch_normalization_276[0][0]']\n",
      "                                                                                                  \n",
      " activation_279 (Activation)    (None, 6, 6, 384)    0           ['batch_normalization_279[0][0]']\n",
      "                                                                                                  \n",
      " activation_280 (Activation)    (None, 6, 6, 384)    0           ['batch_normalization_280[0][0]']\n",
      "                                                                                                  \n",
      " batch_normalization_281 (Batch  (None, 6, 6, 192)   576         ['conv2d_285[0][0]']             \n",
      " Normalization)                                                                                   \n",
      "                                                                                                  \n",
      " activation_273 (Activation)    (None, 6, 6, 320)    0           ['batch_normalization_273[0][0]']\n",
      "                                                                                                  \n",
      " mixed9_1 (Concatenate)         (None, 6, 6, 768)    0           ['activation_275[0][0]',         \n",
      "                                                                  'activation_276[0][0]']         \n",
      "                                                                                                  \n",
      " concatenate_5 (Concatenate)    (None, 6, 6, 768)    0           ['activation_279[0][0]',         \n",
      "                                                                  'activation_280[0][0]']         \n",
      "                                                                                                  \n",
      " activation_281 (Activation)    (None, 6, 6, 192)    0           ['batch_normalization_281[0][0]']\n",
      "                                                                                                  \n",
      " mixed10 (Concatenate)          (None, 6, 6, 2048)   0           ['activation_273[0][0]',         \n",
      "                                                                  'mixed9_1[0][0]',               \n",
      "                                                                  'concatenate_5[0][0]',          \n",
      "                                                                  'activation_281[0][0]']         \n",
      "                                                                                                  \n",
      " flatten_11 (Flatten)           (None, 73728)        0           ['mixed10[0][0]']                \n",
      "                                                                                                  \n",
      " dense_22 (Dense)               (None, 256)          18874624    ['flatten_11[0][0]']             \n",
      "                                                                                                  \n",
      " dropout_10 (Dropout)           (None, 256)          0           ['dense_22[0][0]']               \n",
      "                                                                                                  \n",
      " dense_23 (Dense)               (None, 10)           2570        ['dropout_10[0][0]']             \n",
      "                                                                                                  \n",
      "==================================================================================================\n",
      "Total params: 40,679,978\n",
      "Trainable params: 40,645,546\n",
      "Non-trainable params: 34,432\n",
      "__________________________________________________________________________________________________\n"
     ]
    }
   ],
   "source": [
    "inception_model.summary()"
   ]
  },
  {
   "cell_type": "code",
   "execution_count": 140,
   "metadata": {},
   "outputs": [
    {
     "name": "stdout",
     "output_type": "stream",
     "text": [
      "Epoch 1/30\n",
      "29/29 [==============================] - 21s 248ms/step - loss: 3.4143 - accuracy: 0.4043 - val_loss: 2.0267 - val_accuracy: 0.3036\n",
      "Epoch 2/30\n",
      "29/29 [==============================] - 4s 148ms/step - loss: 1.0294 - accuracy: 0.7304 - val_loss: 1.4267 - val_accuracy: 0.5714\n",
      "Epoch 3/30\n",
      "29/29 [==============================] - 4s 144ms/step - loss: 0.5134 - accuracy: 0.8000 - val_loss: 1.1904 - val_accuracy: 0.6429\n",
      "Epoch 4/30\n",
      "29/29 [==============================] - 6s 210ms/step - loss: 0.2152 - accuracy: 0.9130 - val_loss: 0.9765 - val_accuracy: 0.7679\n",
      "Epoch 5/30\n",
      "29/29 [==============================] - 9s 286ms/step - loss: 0.2126 - accuracy: 0.9435 - val_loss: 1.0021 - val_accuracy: 0.7500\n",
      "Epoch 6/30\n",
      "29/29 [==============================] - 4s 149ms/step - loss: 0.2363 - accuracy: 0.9087 - val_loss: 1.0231 - val_accuracy: 0.7321\n",
      "Epoch 7/30\n",
      "29/29 [==============================] - 4s 153ms/step - loss: 0.1824 - accuracy: 0.9522 - val_loss: 0.7574 - val_accuracy: 0.8393\n",
      "Epoch 8/30\n",
      "29/29 [==============================] - 5s 169ms/step - loss: 0.1609 - accuracy: 0.9478 - val_loss: 0.5400 - val_accuracy: 0.8750\n",
      "Epoch 9/30\n",
      "29/29 [==============================] - 5s 190ms/step - loss: 0.0803 - accuracy: 0.9696 - val_loss: 0.4816 - val_accuracy: 0.8929\n",
      "Epoch 10/30\n",
      "29/29 [==============================] - 5s 180ms/step - loss: 0.0948 - accuracy: 0.9739 - val_loss: 0.4667 - val_accuracy: 0.9107\n",
      "Epoch 11/30\n",
      "29/29 [==============================] - 5s 166ms/step - loss: 0.0686 - accuracy: 0.9783 - val_loss: 0.5978 - val_accuracy: 0.8929\n",
      "Epoch 12/30\n",
      "29/29 [==============================] - 5s 181ms/step - loss: 0.0720 - accuracy: 0.9826 - val_loss: 0.3072 - val_accuracy: 0.9643\n",
      "Epoch 13/30\n",
      "29/29 [==============================] - 5s 159ms/step - loss: 0.0590 - accuracy: 0.9870 - val_loss: 0.4362 - val_accuracy: 0.9464\n",
      "Epoch 14/30\n",
      "29/29 [==============================] - 4s 147ms/step - loss: 0.1315 - accuracy: 0.9652 - val_loss: 0.6962 - val_accuracy: 0.8929\n",
      "Epoch 15/30\n",
      "29/29 [==============================] - 5s 172ms/step - loss: 0.0679 - accuracy: 0.9826 - val_loss: 0.4330 - val_accuracy: 0.9107\n",
      "Epoch 16/30\n",
      "29/29 [==============================] - 5s 166ms/step - loss: 0.0509 - accuracy: 0.9783 - val_loss: 0.4001 - val_accuracy: 0.9464\n",
      "Epoch 17/30\n",
      "29/29 [==============================] - 5s 156ms/step - loss: 0.0427 - accuracy: 0.9913 - val_loss: 0.4370 - val_accuracy: 0.9286\n",
      "Epoch 18/30\n",
      "29/29 [==============================] - 5s 158ms/step - loss: 0.0532 - accuracy: 0.9870 - val_loss: 0.4652 - val_accuracy: 0.9286\n",
      "Epoch 19/30\n",
      "29/29 [==============================] - 5s 168ms/step - loss: 0.0484 - accuracy: 0.9783 - val_loss: 0.5417 - val_accuracy: 0.9464\n",
      "Epoch 20/30\n",
      "29/29 [==============================] - 6s 198ms/step - loss: 0.0832 - accuracy: 0.9739 - val_loss: 0.3797 - val_accuracy: 0.9286\n",
      "Epoch 21/30\n",
      "29/29 [==============================] - 5s 156ms/step - loss: 0.0580 - accuracy: 0.9739 - val_loss: 0.3924 - val_accuracy: 0.9286\n",
      "Epoch 22/30\n",
      "29/29 [==============================] - 5s 172ms/step - loss: 0.0639 - accuracy: 0.9739 - val_loss: 0.3741 - val_accuracy: 0.9464\n",
      "Epoch 23/30\n",
      "29/29 [==============================] - 6s 198ms/step - loss: 0.0213 - accuracy: 0.9957 - val_loss: 0.2742 - val_accuracy: 0.9643\n",
      "Epoch 24/30\n",
      "29/29 [==============================] - 6s 203ms/step - loss: 0.0121 - accuracy: 0.9957 - val_loss: 0.3428 - val_accuracy: 0.9286\n",
      "Epoch 25/30\n",
      "29/29 [==============================] - 5s 171ms/step - loss: 0.0287 - accuracy: 0.9870 - val_loss: 0.2363 - val_accuracy: 0.9643\n",
      "Epoch 26/30\n",
      "29/29 [==============================] - 5s 162ms/step - loss: 0.0130 - accuracy: 0.9913 - val_loss: 0.3672 - val_accuracy: 0.9286\n",
      "Epoch 27/30\n",
      "29/29 [==============================] - 4s 150ms/step - loss: 0.0187 - accuracy: 0.9957 - val_loss: 0.4012 - val_accuracy: 0.9286\n",
      "Epoch 28/30\n",
      "29/29 [==============================] - 5s 176ms/step - loss: 0.0128 - accuracy: 1.0000 - val_loss: 0.3834 - val_accuracy: 0.9643\n",
      "Epoch 29/30\n",
      "29/29 [==============================] - 6s 198ms/step - loss: 0.0248 - accuracy: 0.9913 - val_loss: 0.5645 - val_accuracy: 0.9107\n",
      "Epoch 30/30\n",
      "29/29 [==============================] - 5s 167ms/step - loss: 0.0175 - accuracy: 0.9957 - val_loss: 0.4776 - val_accuracy: 0.9464\n"
     ]
    }
   ],
   "source": [
    "inception_model.compile(optimizer=tf.keras.optimizers.Adam(learning_rate = 0.0001,decay = 0.001),\n",
    "              loss='sparse_categorical_crossentropy',\n",
    "              metrics=['accuracy'])\n",
    "\n",
    "epochs = 30\n",
    "batch_size = 8  # 内存不足，改小\n",
    "\n",
    "history_inception = inception_model.fit(train_generator,\n",
    "          steps_per_epoch=train_generator.n // train_generator.batch_size,\n",
    "          validation_data=valid_generator,\n",
    "          validation_steps=valid_generator.n // valid_generator.batch_size,\n",
    "          epochs=epochs,\n",
    "          verbose=1)"
   ]
  },
  {
   "cell_type": "code",
   "execution_count": 141,
   "metadata": {},
   "outputs": [
    {
     "name": "stdout",
     "output_type": "stream",
     "text": [
      "9/9 [==============================] - 0s 44ms/step - loss: 0.6399 - accuracy: 0.8889\n"
     ]
    },
    {
     "data": {
      "text/plain": [
       "0.8888888955116272"
      ]
     },
     "execution_count": 141,
     "metadata": {},
     "output_type": "execute_result"
    }
   ],
   "source": [
    "loss, acc = inception_model.evaluate(test_generator, steps=test_generator.n // test_generator.batch_size)\n",
    "acc"
   ]
  },
  {
   "cell_type": "code",
   "execution_count": 142,
   "metadata": {},
   "outputs": [],
   "source": [
    "import numpy as np\n",
    "\n",
    "y_pred_proba = []\n",
    "y_pred = []\n",
    "for fn in strat_test_set['X'].values:\n",
    "    img = load_img(fn, target_size=(256, 256))\n",
    "    img = img_to_array(img)\n",
    "    img = img / 255.  # rescale\n",
    "    img = np.expand_dims(img, axis=0)\n",
    "    pred_proba = inception_model.predict(img, verbose=0)[0]\n",
    "    y_pred_proba.append(pred_proba)\n",
    "    pred = np.argmax(pred_proba)\n",
    "    y_pred.append(pred)"
   ]
  },
  {
   "cell_type": "code",
   "execution_count": 143,
   "metadata": {},
   "outputs": [
    {
     "name": "stdout",
     "output_type": "stream",
     "text": [
      "              precision    recall  f1-score   support\n",
      "\n",
      "           0       1.00      0.50      0.67         4\n",
      "           1       0.86      1.00      0.92         6\n",
      "           2       1.00      1.00      1.00         7\n",
      "           3       0.89      0.89      0.89         9\n",
      "           4       0.83      0.71      0.77         7\n",
      "           5       0.64      1.00      0.78         9\n",
      "           6       1.00      1.00      1.00        10\n",
      "           7       1.00      0.89      0.94         9\n",
      "           8       1.00      0.89      0.94         9\n",
      "           9       1.00      0.80      0.89         5\n",
      "\n",
      "    accuracy                           0.89        75\n",
      "   macro avg       0.92      0.87      0.88        75\n",
      "weighted avg       0.92      0.89      0.89        75\n",
      "\n"
     ]
    }
   ],
   "source": [
    "print(classification_report(y_true, y_pred))"
   ]
  },
  {
   "cell_type": "code",
   "execution_count": 144,
   "metadata": {},
   "outputs": [
    {
     "data": {
      "text/plain": [
       "0.8801713773580782"
      ]
     },
     "execution_count": 144,
     "metadata": {},
     "output_type": "execute_result"
    }
   ],
   "source": [
    "f1_score(y_true, y_pred, average='macro')"
   ]
  },
  {
   "cell_type": "code",
   "execution_count": 145,
   "metadata": {},
   "outputs": [
    {
     "data": {
      "text/plain": [
       "0.8933333333333333"
      ]
     },
     "execution_count": 145,
     "metadata": {},
     "output_type": "execute_result"
    }
   ],
   "source": [
    "accuracy_score(y_true, y_pred)"
   ]
  },
  {
   "cell_type": "code",
   "execution_count": null,
   "metadata": {},
   "outputs": [],
   "source": []
  }
 ],
 "metadata": {
  "kernelspec": {
   "display_name": "Python 3 (ipykernel)",
   "language": "python",
   "name": "python3"
  },
  "language_info": {
   "codemirror_mode": {
    "name": "ipython",
    "version": 3
   },
   "file_extension": ".py",
   "mimetype": "text/x-python",
   "name": "python",
   "nbconvert_exporter": "python",
   "pygments_lexer": "ipython3",
   "version": "3.9.12"
  }
 },
 "nbformat": 4,
 "nbformat_minor": 2
}
